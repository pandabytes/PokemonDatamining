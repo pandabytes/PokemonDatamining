{
 "cells": [
  {
   "cell_type": "markdown",
   "metadata": {},
   "source": [
    "# Using Decision Tree & Naive Bayes to classify Pokemon"
   ]
  },
  {
   "cell_type": "markdown",
   "metadata": {},
   "source": [
    "## Import libraries"
   ]
  },
  {
   "cell_type": "code",
   "execution_count": 1,
   "metadata": {
    "scrolled": true
   },
   "outputs": [
    {
     "name": "stderr",
     "output_type": "stream",
     "text": [
      "C:\\Users\\Huy\\Anaconda3\\envs\\cs235\\lib\\site-packages\\pandas_profiling\\plot.py:15: UserWarning: matplotlib.pyplot as already been imported, this call will have no effect.\n",
      "  matplotlib.use(BACKEND)\n"
     ]
    }
   ],
   "source": [
    "import gc\n",
    "import random\n",
    "import time\n",
    "import math\n",
    "import numpy as np\n",
    "import pandas as pd\n",
    "import matplotlib.pyplot as plt\n",
    "from sklearn.metrics import roc_curve, auc\n",
    "# import pandas_profiling as pdp\n",
    "import utils as ut\n",
    "import decisionTree as dt\n",
    "import naiveBayes as nb\n",
    "\n",
    "%matplotlib inline\n",
    "%load_ext autoreload\n",
    "%autoreload 2"
   ]
  },
  {
   "cell_type": "code",
   "execution_count": null,
   "metadata": {},
   "outputs": [],
   "source": [
    "%reload_ext autoreload"
   ]
  },
  {
   "cell_type": "code",
   "execution_count": 2,
   "metadata": {},
   "outputs": [],
   "source": [
    "# Set packages options\n",
    "# np.set_printoptions(threshold=np.nan)\n",
    "# pd.set_option(\"display.max_columns\", 600)\n",
    "plt.rcParams[\"figure.figsize\"] = (9, 5)"
   ]
  },
  {
   "cell_type": "markdown",
   "metadata": {},
   "source": [
    "## Define constants and functions"
   ]
  },
  {
   "cell_type": "code",
   "execution_count": 3,
   "metadata": {},
   "outputs": [],
   "source": [
    "# Constants\n",
    "TypeColorMappings = {\"Water\": \"#6890F0\", \"Fire\": \"#F08030\", \"Grass\": \"#78C850\",\n",
    "                     \"Dark\": \"#705848\", \"Electric\": \"#F8D030\", \"Flying\": \"#A890F0\",\n",
    "                     \"Normal\": \"#A8A878\", \"Fighting\": \"#C03028\", \"Poison\": \"#A040A0\",\n",
    "                     \"Ground\": \"#E0C068\", \"Psychic\": \"#F85888\", \"Rock\": \"#B8A038\", \n",
    "                     \"Ice\": \"#98D8D8\", \"Bug\": \"#A8B820\", \"Dragon\": \"#7038F8\", \n",
    "                     \"Ghost\": \"#705898\", \"Steel\": \"#B8B8D0\", \"Fairy\": \"#EE99AC\"}\n",
    "\n",
    "DropColumns = [\"Pokedex\", \"Name\", \"Generation\", \"Category\"]\n",
    "\n",
    "def getColorList(typeCounts):\n",
    "    assert type(typeCounts) == pd.core.series.Series, \"Argument must be a Series object\"\n",
    "    return [TypeColorMappings[pokemonType] for pokemonType in typeCounts.index]\n",
    "\n",
    "def getRandomColor():\n",
    "    return \"#%02X%02X%02X\" % (random.randint(0,255), random.randint(0,255), random.randint(0,255))\n",
    "\n",
    "def filterByValue(dataFrame, column, value):\n",
    "    return dataFrame[dataFrame[column] == value]"
   ]
  },
  {
   "cell_type": "markdown",
   "metadata": {},
   "source": [
    "## Load the data from file"
   ]
  },
  {
   "cell_type": "code",
   "execution_count": 4,
   "metadata": {
    "scrolled": false
   },
   "outputs": [
    {
     "data": {
      "text/html": [
       "<div>\n",
       "<style scoped>\n",
       "    .dataframe tbody tr th:only-of-type {\n",
       "        vertical-align: middle;\n",
       "    }\n",
       "\n",
       "    .dataframe tbody tr th {\n",
       "        vertical-align: top;\n",
       "    }\n",
       "\n",
       "    .dataframe thead th {\n",
       "        text-align: right;\n",
       "    }\n",
       "</style>\n",
       "<table border=\"1\" class=\"dataframe\">\n",
       "  <thead>\n",
       "    <tr style=\"text-align: right;\">\n",
       "      <th></th>\n",
       "      <th>Generation</th>\n",
       "      <th>Pokedex</th>\n",
       "      <th>Name</th>\n",
       "      <th>Category</th>\n",
       "      <th>Type 1</th>\n",
       "      <th>Type 2</th>\n",
       "      <th>Ability 1</th>\n",
       "      <th>Ability 2</th>\n",
       "      <th>Ability 3</th>\n",
       "      <th>MaleRatio</th>\n",
       "      <th>...</th>\n",
       "      <th>EggGroup 1</th>\n",
       "      <th>EggGroup 2</th>\n",
       "      <th>HP</th>\n",
       "      <th>Attack</th>\n",
       "      <th>Defense</th>\n",
       "      <th>Sp.Attack</th>\n",
       "      <th>Sp.Defense</th>\n",
       "      <th>Speed</th>\n",
       "      <th>Total</th>\n",
       "      <th>Group</th>\n",
       "    </tr>\n",
       "  </thead>\n",
       "  <tbody>\n",
       "    <tr>\n",
       "      <th>921</th>\n",
       "      <td>7.0</td>\n",
       "      <td>793.0</td>\n",
       "      <td>Nihilego</td>\n",
       "      <td>Parasite Pokemon</td>\n",
       "      <td>Rock</td>\n",
       "      <td>Poison</td>\n",
       "      <td>Beast Boost</td>\n",
       "      <td>None</td>\n",
       "      <td>None</td>\n",
       "      <td>0.0</td>\n",
       "      <td>...</td>\n",
       "      <td>Undiscovered</td>\n",
       "      <td>None</td>\n",
       "      <td>109.0</td>\n",
       "      <td>53.0</td>\n",
       "      <td>47.0</td>\n",
       "      <td>127.0</td>\n",
       "      <td>131.0</td>\n",
       "      <td>103.0</td>\n",
       "      <td>570</td>\n",
       "      <td>Ultra Beast</td>\n",
       "    </tr>\n",
       "    <tr>\n",
       "      <th>568</th>\n",
       "      <td>4.0</td>\n",
       "      <td>484.0</td>\n",
       "      <td>Palkia</td>\n",
       "      <td>Spatial Pokemon</td>\n",
       "      <td>Water</td>\n",
       "      <td>Dragon</td>\n",
       "      <td>Telepathy</td>\n",
       "      <td>Pressure</td>\n",
       "      <td>None</td>\n",
       "      <td>0.0</td>\n",
       "      <td>...</td>\n",
       "      <td>Undiscovered</td>\n",
       "      <td>None</td>\n",
       "      <td>90.0</td>\n",
       "      <td>120.0</td>\n",
       "      <td>100.0</td>\n",
       "      <td>150.0</td>\n",
       "      <td>120.0</td>\n",
       "      <td>100.0</td>\n",
       "      <td>680</td>\n",
       "      <td>Legendary</td>\n",
       "    </tr>\n",
       "    <tr>\n",
       "      <th>20</th>\n",
       "      <td>1.0</td>\n",
       "      <td>16.0</td>\n",
       "      <td>Pidgey</td>\n",
       "      <td>Tiny Bird Pokemon</td>\n",
       "      <td>Normal</td>\n",
       "      <td>Flying</td>\n",
       "      <td>Keen Eye</td>\n",
       "      <td>Big Pecks</td>\n",
       "      <td>Tangled Feet</td>\n",
       "      <td>50.0</td>\n",
       "      <td>...</td>\n",
       "      <td>Flying</td>\n",
       "      <td>None</td>\n",
       "      <td>40.0</td>\n",
       "      <td>45.0</td>\n",
       "      <td>40.0</td>\n",
       "      <td>35.0</td>\n",
       "      <td>35.0</td>\n",
       "      <td>56.0</td>\n",
       "      <td>251</td>\n",
       "      <td>Ordinary</td>\n",
       "    </tr>\n",
       "    <tr>\n",
       "      <th>770</th>\n",
       "      <td>6.0</td>\n",
       "      <td>667.0</td>\n",
       "      <td>Litleo</td>\n",
       "      <td>Lion Cub Pokemon</td>\n",
       "      <td>Fire</td>\n",
       "      <td>Normal</td>\n",
       "      <td>Moxie</td>\n",
       "      <td>Unnerve</td>\n",
       "      <td>Rivalry</td>\n",
       "      <td>12.5</td>\n",
       "      <td>...</td>\n",
       "      <td>Field</td>\n",
       "      <td>None</td>\n",
       "      <td>62.0</td>\n",
       "      <td>50.0</td>\n",
       "      <td>58.0</td>\n",
       "      <td>73.0</td>\n",
       "      <td>54.0</td>\n",
       "      <td>72.0</td>\n",
       "      <td>369</td>\n",
       "      <td>Ordinary</td>\n",
       "    </tr>\n",
       "    <tr>\n",
       "      <th>402</th>\n",
       "      <td>3.0</td>\n",
       "      <td>349.0</td>\n",
       "      <td>Feebas</td>\n",
       "      <td>Fish Pokemon</td>\n",
       "      <td>Water</td>\n",
       "      <td>None</td>\n",
       "      <td>Oblivious</td>\n",
       "      <td>Swift Swim</td>\n",
       "      <td>Adaptability</td>\n",
       "      <td>50.0</td>\n",
       "      <td>...</td>\n",
       "      <td>Water 1</td>\n",
       "      <td>Dragon</td>\n",
       "      <td>20.0</td>\n",
       "      <td>15.0</td>\n",
       "      <td>20.0</td>\n",
       "      <td>10.0</td>\n",
       "      <td>55.0</td>\n",
       "      <td>80.0</td>\n",
       "      <td>200</td>\n",
       "      <td>Ordinary</td>\n",
       "    </tr>\n",
       "  </tbody>\n",
       "</table>\n",
       "<p>5 rows × 23 columns</p>\n",
       "</div>"
      ],
      "text/plain": [
       "     Generation  Pokedex      Name           Category  Type 1  Type 2  \\\n",
       "921         7.0    793.0  Nihilego   Parasite Pokemon    Rock  Poison   \n",
       "568         4.0    484.0    Palkia    Spatial Pokemon   Water  Dragon   \n",
       "20          1.0     16.0    Pidgey  Tiny Bird Pokemon  Normal  Flying   \n",
       "770         6.0    667.0    Litleo   Lion Cub Pokemon    Fire  Normal   \n",
       "402         3.0    349.0    Feebas       Fish Pokemon   Water    None   \n",
       "\n",
       "       Ability 1   Ability 2     Ability 3  MaleRatio     ...       \\\n",
       "921  Beast Boost        None          None        0.0     ...        \n",
       "568    Telepathy    Pressure          None        0.0     ...        \n",
       "20      Keen Eye   Big Pecks  Tangled Feet       50.0     ...        \n",
       "770        Moxie     Unnerve       Rivalry       12.5     ...        \n",
       "402    Oblivious  Swift Swim  Adaptability       50.0     ...        \n",
       "\n",
       "       EggGroup 1  EggGroup 2     HP Attack Defense  Sp.Attack  Sp.Defense  \\\n",
       "921  Undiscovered        None  109.0   53.0    47.0      127.0       131.0   \n",
       "568  Undiscovered        None   90.0  120.0   100.0      150.0       120.0   \n",
       "20         Flying        None   40.0   45.0    40.0       35.0        35.0   \n",
       "770         Field        None   62.0   50.0    58.0       73.0        54.0   \n",
       "402       Water 1      Dragon   20.0   15.0    20.0       10.0        55.0   \n",
       "\n",
       "     Speed  Total        Group  \n",
       "921  103.0    570  Ultra Beast  \n",
       "568  100.0    680    Legendary  \n",
       "20    56.0    251     Ordinary  \n",
       "770   72.0    369     Ordinary  \n",
       "402   80.0    200     Ordinary  \n",
       "\n",
       "[5 rows x 23 columns]"
      ]
     },
     "execution_count": 4,
     "metadata": {},
     "output_type": "execute_result"
    }
   ],
   "source": [
    "# Load the Pokemon data\n",
    "fileName = r'.\\Pokemon_Cleaned.tsv'\n",
    "columnTypes = {\"Name\": str, \"Category\": str, \"Type 1\": str, \"Type 2\": str, \n",
    "               \"Ability 1\": str, \"Ability 2\": str, \"Ability 3\": str, \"Group\": str}\n",
    "data = pd.read_csv(fileName, header=0, sep='\\t', dtype=columnTypes)\n",
    "data.sample(5)"
   ]
  },
  {
   "cell_type": "markdown",
   "metadata": {},
   "source": [
    "## Plot graphs to visualize and understand the data"
   ]
  },
  {
   "cell_type": "markdown",
   "metadata": {},
   "source": [
    "### Group Distribution"
   ]
  },
  {
   "cell_type": "code",
   "execution_count": null,
   "metadata": {},
   "outputs": [],
   "source": [
    "# Plot Group occurences to see the distributions\n",
    "groupFig, groupAxes = plt.subplots(nrows=1, ncols=1)\n",
    "groupCounts = data[\"Group\"].value_counts()\n",
    "groupAxe = groupCounts.plot(title=\"Group\", kind=\"bar\")\n",
    "groupAxe.set(xlabel=\"Group Types\", ylabel=\"Count\")\n",
    "plt.show()"
   ]
  },
  {
   "cell_type": "markdown",
   "metadata": {},
   "source": [
    "### Plots of Pokemon vs. All Continuous Features & Generation vs. All Continuous Features"
   ]
  },
  {
   "cell_type": "code",
   "execution_count": null,
   "metadata": {
    "scrolled": true
   },
   "outputs": [],
   "source": [
    "ordi = filterByValue(data, \"Group\", \"Ordinary\")\n",
    "lg = filterByValue(data, \"Group\", \"Legendary\")\n",
    "ub = filterByValue(data, \"Group\", \"Ultra Beast\")\n",
    "\n",
    "continuousFeatures = data.select_dtypes(include=[np.int64, np.float64]).drop([\"Generation\", \"Pokedex\"], axis=1)\n",
    "combinations = []\n",
    "\n",
    "for x in continuousFeatures:    \n",
    "    for y in continuousFeatures:\n",
    "        if not ((x, y) in combinations or (y, x) in combinations) and (x != y):\n",
    "            combinations.append((x, y))\n",
    "\n",
    "for x, y in combinations:\n",
    "    axe = ordi.plot(x, y, kind=\"scatter\", c=\"b\")\n",
    "    lg.plot(x, y, kind=\"scatter\", c=\"r\", ax=axe)\n",
    "    ub.plot(x, y, kind=\"scatter\", c=\"g\", ax=axe)\n",
    "    \n",
    "#     figure, axes = plt.subplots(nrows=1, ncols=2, figsize=(16,6.5))\n",
    "    \n",
    "#     axes[0].set_xlabel(\"Pokemon Index\")\n",
    "#     axes[0].set_ylabel(feature)\n",
    "#     axes[0].scatter(ordi.index, ordi[feature], c=\"b\", label=\"Ordinary\")\n",
    "#     axes[0].scatter(lg.index, lg[feature], c=\"r\", label=\"Legendary\")\n",
    "#     axes[0].scatter(ub.index, ub[feature], c=\"g\", label=\"Ultra Beast\")\n",
    "#     axes[0].legend(loc='best')\n",
    "    \n",
    "#     axes[1].set_xlabel(\"Generation\")\n",
    "#     axes[1].set_ylabel(feature)\n",
    "#     axes[1].scatter(ordi[\"Generation\"], ordi[feature], c=\"b\", label=\"Ordinary\")\n",
    "#     axes[1].scatter(lg[\"Generation\"], lg[feature], c=\"r\", label=\"Legendary\")\n",
    "#     axes[1].scatter(ub[\"Generation\"], ub[feature], c=\"g\", label=\"Ultra Beast\")\n",
    "#     axes[1].legend(loc='best')"
   ]
  },
  {
   "cell_type": "markdown",
   "metadata": {},
   "source": [
    "### Histograms of Continuous Features"
   ]
  },
  {
   "cell_type": "code",
   "execution_count": null,
   "metadata": {
    "scrolled": true
   },
   "outputs": [],
   "source": [
    "data.hist(figsize=(20,20))\n",
    "plt.show()"
   ]
  },
  {
   "cell_type": "markdown",
   "metadata": {},
   "source": [
    "We can see that features with uniform distribution may not contribute much to Decision Tree model because the model will be biased toward to those features since there is more entropy within those features."
   ]
  },
  {
   "cell_type": "markdown",
   "metadata": {},
   "source": [
    "### Box Plot of Total & Group"
   ]
  },
  {
   "cell_type": "code",
   "execution_count": null,
   "metadata": {
    "scrolled": false
   },
   "outputs": [],
   "source": [
    "data.boxplot(\"Total\", \"Group\")\n",
    "plt.title(\"Total & Group\")\n",
    "plt.suptitle(\"\")\n",
    "plt.show()"
   ]
  },
  {
   "cell_type": "markdown",
   "metadata": {},
   "source": [
    "<p> According to the boxplot above, we can see that despite having a small quanity in size, <b>Legendary Pokemon</b> has the highest <b>Total</b> stats compared to the other 2 groups.</p>"
   ]
  },
  {
   "cell_type": "markdown",
   "metadata": {},
   "source": [
    "## Training & Test Data"
   ]
  },
  {
   "cell_type": "code",
   "execution_count": 15,
   "metadata": {},
   "outputs": [],
   "source": [
    "Target = \"Group\"\n",
    "Labels = data[Target].unique()\n",
    "LabelColors = {\"Ordinary\": \"b\", \"Legendary\": \"r\", \"Ultra Beast\": \"g\"}\n",
    "#ProbThresholds = pd.Series({\"Ordinary\": 0.4, \"Ultra Beast\": 0.3, \"Legendary\": 0.3})\n",
    "\n",
    "# injectedData = ut.injectMinoritySample([\"Ultra Beast\", \"Legendary\"], \"Group\", data)\n",
    "reducedData = data.drop(DropColumns, axis=1)\n",
    "training, test = ut.splitData(Target, reducedData, 0.70)"
   ]
  },
  {
   "cell_type": "code",
   "execution_count": null,
   "metadata": {},
   "outputs": [],
   "source": [
    "print(training[Target].value_counts())\n",
    "print(test[Target].value_counts())"
   ]
  },
  {
   "cell_type": "code",
   "execution_count": 186,
   "metadata": {},
   "outputs": [],
   "source": [
    "# del thresholds[:]\n",
    "# thresholds = []\n",
    "# for i in range(10):\n",
    "#     randomProbs = np.random.dirichlet(np.ones(3), size=1)[0]\n",
    "#     series = pd.Series(randomProbs, index=labels)\n",
    "#     thresholds.append(series)\n",
    "#     threshold = i/10\n",
    "#     otherThreshold = (1 - threshold) / 2\n",
    "#     for j in range(len(labels)):\n",
    "#         tempDict = {}\n",
    "#         tempDict[labels[j]] = threshold\n",
    "#         for k in range(len(labels)):\n",
    "#             if (k != j):\n",
    "#                 tempDict[labels[k]] = otherThreshold\n",
    "#         thresholds.append(pd.Series(tempDict))"
   ]
  },
  {
   "cell_type": "markdown",
   "metadata": {},
   "source": [
    "## Decision Tree"
   ]
  },
  {
   "cell_type": "code",
   "execution_count": 18,
   "metadata": {
    "scrolled": false
   },
   "outputs": [],
   "source": [
    "# Use Decision Tree to train on the training set and predict on the test set\n",
    "dtree = dt.DecisionTree(Target, maxDepth=4)\n",
    "dtree.train(training)\n",
    "dtPred = dtree.classify(test.drop([Target], axis=1))"
   ]
  },
  {
   "cell_type": "code",
   "execution_count": 19,
   "metadata": {},
   "outputs": [
    {
     "data": {
      "text/plain": [
       "'Error 1.06%'"
      ]
     },
     "execution_count": 19,
     "metadata": {},
     "output_type": "execute_result"
    }
   ],
   "source": [
    "dtMatrix = ut.buildConfusionMatrix(dtPred[\"Prediction\"], test[Target], Labels)\n",
    "dtPrecisions, dtRecalls = ut.getPrecisionsAndRecalls(dtMatrix, Labels)\n",
    "dtFScores = ut.computeFScores(dtPrecisions, dtRecalls)\n",
    "\"Error {0:.2f}%\".format(ut.computeError(dtPred[\"Prediction\"], test[\"Group\"]) * 100)"
   ]
  },
  {
   "cell_type": "markdown",
   "metadata": {},
   "source": [
    "### Decision Tree Confusion Matrix"
   ]
  },
  {
   "cell_type": "code",
   "execution_count": null,
   "metadata": {},
   "outputs": [],
   "source": [
    "dtMatrix"
   ]
  },
  {
   "cell_type": "code",
   "execution_count": null,
   "metadata": {},
   "outputs": [],
   "source": [
    "dtPrecisions"
   ]
  },
  {
   "cell_type": "code",
   "execution_count": null,
   "metadata": {},
   "outputs": [],
   "source": [
    "dtRecalls"
   ]
  },
  {
   "cell_type": "code",
   "execution_count": null,
   "metadata": {},
   "outputs": [],
   "source": [
    "dtFScores"
   ]
  },
  {
   "cell_type": "markdown",
   "metadata": {},
   "source": [
    "### Decision Tree ROC Curve"
   ]
  },
  {
   "cell_type": "code",
   "execution_count": 30,
   "metadata": {},
   "outputs": [
    {
     "data": {
      "image/png": "[encoded data removed]",
      "text/plain": [
       "<Figure size 648x360 with 1 Axes>"
      ]
     },
     "metadata": {
      "needs_background": "light"
     },
     "output_type": "display_data"
    }
   ],
   "source": [
    "# For each label, treat other labels as \"negative\"\n",
    "for label in Labels:\n",
    "    c = LabelColors[label]\n",
    "    fpr, tpr, rocThresholds = roc_curve(y_true=test[Target], y_score=[v[1] for v in dtPred.values], pos_label=label)\n",
    "    rocAuc = auc(fpr, tpr)\n",
    "    plt.plot(fpr, tpr, c, label='{0} AUC = {1:.2f}'.format(label, rocAuc))\n",
    "    \n",
    "plt.title('Receiver Operating Characteristic')\n",
    "plt.legend(loc='best')\n",
    "plt.plot([0,1],[0,1],'r--')\n",
    "plt.xlim([0, 1.05])\n",
    "plt.ylim([0, 1.05])\n",
    "plt.ylabel('True Positive Rate')\n",
    "plt.xlabel('False Positive Rate')\n",
    "plt.show()"
   ]
  },
  {
   "cell_type": "markdown",
   "metadata": {},
   "source": [
    "### Decision Tree Depth"
   ]
  },
  {
   "cell_type": "code",
   "execution_count": null,
   "metadata": {},
   "outputs": [],
   "source": [
    "treeDepths = [i for i in range(10)]\n",
    "depthErrors = []\n",
    "for depth in treeDepths:\n",
    "    learner = dt.DecisionTree(Target, depth)\n",
    "    learner.train(training, quiet=True)\n",
    "    pred = learner.classify(test.drop([Target], axis=1))\n",
    "    err = ut.computeError(pred, test[\"Group\"])\n",
    "    depthErrors.append(err)"
   ]
  },
  {
   "cell_type": "code",
   "execution_count": null,
   "metadata": {},
   "outputs": [],
   "source": [
    "plt.plot(treeDepths, depthErrors, 'bo-')\n",
    "plt.title(\"Decision Tree Depth\")\n",
    "plt.xlabel(\"Tree Depth\")\n",
    "plt.ylabel(\"Error Rate\")\n",
    "plt.show()"
   ]
  },
  {
   "cell_type": "markdown",
   "metadata": {},
   "source": [
    "### Decision Tree Precision-Recall Curve"
   ]
  },
  {
   "cell_type": "code",
   "execution_count": 25,
   "metadata": {},
   "outputs": [
    {
     "name": "stdout",
     "output_type": "stream",
     "text": [
      "Function \"train\" took 18.22 seconds to complete\n"
     ]
    }
   ],
   "source": [
    "dtree = dt.DecisionTree(Target, maxDepth=3)\n",
    "dtree.train(training)\n",
    "dtPred = dtree.classify(test.drop([Target], axis=1))"
   ]
  },
  {
   "cell_type": "code",
   "execution_count": 54,
   "metadata": {},
   "outputs": [
    {
     "data": {
      "text/plain": [
       "{1, 2}"
      ]
     },
     "execution_count": 54,
     "metadata": {},
     "output_type": "execute_result"
    }
   ],
   "source": [
    "# pd.Series({\"Ord\": 12, \"UB\": 33})\n",
    "set([1,2,3]) - set([3])"
   ]
  },
  {
   "cell_type": "code",
   "execution_count": null,
   "metadata": {},
   "outputs": [],
   "source": [
    "ut.foo(dtPred, Labels)"
   ]
  },
  {
   "cell_type": "code",
   "execution_count": null,
   "metadata": {},
   "outputs": [],
   "source": [
    "precisions = []\n",
    "recalls = []\n",
    "for t in thresholds:\n",
    "    model = dt.DecisionTree(Target, maxDepth=3, probThresholds=t)\n",
    "    model.train(training, quiet=True)\n",
    "    pred = model.classify(test.drop([target], axis=1))\n",
    "    matrix = ut.buildConfusionMatrix(pred[\"Prediction\"], test[Target], Labels)\n",
    "    precision, recall = ut.getPrecisionsAndRecalls(matrix, Labels)\n",
    "    \n",
    "    precisions.append(precision)\n",
    "    recalls.append(recall)"
   ]
  },
  {
   "cell_type": "code",
   "execution_count": null,
   "metadata": {},
   "outputs": [],
   "source": [
    "ordiPR = []\n",
    "lgPR = []\n",
    "ubPR = []\n",
    "for p, r in zip(precisions, recalls):\n",
    "    ordiPR.append((r[\"Ordinary\"], p[\"Ordinary\"]))\n",
    "    lgPR.append((r[\"Legendary\"], p[\"Legendary\"]))\n",
    "    ubPR.append((r[\"Ultra Beast\"], p[\"Ultra Beast\"]))\n",
    "\n",
    "ordiPR.sort(key=lambda x: x[0])\n",
    "lgPR.sort(key=lambda x: x[0])\n",
    "ubPR.sort(key=lambda x: x[0])"
   ]
  },
  {
   "cell_type": "code",
   "execution_count": null,
   "metadata": {},
   "outputs": [],
   "source": [
    "figure, axes = plt.subplots(nrows=1, ncols=3, figsize=(16,6.5))\n",
    "    \n",
    "axes[0].set_xlabel(\"Recall\")\n",
    "axes[0].set_ylabel(\"Precision\")\n",
    "# axes[0].set_xlim([0, 1])\n",
    "axes[0].plot([i[0] for i in ordiPR], [i[1] for i in ordiPR], 'bo-')\n",
    "\n",
    "axes[1].set_xlabel(\"Recall\")\n",
    "axes[1].set_ylabel(\"Precision\")\n",
    "# axes[1].set_xlim([0, 1])\n",
    "axes[1].plot([i[0] for i in lgPR], [i[1] for i in lgPR], 'ro-')\n",
    "\n",
    "axes[2].set_xlabel(\"Recall\")\n",
    "axes[2].set_ylabel(\"Precision\")\n",
    "# axes[2].set_xlim([0, 1.3])\n",
    "# axes[2].set_ylim([0, 1.3])\n",
    "axes[2].plot([i[0] for i in ubPR], [i[1] for i in ubPR], 'go-')"
   ]
  },
  {
   "cell_type": "markdown",
   "metadata": {},
   "source": [
    "### Decision Tree K Fold Cross Validation"
   ]
  },
  {
   "cell_type": "code",
   "execution_count": null,
   "metadata": {
    "scrolled": false
   },
   "outputs": [],
   "source": [
    "dtKErrors = ut.kFoldCrossValidationResult(10, Target, training, dtree)"
   ]
  },
  {
   "cell_type": "code",
   "execution_count": null,
   "metadata": {},
   "outputs": [],
   "source": [
    "# Compute the and means, variances, and standard deviations of the k fold cross validation result\n",
    "means = [sum(e) / len(e) for e in dtKErrors]\n",
    "stds =  []\n",
    "variances = []\n",
    "\n",
    "for e, m in zip(dtKErrors, means):\n",
    "    v = sum(map(lambda x: (x - m)**2, e)) / len(e)\n",
    "    s = math.sqrt(v)\n",
    "    variances.append(v)\n",
    "    stds.append(s)"
   ]
  },
  {
   "cell_type": "code",
   "execution_count": null,
   "metadata": {},
   "outputs": [],
   "source": [
    "# Plot the error rates represented by the mean, variance, and standard deviation\n",
    "figure, axes = plt.subplots(nrows=2, ncols=2, figsize=(16, 8))\n",
    "figure.subplots_adjust(top=1.5, bottom=0.5)\n",
    "\n",
    "kRange = range(2, 2 + len(means))\n",
    "\n",
    "axes[0, 0].plot([i for i in kRange], means, \"bo-\", label=\"Mean\")\n",
    "axes[0, 0].plot([i for i in kRange], variances, \"ro-\", label=\"Variance\")\n",
    "axes[0, 0].plot([i for i in kRange], stds, \"go-\", label=\"Standard Deviation\")\n",
    "axes[0, 0].set_title(\"Decision Tree K Fold Error Summary\")\n",
    "axes[0, 0].set_xlabel(\"k Folds\")\n",
    "axes[0, 0].set_ylabel(\"Error Rate\")\n",
    "axes[0, 0].legend(loc=\"best\")\n",
    "\n",
    "axes[0, 1].plot([i for i in kRange], means, \"bo-\", label=\"Mean\")\n",
    "axes[0, 1].set_title(\"Decision Tree K Fold Mean Error\")\n",
    "axes[0, 1].set_xlabel(\"k Folds\")\n",
    "axes[0, 1].set_ylabel(\"Error Rate\")\n",
    "axes[0, 1].legend(loc=\"best\")\n",
    "\n",
    "axes[1, 1].plot([i for i in kRange], variances, \"ro-\", label=\"Variance\")\n",
    "axes[1, 1].set_title(\"Decision Tree K Fold Variance Error\")\n",
    "axes[1, 1].set_xlabel(\"k Folds\")\n",
    "axes[1, 1].set_ylabel(\"Error Rate\")\n",
    "axes[1, 1].legend(loc=\"best\")\n",
    "\n",
    "axes[1, 0].plot([i for i in kRange], stds, \"go-\", label=\"Standard Deviation\")\n",
    "axes[1, 0].set_title(\"Decision Tree K Fold Standard Deviation Error\")\n",
    "axes[1, 0].set_xlabel(\"k Folds\")\n",
    "axes[1, 0].set_ylabel(\"Error Rate\")\n",
    "axes[1, 0].legend(loc=\"best\")\n",
    "plt.show()"
   ]
  },
  {
   "cell_type": "markdown",
   "metadata": {},
   "source": [
    "## Naive Bayes"
   ]
  },
  {
   "cell_type": "code",
   "execution_count": 60,
   "metadata": {
    "scrolled": true
   },
   "outputs": [
    {
     "name": "stdout",
     "output_type": "stream",
     "text": [
      "Function \"train\" took 4.24 seconds to complete\n",
      "Function \"classify\" took 11.77 seconds to complete\n"
     ]
    }
   ],
   "source": [
    "# Use Naive Bayes to train on the training set and predict on the test data set\n",
    "nBayes = nb.NaiveBayes(Target, Labels)\n",
    "nBayes.train(training)\n",
    "nbPred = nBayes.classify(test.drop([Target], axis=1))"
   ]
  },
  {
   "cell_type": "code",
   "execution_count": 61,
   "metadata": {},
   "outputs": [
    {
     "data": {
      "text/plain": [
       "'Error: 21.28%'"
      ]
     },
     "execution_count": 61,
     "metadata": {},
     "output_type": "execute_result"
    }
   ],
   "source": [
    "nbMatrix = ut.buildConfusionMatrix(nbPred[\"Prediction\"], test[Target], Labels)\n",
    "nbPrecisions, nbRecalls = ut.getPrecisionsAndRecalls(nbMatrix, Labels)\n",
    "nbFScores = ut.computeFScores(nbPrecisions, nbRecalls)\n",
    "\"Error: {0:.2f}%\".format(ut.computeError(nbPred[\"Prediction\"], test[\"Group\"]) * 100)"
   ]
  },
  {
   "cell_type": "markdown",
   "metadata": {},
   "source": [
    "### Naive Bayes Confustion Matrix"
   ]
  },
  {
   "cell_type": "code",
   "execution_count": 62,
   "metadata": {},
   "outputs": [
    {
     "data": {
      "text/html": [
       "<div>\n",
       "<style scoped>\n",
       "    .dataframe tbody tr th:only-of-type {\n",
       "        vertical-align: middle;\n",
       "    }\n",
       "\n",
       "    .dataframe tbody tr th {\n",
       "        vertical-align: top;\n",
       "    }\n",
       "\n",
       "    .dataframe thead th {\n",
       "        text-align: right;\n",
       "    }\n",
       "</style>\n",
       "<table border=\"1\" class=\"dataframe\">\n",
       "  <thead>\n",
       "    <tr style=\"text-align: right;\">\n",
       "      <th></th>\n",
       "      <th>Predicted Legendary</th>\n",
       "      <th>Predicted Ordinary</th>\n",
       "      <th>Predicted Ultra Beast</th>\n",
       "      <th>Total</th>\n",
       "    </tr>\n",
       "  </thead>\n",
       "  <tbody>\n",
       "    <tr>\n",
       "      <th>Actual Legendary</th>\n",
       "      <td>19</td>\n",
       "      <td>1</td>\n",
       "      <td>7</td>\n",
       "      <td>27</td>\n",
       "    </tr>\n",
       "    <tr>\n",
       "      <th>Actual Ordinary</th>\n",
       "      <td>2</td>\n",
       "      <td>200</td>\n",
       "      <td>48</td>\n",
       "      <td>250</td>\n",
       "    </tr>\n",
       "    <tr>\n",
       "      <th>Actual Ultra Beast</th>\n",
       "      <td>2</td>\n",
       "      <td>0</td>\n",
       "      <td>3</td>\n",
       "      <td>5</td>\n",
       "    </tr>\n",
       "    <tr>\n",
       "      <th>Total</th>\n",
       "      <td>23</td>\n",
       "      <td>201</td>\n",
       "      <td>58</td>\n",
       "      <td>282</td>\n",
       "    </tr>\n",
       "  </tbody>\n",
       "</table>\n",
       "</div>"
      ],
      "text/plain": [
       "                    Predicted Legendary  Predicted Ordinary  \\\n",
       "Actual Legendary                     19                   1   \n",
       "Actual Ordinary                       2                 200   \n",
       "Actual Ultra Beast                    2                   0   \n",
       "Total                                23                 201   \n",
       "\n",
       "                    Predicted Ultra Beast  Total  \n",
       "Actual Legendary                        7     27  \n",
       "Actual Ordinary                        48    250  \n",
       "Actual Ultra Beast                      3      5  \n",
       "Total                                  58    282  "
      ]
     },
     "execution_count": 62,
     "metadata": {},
     "output_type": "execute_result"
    }
   ],
   "source": [
    "nbMatrix"
   ]
  },
  {
   "cell_type": "markdown",
   "metadata": {},
   "source": [
    "### Naive Bayes ROC Curve"
   ]
  },
  {
   "cell_type": "code",
   "execution_count": 63,
   "metadata": {},
   "outputs": [
    {
     "data": {
      "image/png": "[encoded data removed]",
      "text/plain": [
       "<Figure size 648x360 with 1 Axes>"
      ]
     },
     "metadata": {
      "needs_background": "light"
     },
     "output_type": "display_data"
    }
   ],
   "source": [
    "# For each label, treat other labels as \"negative\"\n",
    "for label in Labels:\n",
    "    c = LabelColors[label]\n",
    "    fpr, tpr, thresholds = roc_curve(y_true=test[Target], y_score=[v[1] for v in nbPred.values], pos_label=label)\n",
    "    rocAuc = auc(fpr, tpr)\n",
    "    plt.plot(fpr, tpr, c, label='{0} AUC = {1:.2f}'.format(label, rocAuc))\n",
    "    \n",
    "plt.title('Receiver Operating Characteristic')\n",
    "plt.legend(loc='best')\n",
    "plt.plot([0,1],[0,1],'r--')\n",
    "plt.xlim([-0.1,1.2])\n",
    "plt.ylim([-0.1,1.2])\n",
    "plt.ylabel('True Positive Rate')\n",
    "plt.xlabel('False Positive Rate')\n",
    "plt.show()"
   ]
  },
  {
   "cell_type": "markdown",
   "metadata": {},
   "source": [
    "### Naive Bayes Precision-Recall Curve"
   ]
  },
  {
   "cell_type": "code",
   "execution_count": 98,
   "metadata": {},
   "outputs": [],
   "source": [
    "nbThresholds = ut.generateThresholds(0.1, 0.9, 9, Labels)"
   ]
  },
  {
   "cell_type": "code",
   "execution_count": null,
   "metadata": {},
   "outputs": [],
   "source": [
    "nbPrecisions = []\n",
    "nbRecalls = []\n",
    "for t in nbThresholds:\n",
    "    model = nb.NaiveBayes(Target, Labels, probThresholds=t)\n",
    "    model.train(training, quiet=True)\n",
    "    pred = model.classify(test.drop([Target], axis=1))\n",
    "    matrix = ut.buildConfusionMatrix(pred[\"Prediction\"], test[Target], Labels)\n",
    "    precision, recall = ut.getPrecisionsAndRecalls(matrix, Labels)\n",
    "    \n",
    "    nbPrecisions.append(precision)\n",
    "    nbRecalls.append(recall)"
   ]
  },
  {
   "cell_type": "code",
   "execution_count": 102,
   "metadata": {},
   "outputs": [],
   "source": [
    "nbOrdiPr = []\n",
    "nbLgPr = []\n",
    "nbUbPr = []\n",
    "for p, r in zip(nbPrecisions, nbRecalls):\n",
    "    nbOrdiPr.append((r[\"Ordinary\"], p[\"Ordinary\"]))\n",
    "    nbLgPr.append((r[\"Legendary\"], p[\"Legendary\"]))\n",
    "    nbUbPr.append((r[\"Ultra Beast\"], p[\"Ultra Beast\"]))\n",
    "\n",
    "nbOrdiPr.sort(key=lambda x: x[0])\n",
    "nbLgPr.sort(key=lambda x: x[0])\n",
    "nbUbPr.sort(key=lambda x: x[0])"
   ]
  },
  {
   "cell_type": "code",
   "execution_count": 104,
   "metadata": {},
   "outputs": [
    {
     "data": {
      "text/plain": [
       "[<matplotlib.lines.Line2D at 0xb9d0e98208>]"
      ]
     },
     "execution_count": 104,
     "metadata": {},
     "output_type": "execute_result"
    },
    {
     "data": {
      "image/png": "[encoded data removed]",
      "text/plain": [
       "<Figure size 1152x468 with 3 Axes>"
      ]
     },
     "metadata": {
      "needs_background": "light"
     },
     "output_type": "display_data"
    }
   ],
   "source": [
    "figure, axes = plt.subplots(nrows=1, ncols=3, figsize=(16,6.5))\n",
    "\n",
    "axes[0].set_title(\"Ordinary PR Curve\")\n",
    "axes[0].set_xlabel(\"Recall\")\n",
    "axes[0].set_ylabel(\"Precision\")\n",
    "axes[0].plot([i[0] for i in nbOrdiPr], [i[1] for i in nbOrdiPr], 'bo-')\n",
    "\n",
    "axes[1].set_title(\"Legendary PR Curve\")\n",
    "axes[1].set_xlabel(\"Recall\")\n",
    "axes[1].set_ylabel(\"Precision\")\n",
    "axes[1].plot([i[0] for i in nbLgPr], [i[1] for i in nbLgPr], 'ro-')\n",
    "\n",
    "axes[2].set_title(\"Ultra Beast PR Curve\")\n",
    "axes[2].set_xlabel(\"Recall\")\n",
    "axes[2].set_ylabel(\"Precision\")\n",
    "axes[2].plot([i[0] for i in nbUbPr], [i[1] for i in nbUbPr], 'go-')"
   ]
  },
  {
   "cell_type": "markdown",
   "metadata": {},
   "source": [
    "### Perform K Fold Cross Validations"
   ]
  },
  {
   "cell_type": "code",
   "execution_count": null,
   "metadata": {
    "scrolled": false
   },
   "outputs": [],
   "source": [
    "nbKErrors = ut.kFoldCrossValidationResult(10, Target, training, nBayes)"
   ]
  },
  {
   "cell_type": "code",
   "execution_count": null,
   "metadata": {},
   "outputs": [],
   "source": [
    "# Compute the and means, variances, and standard deviations of the k fold cross validation result\n",
    "means = [sum(e) / len(e) for e in nbKErrors]\n",
    "stds =  []\n",
    "variances = []\n",
    "\n",
    "for e, m in zip(nbKErrors, means):\n",
    "    v = sum(map(lambda x: (x - m)**2, e)) / len(e)\n",
    "    s = math.sqrt(v)\n",
    "    variances.append(v)\n",
    "    stds.append(s)"
   ]
  },
  {
   "cell_type": "code",
   "execution_count": null,
   "metadata": {},
   "outputs": [],
   "source": [
    "# Plot the error rates represented by the mean, variance, and standard deviation\n",
    "figure, axes = plt.subplots(nrows=2, ncols=2, figsize=(16, 8))\n",
    "figure.subplots_adjust(top=1.5, bottom=0.5)\n",
    "\n",
    "kRange = range(2, 2 + len(means))\n",
    "\n",
    "axes[0, 0].plot([i for i in kRange], means, \"bo-\", label=\"Mean\")\n",
    "axes[0, 0].plot([i for i in kRange], variances, \"ro-\", label=\"Variance\")\n",
    "axes[0, 0].plot([i for i in kRange], stds, \"go-\", label=\"Standard Deviation\")\n",
    "axes[0, 0].set_title(\"Naive Bayes K Fold Error Summary\")\n",
    "axes[0, 0].set_xlabel(\"k Folds\")\n",
    "axes[0, 0].set_ylabel(\"Error Rate\")\n",
    "axes[0, 0].legend(loc=\"best\")\n",
    "\n",
    "axes[0, 1].plot([i for i in kRange], means, \"bo-\", label=\"Mean\")\n",
    "axes[0, 1].set_title(\"Naive Bayes K Fold Mean Error\")\n",
    "axes[0, 1].set_xlabel(\"k Folds\")\n",
    "axes[0, 1].set_ylabel(\"Error Rate\")\n",
    "axes[0, 1].legend(loc=\"best\")\n",
    "\n",
    "axes[1, 1].plot([i for i in kRange], variances, \"ro-\", label=\"Variance\")\n",
    "axes[1, 1].set_title(\"Naive Bayes K Fold Variance Error\")\n",
    "axes[1, 1].set_xlabel(\"k Folds\")\n",
    "axes[1, 1].set_ylabel(\"Error Rate\")\n",
    "axes[1, 1].legend(loc=\"best\")\n",
    "\n",
    "axes[1, 0].plot([i for i in kRange], stds, \"go-\", label=\"Standard Deviation\")\n",
    "axes[1, 0].set_title(\"Naive Bayes K Fold Standard Deviation Error\")\n",
    "axes[1, 0].set_xlabel(\"k Folds\")\n",
    "axes[1, 0].set_ylabel(\"Error Rate\")\n",
    "axes[1, 0].legend(loc=\"best\")\n",
    "plt.show()"
   ]
  },
  {
   "cell_type": "markdown",
   "metadata": {},
   "source": [
    "### Playground"
   ]
  },
  {
   "cell_type": "code",
   "execution_count": null,
   "metadata": {},
   "outputs": [],
   "source": [
    "r = ut.injectMinoritySample([\"Ultra Beast\", \"Legendary\"], \"Group\", data)"
   ]
  },
  {
   "cell_type": "code",
   "execution_count": null,
   "metadata": {},
   "outputs": [],
   "source": [
    "r[target].value_counts()"
   ]
  },
  {
   "cell_type": "code",
   "execution_count": null,
   "metadata": {
    "scrolled": true
   },
   "outputs": [],
   "source": [
    "# Get data profile\n",
    "# profile = pdp.ProfileReport(dataWithDummies)\n",
    "# profile.to_file(\"Profile.html\")\n",
    "# profile = None\n",
    "gc.collect()"
   ]
  }
 ],
 "metadata": {
  "kernelspec": {
   "display_name": "Python 3",
   "language": "python",
   "name": "python3"
  },
  "language_info": {
   "codemirror_mode": {
    "name": "ipython",
    "version": 3
   },
   "file_extension": ".py",
   "mimetype": "text/x-python",
   "name": "python",
   "nbconvert_exporter": "python",
   "pygments_lexer": "ipython3",
   "version": "3.7.1"
  }
 },
 "nbformat": 4,
 "nbformat_minor": 2
}
