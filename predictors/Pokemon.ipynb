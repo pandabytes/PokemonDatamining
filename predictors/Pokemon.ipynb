{
 "cells": [
  {
   "cell_type": "markdown",
   "metadata": {},
   "source": [
    "# Using Decision Tree & Naive Bayes to classify Legendary Pokemon"
   ]
  },
  {
   "cell_type": "markdown",
   "metadata": {},
   "source": [
    "## Import libraries"
   ]
  },
  {
   "cell_type": "code",
   "execution_count": 1,
   "metadata": {
    "scrolled": true
   },
   "outputs": [],
   "source": [
    "import gc\n",
    "import random\n",
    "import time\n",
    "import math\n",
    "import numpy as np\n",
    "import pandas as pd\n",
    "import matplotlib.pyplot as plt\n",
    "# import pandas_profiling as pdp\n",
    "# from sklearn.feature_extraction import FeatureHasher\n",
    "# from sklearn.preprocessing import StandardScaler\n",
    "# from sklearn.decomposition import PCA\n",
    "import utils as ut\n",
    "import decisionTree as dt\n",
    "import naiveBayes as nb\n",
    "\n",
    "%matplotlib inline\n",
    "%load_ext autoreload\n",
    "%autoreload 2"
   ]
  },
  {
   "cell_type": "code",
   "execution_count": null,
   "metadata": {},
   "outputs": [],
   "source": [
    "%reload_ext autoreload"
   ]
  },
  {
   "cell_type": "code",
   "execution_count": 82,
   "metadata": {},
   "outputs": [],
   "source": [
    "# Set packages options\n",
    "# np.set_printoptions(threshold=np.nan)\n",
    "# pd.set_option(\"display.max_columns\", 600)\n",
    "plt.rcParams[\"figure.figsize\"] = (11, 6)"
   ]
  },
  {
   "cell_type": "markdown",
   "metadata": {},
   "source": [
    "## Define constants and functions"
   ]
  },
  {
   "cell_type": "code",
   "execution_count": 115,
   "metadata": {},
   "outputs": [],
   "source": [
    "# Constants\n",
    "TypeColorMappings = {\"Water\": \"#6890F0\", \"Fire\": \"#F08030\", \"Grass\": \"#78C850\",\n",
    "                     \"Dark\": \"#705848\", \"Electric\": \"#F8D030\", \"Flying\": \"#A890F0\",\n",
    "                     \"Normal\": \"#A8A878\", \"Fighting\": \"#C03028\", \"Poison\": \"#A040A0\",\n",
    "                     \"Ground\": \"#E0C068\", \"Psychic\": \"#F85888\", \"Rock\": \"#B8A038\", \n",
    "                     \"Ice\": \"#98D8D8\", \"Bug\": \"#A8B820\", \"Dragon\": \"#7038F8\", \n",
    "                     \"Ghost\": \"#705898\", \"Steel\": \"#B8B8D0\", \"Fairy\": \"#EE99AC\"}\n",
    "\n",
    "# DropColumns = [\"Pokedex#\", \"Name\", \"Type 1\", \"Type 2\", \"Generation\", \"Ability 1\", \"Ability 2\", \"Ability 3\", \n",
    "#                \"EggGroup 1\", \"EggGroup 2\", \"Category\", \"Height (m)\", \"Weight (kg)\"]\n",
    "\n",
    "DropColumns = [\"Pokedex#\", \"Name\", \"Generation\", \"Category\"]\n",
    "\n",
    "def getColorList(typeCounts):\n",
    "    assert type(typeCounts) == pd.core.series.Series, \"Argument must be a Series object\"\n",
    "    return [TypeColorMappings[pokemonType] for pokemonType in typeCounts.index]\n",
    "\n",
    "def getDistinctValues(dataFrame, columnName, sep):\n",
    "    result = []\n",
    "    for value in dataFrame[columnName].value_counts().index:\n",
    "        result += value.split(sep)\n",
    "    return set(result)\n",
    "\n",
    "def getRandomColor():\n",
    "    return \"#%02X%02X%02X\" % (random.randint(0,255), random.randint(0,255), random.randint(0,255))"
   ]
  },
  {
   "cell_type": "markdown",
   "metadata": {},
   "source": [
    "## Load the data from file"
   ]
  },
  {
   "cell_type": "code",
   "execution_count": 3,
   "metadata": {
    "scrolled": true
   },
   "outputs": [
    {
     "data": {
      "text/html": [
       "<div>\n",
       "<style scoped>\n",
       "    .dataframe tbody tr th:only-of-type {\n",
       "        vertical-align: middle;\n",
       "    }\n",
       "\n",
       "    .dataframe tbody tr th {\n",
       "        vertical-align: top;\n",
       "    }\n",
       "\n",
       "    .dataframe thead th {\n",
       "        text-align: right;\n",
       "    }\n",
       "</style>\n",
       "<table border=\"1\" class=\"dataframe\">\n",
       "  <thead>\n",
       "    <tr style=\"text-align: right;\">\n",
       "      <th></th>\n",
       "      <th>Generation</th>\n",
       "      <th>Pokedex#</th>\n",
       "      <th>Name</th>\n",
       "      <th>Category</th>\n",
       "      <th>Type 1</th>\n",
       "      <th>Type 2</th>\n",
       "      <th>Ability 1</th>\n",
       "      <th>Ability 2</th>\n",
       "      <th>Ability 3</th>\n",
       "      <th>MaleRatio</th>\n",
       "      <th>...</th>\n",
       "      <th>EggGroup 1</th>\n",
       "      <th>EggGroup 2</th>\n",
       "      <th>HP</th>\n",
       "      <th>Attack</th>\n",
       "      <th>Defense</th>\n",
       "      <th>Sp.Attack</th>\n",
       "      <th>Sp.Defense</th>\n",
       "      <th>Speed</th>\n",
       "      <th>Total</th>\n",
       "      <th>Group</th>\n",
       "    </tr>\n",
       "  </thead>\n",
       "  <tbody>\n",
       "    <tr>\n",
       "      <th>0</th>\n",
       "      <td>1.0</td>\n",
       "      <td>1.0</td>\n",
       "      <td>Bulbasaur</td>\n",
       "      <td>Seed Pokemon</td>\n",
       "      <td>Grass</td>\n",
       "      <td>Poison</td>\n",
       "      <td>Chlorophyll</td>\n",
       "      <td>Overgrow</td>\n",
       "      <td>None</td>\n",
       "      <td>87.5</td>\n",
       "      <td>...</td>\n",
       "      <td>Monster</td>\n",
       "      <td>Grass</td>\n",
       "      <td>45.0</td>\n",
       "      <td>49.0</td>\n",
       "      <td>49.0</td>\n",
       "      <td>65.0</td>\n",
       "      <td>65.0</td>\n",
       "      <td>45.0</td>\n",
       "      <td>318</td>\n",
       "      <td>Ordinary</td>\n",
       "    </tr>\n",
       "    <tr>\n",
       "      <th>1</th>\n",
       "      <td>1.0</td>\n",
       "      <td>2.0</td>\n",
       "      <td>Ivysaur</td>\n",
       "      <td>Seed Pokemon</td>\n",
       "      <td>Grass</td>\n",
       "      <td>Poison</td>\n",
       "      <td>Chlorophyll</td>\n",
       "      <td>Overgrow</td>\n",
       "      <td>None</td>\n",
       "      <td>87.5</td>\n",
       "      <td>...</td>\n",
       "      <td>Monster</td>\n",
       "      <td>Grass</td>\n",
       "      <td>60.0</td>\n",
       "      <td>62.0</td>\n",
       "      <td>63.0</td>\n",
       "      <td>80.0</td>\n",
       "      <td>80.0</td>\n",
       "      <td>60.0</td>\n",
       "      <td>405</td>\n",
       "      <td>Ordinary</td>\n",
       "    </tr>\n",
       "    <tr>\n",
       "      <th>2</th>\n",
       "      <td>6.0</td>\n",
       "      <td>3.0</td>\n",
       "      <td>Mega Venusaur</td>\n",
       "      <td>Seed Pokemon</td>\n",
       "      <td>Grass</td>\n",
       "      <td>Poison</td>\n",
       "      <td>Thick Fat</td>\n",
       "      <td>None</td>\n",
       "      <td>None</td>\n",
       "      <td>87.5</td>\n",
       "      <td>...</td>\n",
       "      <td>Monster</td>\n",
       "      <td>Grass</td>\n",
       "      <td>80.0</td>\n",
       "      <td>100.0</td>\n",
       "      <td>123.0</td>\n",
       "      <td>122.0</td>\n",
       "      <td>120.0</td>\n",
       "      <td>80.0</td>\n",
       "      <td>625</td>\n",
       "      <td>Ordinary</td>\n",
       "    </tr>\n",
       "    <tr>\n",
       "      <th>3</th>\n",
       "      <td>1.0</td>\n",
       "      <td>3.0</td>\n",
       "      <td>Venusaur</td>\n",
       "      <td>Seed Pokemon</td>\n",
       "      <td>Grass</td>\n",
       "      <td>Poison</td>\n",
       "      <td>Chlorophyll</td>\n",
       "      <td>Overgrow</td>\n",
       "      <td>None</td>\n",
       "      <td>87.5</td>\n",
       "      <td>...</td>\n",
       "      <td>Monster</td>\n",
       "      <td>Grass</td>\n",
       "      <td>80.0</td>\n",
       "      <td>82.0</td>\n",
       "      <td>83.0</td>\n",
       "      <td>100.0</td>\n",
       "      <td>100.0</td>\n",
       "      <td>80.0</td>\n",
       "      <td>525</td>\n",
       "      <td>Ordinary</td>\n",
       "    </tr>\n",
       "    <tr>\n",
       "      <th>4</th>\n",
       "      <td>1.0</td>\n",
       "      <td>4.0</td>\n",
       "      <td>Charmander</td>\n",
       "      <td>Lizard Pokemon</td>\n",
       "      <td>Fire</td>\n",
       "      <td>None</td>\n",
       "      <td>Blaze</td>\n",
       "      <td>Solar Power</td>\n",
       "      <td>None</td>\n",
       "      <td>87.5</td>\n",
       "      <td>...</td>\n",
       "      <td>Monster</td>\n",
       "      <td>Dragon</td>\n",
       "      <td>39.0</td>\n",
       "      <td>52.0</td>\n",
       "      <td>43.0</td>\n",
       "      <td>60.0</td>\n",
       "      <td>50.0</td>\n",
       "      <td>65.0</td>\n",
       "      <td>309</td>\n",
       "      <td>Ordinary</td>\n",
       "    </tr>\n",
       "  </tbody>\n",
       "</table>\n",
       "<p>5 rows × 23 columns</p>\n",
       "</div>"
      ],
      "text/plain": [
       "   Generation  Pokedex#           Name        Category Type 1  Type 2  \\\n",
       "0         1.0       1.0      Bulbasaur    Seed Pokemon  Grass  Poison   \n",
       "1         1.0       2.0        Ivysaur    Seed Pokemon  Grass  Poison   \n",
       "2         6.0       3.0  Mega Venusaur    Seed Pokemon  Grass  Poison   \n",
       "3         1.0       3.0       Venusaur    Seed Pokemon  Grass  Poison   \n",
       "4         1.0       4.0     Charmander  Lizard Pokemon   Fire    None   \n",
       "\n",
       "     Ability 1    Ability 2 Ability 3  MaleRatio    ...     EggGroup 1  \\\n",
       "0  Chlorophyll     Overgrow      None       87.5    ...        Monster   \n",
       "1  Chlorophyll     Overgrow      None       87.5    ...        Monster   \n",
       "2    Thick Fat         None      None       87.5    ...        Monster   \n",
       "3  Chlorophyll     Overgrow      None       87.5    ...        Monster   \n",
       "4        Blaze  Solar Power      None       87.5    ...        Monster   \n",
       "\n",
       "   EggGroup 2    HP Attack Defense  Sp.Attack  Sp.Defense  Speed  Total  \\\n",
       "0       Grass  45.0   49.0    49.0       65.0        65.0   45.0    318   \n",
       "1       Grass  60.0   62.0    63.0       80.0        80.0   60.0    405   \n",
       "2       Grass  80.0  100.0   123.0      122.0       120.0   80.0    625   \n",
       "3       Grass  80.0   82.0    83.0      100.0       100.0   80.0    525   \n",
       "4      Dragon  39.0   52.0    43.0       60.0        50.0   65.0    309   \n",
       "\n",
       "      Group  \n",
       "0  Ordinary  \n",
       "1  Ordinary  \n",
       "2  Ordinary  \n",
       "3  Ordinary  \n",
       "4  Ordinary  \n",
       "\n",
       "[5 rows x 23 columns]"
      ]
     },
     "execution_count": 3,
     "metadata": {},
     "output_type": "execute_result"
    }
   ],
   "source": [
    "# Load the Pokemon data\n",
    "fileName = r'.\\Pokemon_Cleaned.tsv'\n",
    "columnTypes = {\"Name\": str, \"Category\": str, \"Type 1\": str, \"Type 2\": str, \n",
    "               \"Ability 1\": str, \"Ability 2\": str, \"Ability 3\": str, \"Group\": str}\n",
    "data = pd.read_csv(fileName, header=0, sep='\\t', dtype=columnTypes)\n",
    "data.head()"
   ]
  },
  {
   "cell_type": "markdown",
   "metadata": {},
   "source": [
    "## Plot graphs to visualize and understand the data"
   ]
  },
  {
   "cell_type": "code",
   "execution_count": null,
   "metadata": {},
   "outputs": [],
   "source": [
    "# Plot Group occurences to see the distributions\n",
    "groupFig, groupAxes = plt.subplots(nrows=1, ncols=1)\n",
    "groupCounts = r[\"Group\"].value_counts()\n",
    "groupAxe = groupCounts.plot(title=\"Group\", kind=\"bar\")\n",
    "groupAxe.set(xlabel=\"Group Types\", ylabel=\"Count\")"
   ]
  },
  {
   "cell_type": "code",
   "execution_count": null,
   "metadata": {
    "scrolled": false
   },
   "outputs": [],
   "source": [
    "# Box plot Total & Group\n",
    "data.boxplot(\"Total\", \"Group\")"
   ]
  },
  {
   "cell_type": "markdown",
   "metadata": {},
   "source": [
    "<p> According to the boxplot above, we can see that despite having a small quanity in size, Legendary Pokemon has the highest Total stats compared to the other 2 groups.</p>"
   ]
  },
  {
   "cell_type": "markdown",
   "metadata": {},
   "source": [
    "## Training & Test Data"
   ]
  },
  {
   "cell_type": "code",
   "execution_count": null,
   "metadata": {},
   "outputs": [],
   "source": [
    "target = \"Group\"\n",
    "labels = data[target].unique()\n",
    "r = ut.injectMinoritySample([\"Ultra Beast\", \"Legendary\"], \"Group\", data)\n",
    "reducedData = r.drop(DropColumns, axis=1)\n",
    "training, test = ut.splitData(target, reducedData, 0.60)"
   ]
  },
  {
   "cell_type": "markdown",
   "metadata": {},
   "source": [
    "## Decision Tree"
   ]
  },
  {
   "cell_type": "code",
   "execution_count": null,
   "metadata": {
    "scrolled": false
   },
   "outputs": [],
   "source": [
    "dtree = dt.DecisionTree(target, 4)\n",
    "dtree.train(training)\n",
    "dtPred = dtree.classify(test.drop([target], axis=1))"
   ]
  },
  {
   "cell_type": "code",
   "execution_count": null,
   "metadata": {},
   "outputs": [],
   "source": [
    "dtMatrix = ut.buildConfusionMatrix(dtPred, test[target], reducedData[target].unique())\n",
    "dtPrecisions, dtRecalls = ut.getPrecisionsAndRecalls(dtMatrix, reducedData[target].unique())\n",
    "dtFScores = ut.computeFScores(dtPrecisions, dtRecalls)\n",
    "\"Error {0:.2f}%\".format(ut.computeError(dtPred, test[\"Group\"]) * 100)"
   ]
  },
  {
   "cell_type": "code",
   "execution_count": null,
   "metadata": {},
   "outputs": [],
   "source": [
    "treeDepths = [i for i in range(10)]\n",
    "depthErrors = []\n",
    "for depth in treeDepths:\n",
    "    learner = dt.DecisionTree(target, depth)\n",
    "    learner.train(training)\n",
    "    pred = learner.classify(test.drop([target], axis=1))\n",
    "    err = ut.computeError(pred, test[\"Group\"])\n",
    "    depthErrors.append(err)"
   ]
  },
  {
   "cell_type": "code",
   "execution_count": 194,
   "metadata": {},
   "outputs": [
    {
     "data": {
      "text/plain": [
       "Text(0, 0.5, 'Error Rate')"
      ]
     },
     "execution_count": 194,
     "metadata": {},
     "output_type": "execute_result"
    },
    {
     "data": {
      "image/png": "[encoded data removed]",
      "text/plain": [
       "<Figure size 792x432 with 1 Axes>"
      ]
     },
     "metadata": {
      "needs_background": "light"
     },
     "output_type": "display_data"
    }
   ],
   "source": [
    "plt.plot(treeDepths, depthErrors, 'bo-')\n",
    "plt.title(\"Decision Tree Depth\")\n",
    "plt.xlabel(\"Tree Depth\")\n",
    "plt.ylabel(\"Error Rate\")"
   ]
  },
  {
   "cell_type": "code",
   "execution_count": 128,
   "metadata": {},
   "outputs": [
    {
     "data": {
      "image/png": "[encoded data removed]",
      "text/plain": [
       "<Figure size 792x432 with 1 Axes>"
      ]
     },
     "metadata": {
      "needs_background": "light"
     },
     "output_type": "display_data"
    }
   ],
   "source": [
    "for label in labels:\n",
    "    c = getRandomColor()\n",
    "    fpr, tpr, thresholds = roc_curve(y_true=test[target], y_score=[v[1] for v in dtPred.values], pos_label=label)\n",
    "    rocAuc = auc(fpr, tpr)\n",
    "    plt.plot(fpr, tpr, c, label='{0} AUC = {1:.2f}'.format(label, roc_auc))\n",
    "    \n",
    "plt.title('Receiver Operating Characteristic')\n",
    "plt.legend(loc='best')\n",
    "plt.plot([0,1],[0,1],'r--')\n",
    "plt.xlim([-0.1,1.2])\n",
    "plt.ylim([-0.1,1.2])\n",
    "plt.ylabel('True Positive Rate')\n",
    "plt.xlabel('False Positive Rate')\n",
    "plt.show()"
   ]
  },
  {
   "cell_type": "code",
   "execution_count": null,
   "metadata": {
    "scrolled": true
   },
   "outputs": [],
   "source": [
    "kErrors = ut.kFoldCrossValidationResult(10, target, training, dtree)"
   ]
  },
  {
   "cell_type": "code",
   "execution_count": 187,
   "metadata": {},
   "outputs": [
    {
     "data": {
      "text/plain": [
       "Text(0, 0.5, 'Mean Error Rate')"
      ]
     },
     "execution_count": 187,
     "metadata": {},
     "output_type": "execute_result"
    },
    {
     "data": {
      "image/png": "[encoded data removed]",
      "text/plain": [
       "<Figure size 792x432 with 1 Axes>"
      ]
     },
     "metadata": {
      "needs_background": "light"
     },
     "output_type": "display_data"
    }
   ],
   "source": [
    "means = [sum(e) / len(e) for e in kErrors]\n",
    "plt.plot([i for i in range(2, 11)], means, \"o-\")\n",
    "plt.title(\"Decision Tree K Fold Error\")\n",
    "plt.xlabel(\"k Folds\")\n",
    "plt.ylabel(\"Mean Error Rate\")"
   ]
  },
  {
   "cell_type": "markdown",
   "metadata": {},
   "source": [
    "### Naive Bayes"
   ]
  },
  {
   "cell_type": "code",
   "execution_count": null,
   "metadata": {
    "scrolled": false
   },
   "outputs": [],
   "source": [
    "nBayes = nb.NaiveBayes(target, labels)\n",
    "nBayes.train(training)\n",
    "nbPred = nBayes.classify(test.drop([target], axis=1))"
   ]
  },
  {
   "cell_type": "code",
   "execution_count": null,
   "metadata": {},
   "outputs": [],
   "source": [
    "nbMatrix = ut.buildConfusionMatrix(nbPred, test[target], reducedData[target].unique())\n",
    "nbPrecisions, nbRecalls = ut.getPrecisionsAndRecalls(nbMatrix, reducedData[target].unique())\n",
    "nbFScores = ut.computeFScores(nbPrecisions, nbRecalls)\n",
    "nbSens, nbSpec = ut.getSensitivityAndSpecifiicy(nbMatrix, reducedData[target].unique())\n",
    "\"Error: {0:.2f}%\".format(ut.computeError(nbPred, test[\"Group\"]) * 100)"
   ]
  },
  {
   "cell_type": "code",
   "execution_count": null,
   "metadata": {
    "scrolled": true
   },
   "outputs": [],
   "source": [
    "nbkErrors = ut.kFoldCrossValidationResult(10, target, training, nBayes)"
   ]
  },
  {
   "cell_type": "code",
   "execution_count": 186,
   "metadata": {},
   "outputs": [
    {
     "data": {
      "text/plain": [
       "Text(0, 0.5, 'Mean Error Rate')"
      ]
     },
     "execution_count": 186,
     "metadata": {},
     "output_type": "execute_result"
    },
    {
     "data": {
      "image/png": "[encoded data removed]",
      "text/plain": [
       "<Figure size 792x432 with 1 Axes>"
      ]
     },
     "metadata": {
      "needs_background": "light"
     },
     "output_type": "display_data"
    }
   ],
   "source": [
    "means = [sum(e) / len(e) for e in nbkErrors]\n",
    "plt.plot([i for i in range(2, 11)], means, \"o-\")\n",
    "plt.title(\"Naive Bayes K Fold Error\")\n",
    "plt.xlabel(\"k Folds\")\n",
    "plt.ylabel(\"Mean Error Rate\")"
   ]
  },
  {
   "cell_type": "code",
   "execution_count": 188,
   "metadata": {},
   "outputs": [
    {
     "data": {
      "image/png": "[encoded data removed]",
      "text/plain": [
       "<Figure size 792x432 with 1 Axes>"
      ]
     },
     "metadata": {
      "needs_background": "light"
     },
     "output_type": "display_data"
    }
   ],
   "source": [
    "for label in labels:\n",
    "    c = getRandomColor()\n",
    "    fpr, tpr, thresholds = roc_curve(y_true=test[target], y_score=[v[1] for v in nbPred.values], pos_label=label)\n",
    "    rocAuc = auc(fpr, tpr)\n",
    "    plt.plot(fpr, tpr, c, label='{0} AUC = {1:.2f}'.format(label, roc_auc))\n",
    "    \n",
    "plt.title('Receiver Operating Characteristic')\n",
    "plt.legend(loc='best')\n",
    "plt.plot([0,1],[0,1],'r--')\n",
    "plt.xlim([-0.1,1.2])\n",
    "plt.ylim([-0.1,1.2])\n",
    "plt.ylabel('True Positive Rate')\n",
    "plt.xlabel('False Positive Rate')\n",
    "plt.show()"
   ]
  },
  {
   "cell_type": "markdown",
   "metadata": {},
   "source": [
    "### Evaluation Metric"
   ]
  },
  {
   "cell_type": "code",
   "execution_count": null,
   "metadata": {},
   "outputs": [],
   "source": [
    "k = 10\n",
    "nBayes = nb.NaiveBayes(target)\n",
    "sens = []\n",
    "specs = []\n",
    "\n",
    "for i in range(k):\n",
    "    training, test = ut.splitData(target, reducedData, 0.60)    \n",
    "    nBayes.train(training, reducedData[target].unique())\n",
    "    nbPred = nBayes.classify(test.drop([target], axis=1))\n",
    "    \n",
    "    nbMatrix = ut.buildConfusionMatrix(nbPred, test[target], reducedData[target].unique())\n",
    "    nbSens, nbSpec = ut.getSensitivityAndSpecifiicy(nbMatrix, reducedData[target].unique())\n",
    "    \n",
    "    sens.append(nbSens)\n",
    "    specs.append(nbSpec)"
   ]
  },
  {
   "cell_type": "code",
   "execution_count": null,
   "metadata": {},
   "outputs": [],
   "source": [
    "ordinarySens = [sens[i][\"Ordinary\"] for i in range(k)]\n",
    "ordinarySpecs = sorted([specs[i][\"Ordinary\"] for i in range(k)])"
   ]
  },
  {
   "cell_type": "code",
   "execution_count": null,
   "metadata": {},
   "outputs": [],
   "source": [
    "t = \"Legendary\"\n",
    "s = sorted([(sens[i][t], specs[i][t]) for i in range(k)], key=lambda x: x[1])"
   ]
  },
  {
   "cell_type": "code",
   "execution_count": null,
   "metadata": {},
   "outputs": [],
   "source": [
    "plt.plot(list(map(lambda x: 1- x, [i[1] for i in s])), [i[0] for i in s], 'bo-', label=\"Ordinary ROC Curve\")\n",
    "plt.xlabel(\"1 - Specificity\")\n",
    "plt.ylabel(\"Sensitivy\")\n",
    "plt.legend(loc=\"best\")"
   ]
  },
  {
   "cell_type": "code",
   "execution_count": 47,
   "metadata": {},
   "outputs": [],
   "source": [
    "from sklearn.metrics import roc_curve, auc"
   ]
  },
  {
   "cell_type": "code",
   "execution_count": null,
   "metadata": {},
   "outputs": [],
   "source": [
    "training, test = ut.splitData(target, reducedData, 0.60)    \n",
    "nBayes.train(training, reducedData[target].unique())\n",
    "nbPred = nBayes.classify(test.drop([target], axis=1))\n",
    "\n",
    "nbMatrix = ut.buildConfusionMatrix(nbPred, test[target], reducedData[target].unique())\n",
    "nbSens, nbSpec = ut.getSensitivityAndSpecifiicy(nbMatrix, reducedData[target].unique())"
   ]
  },
  {
   "cell_type": "code",
   "execution_count": null,
   "metadata": {},
   "outputs": [],
   "source": [
    "p = list(map(lambda x: 1 if x == \"Ordinary\" else 0, nbPred.values))\n",
    "a = list(map(lambda x: 1 if x == \"Ordinary\" else 0, test[\"Group\"]))\n",
    "\n",
    "false_positive_rate, true_positive_rate, thresholds = roc_curve(a, p)\n",
    "roc_auc = auc(false_positive_rate, true_positive_rate)\n",
    "plt.title('Receiver Operating Characteristic')\n",
    "plt.plot(false_positive_rate, true_positive_rate, 'b',\n",
    "label='AUC = %0.2f'% roc_auc)\n",
    "plt.legend(loc='lower right')\n",
    "plt.plot([0,1],[0,1],'r--')\n",
    "plt.xlim([-0.1,1.2])\n",
    "plt.ylim([-0.1,1.2])\n",
    "plt.ylabel('True Positive Rate')\n",
    "plt.xlabel('False Positive Rate')\n",
    "plt.show()"
   ]
  },
  {
   "cell_type": "code",
   "execution_count": 51,
   "metadata": {},
   "outputs": [
    {
     "data": {
      "image/png": "[encoded data removed]",
      "text/plain": [
       "<Figure size 432x288 with 1 Axes>"
      ]
     },
     "metadata": {
      "needs_background": "light"
     },
     "output_type": "display_data"
    }
   ],
   "source": [
    "p = [] \n",
    "\n",
    "for v in nbPred.sort_index().values:\n",
    "    if v[0] != \"Legendary\":\n",
    "        p.append(0)\n",
    "    else:\n",
    "        p.append(v[1])\n",
    "\n",
    "t = [v for v in test[\"Group\"].sort_index().values]\n",
    "false_positive_rate, true_positive_rate, thresholds = roc_curve(y_true=t, y_score=p, pos_label=\"Legendary\")\n",
    "roc_auc = auc(false_positive_rate, true_positive_rate)\n",
    "plt.title('Receiver Operating Characteristic')\n",
    "plt.plot(false_positive_rate, true_positive_rate, 'b',\n",
    "label='AUC = %0.2f'% roc_auc)\n",
    "plt.legend(loc='lower right')\n",
    "plt.plot([0,1],[0,1],'r--')\n",
    "plt.xlim([-0.1,1.2])\n",
    "plt.ylim([-0.1,1.2])\n",
    "plt.ylabel('True Positive Rate')\n",
    "plt.xlabel('False Positive Rate')\n",
    "plt.show()"
   ]
  },
  {
   "cell_type": "code",
   "execution_count": null,
   "metadata": {},
   "outputs": [],
   "source": [
    "# ut.computeError(dtPred, test[\"Group\"])\n",
    "roc_curve(y_true=t, y_score=p, pos_label=\"Ordinary\")\n",
    "# dtPred.values\n",
    "# p"
   ]
  },
  {
   "cell_type": "markdown",
   "metadata": {},
   "source": [
    "### Playground"
   ]
  },
  {
   "cell_type": "code",
   "execution_count": 73,
   "metadata": {},
   "outputs": [
    {
     "name": "stdout",
     "output_type": "stream",
     "text": [
      "Ultra Beast 836\n",
      "Legendary 855\n"
     ]
    }
   ],
   "source": [
    "r = ut.injectMinoritySample([\"Ultra Beast\", \"Legendary\"], \"Group\", data)"
   ]
  },
  {
   "cell_type": "code",
   "execution_count": 74,
   "metadata": {},
   "outputs": [
    {
     "data": {
      "text/plain": [
       "Legendary      855\n",
       "Ultra Beast    836\n",
       "Ordinary       833\n",
       "Name: Group, dtype: int64"
      ]
     },
     "execution_count": 74,
     "metadata": {},
     "output_type": "execute_result"
    }
   ],
   "source": [
    "r[target].value_counts()"
   ]
  },
  {
   "cell_type": "markdown",
   "metadata": {},
   "source": [
    "### Plot Error Rate"
   ]
  },
  {
   "cell_type": "code",
   "execution_count": null,
   "metadata": {},
   "outputs": [],
   "source": [
    "def plotPrecisionRecall(precisions, recalls):\n",
    "    assert len(precisions) == len(recalls), \"Length of precisions and recalls must match\"\n",
    "    assert precisions.keys() == recalls.keys(), \"Keys in precisions and recalls must match\"\n",
    "    \n",
    "    for label in precisions.keys():\n",
    "        pValue = precisions[label]\n",
    "        rValue = recalls[label]\n",
    "        "
   ]
  },
  {
   "cell_type": "code",
   "execution_count": null,
   "metadata": {
    "scrolled": true
   },
   "outputs": [],
   "source": [
    "ratios = [0.2, 0.4, 0.6, 0.8]\n",
    "dt = DecisionTree(\"Group\")\n",
    "x = []\n",
    "y = []\n",
    "\n",
    "for ratio in ratios:\n",
    "    print(\"************ Split ratio: \", ratio)\n",
    "    training, test = splitData(data, ratio)\n",
    "    node = dt.train(training)\n",
    "    predictions = dt.classify(test, node)\n",
    "    error = computeError(predictions, test[dt.targetFeature])\n",
    "    \n",
    "    x.append(len(training))\n",
    "    y.append(error)"
   ]
  },
  {
   "cell_type": "code",
   "execution_count": null,
   "metadata": {},
   "outputs": [],
   "source": [
    "plt.plot(x, y, 'bo-', label=\"With categorical and continuous features\")\n",
    "plt.xlabel(\"Trainging Set size\")\n",
    "plt.ylabel(\"Error Rate\")\n",
    "plt.legend(loc=\"best\")"
   ]
  },
  {
   "cell_type": "code",
   "execution_count": null,
   "metadata": {
    "scrolled": true
   },
   "outputs": [],
   "source": [
    "# Get data profile\n",
    "profile = pdp.ProfileReport(dataWithDummies)\n",
    "profile.to_file(\"Profile.html\")\n",
    "profile = None\n",
    "gc.collect()"
   ]
  }
 ],
 "metadata": {
  "kernelspec": {
   "display_name": "Python 3",
   "language": "python",
   "name": "python3"
  },
  "language_info": {
   "codemirror_mode": {
    "name": "ipython",
    "version": 3
   },
   "file_extension": ".py",
   "mimetype": "text/x-python",
   "name": "python",
   "nbconvert_exporter": "python",
   "pygments_lexer": "ipython3",
   "version": "3.7.1"
  }
 },
 "nbformat": 4,
 "nbformat_minor": 2
}
