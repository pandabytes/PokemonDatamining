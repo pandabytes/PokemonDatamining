{
 "cells": [
  {
   "cell_type": "markdown",
   "metadata": {},
   "source": [
    "# Using Decision Tree & Naive Bayes to classify Legendary Pokemon"
   ]
  },
  {
   "cell_type": "markdown",
   "metadata": {},
   "source": [
    "## Import libraries"
   ]
  },
  {
   "cell_type": "code",
   "execution_count": 214,
   "metadata": {
    "scrolled": true
   },
   "outputs": [],
   "source": [
    "# import gc\n",
    "# import ast\n",
    "# import math\n",
    "# import numpy as np\n",
    "# import pandas as pd\n",
    "# import pandas_profiling as pdp\n",
    "# import matplotlib.pyplot as plt\n",
    "# from sklearn.feature_extraction import FeatureHasher\n",
    "# from sklearn.preprocessing import StandardScaler\n",
    "# from sklearn.decomposition import PCA\n",
    "from decisionTree import *\n",
    "\n",
    "# %matplotlib inline\n",
    "# %load_ext autoreload\n",
    "# %autoreload 2"
   ]
  },
  {
   "cell_type": "code",
   "execution_count": 2,
   "metadata": {},
   "outputs": [],
   "source": [
    "# Set packages options\n",
    "# np.set_printoptions(threshold=np.nan)\n",
    "pd.set_option(\"display.max_columns\", 600)\n",
    "plt.rcParams[\"figure.figsize\"] = (11, 6)"
   ]
  },
  {
   "cell_type": "markdown",
   "metadata": {},
   "source": [
    "## Define constants and functions"
   ]
  },
  {
   "cell_type": "code",
   "execution_count": 361,
   "metadata": {},
   "outputs": [],
   "source": [
    "# Constants\n",
    "TypeColorMappings = {\"Water\": \"#6890F0\", \"Fire\": \"#F08030\", \"Grass\": \"#78C850\",\n",
    "                     \"Dark\": \"#705848\", \"Electric\": \"#F8D030\", \"Flying\": \"#A890F0\",\n",
    "                     \"Normal\": \"#A8A878\", \"Fighting\": \"#C03028\", \"Poison\": \"#A040A0\",\n",
    "                     \"Ground\": \"#E0C068\", \"Psychic\": \"#F85888\", \"Rock\": \"#B8A038\", \n",
    "                     \"Ice\": \"#98D8D8\", \"Bug\": \"#A8B820\", \"Dragon\": \"#7038F8\", \n",
    "                     \"Ghost\": \"#705898\", \"Steel\": \"#B8B8D0\", \"Fairy\": \"#EE99AC\"}\n",
    "\n",
    "DropColumns = [\"Pokedex#\", \"Name\", \"Type 1\", \"Type 2\", \"Generation\", \"Ability 1\", \"Ability 2\", \"Ability 3\", \n",
    "               \"EggGroup 1\", \"EggGroup 2\", \"Category\", \"Height (m)\", \"Weight (kg)\"]\n",
    "\n",
    "def getColorList(typeCounts):\n",
    "    assert type(typeCounts) == pd.core.series.Series, \"Argument must be a Series object\"\n",
    "    return [TypeColorMappings[pokemonType] for pokemonType in typeCounts.index]\n",
    "\n",
    "def getDistinctValues(dataFrame, columnName, sep):\n",
    "    result = []\n",
    "    for value in dataFrame[columnName].value_counts().index:\n",
    "        result += value.split(sep)\n",
    "\n",
    "    return set(result)\n",
    "\n",
    "def splitData(dataFrame, trainingRatio):\n",
    "    #assert trainingRatio + testRatio == 1.0, \"Total ratio of training and test must add up to 1\"\n",
    "    msk = np.random.rand(len(dataFrame)) < trainingRatio\n",
    "    return dataFrame[msk], dataFrame[~msk]"
   ]
  },
  {
   "cell_type": "markdown",
   "metadata": {},
   "source": [
    "## Load the data from file and perform feature transformations"
   ]
  },
  {
   "cell_type": "code",
   "execution_count": 108,
   "metadata": {
    "scrolled": true
   },
   "outputs": [
    {
     "data": {
      "text/html": [
       "<div>\n",
       "<style scoped>\n",
       "    .dataframe tbody tr th:only-of-type {\n",
       "        vertical-align: middle;\n",
       "    }\n",
       "\n",
       "    .dataframe tbody tr th {\n",
       "        vertical-align: top;\n",
       "    }\n",
       "\n",
       "    .dataframe thead th {\n",
       "        text-align: right;\n",
       "    }\n",
       "</style>\n",
       "<table border=\"1\" class=\"dataframe\">\n",
       "  <thead>\n",
       "    <tr style=\"text-align: right;\">\n",
       "      <th></th>\n",
       "      <th>Generation</th>\n",
       "      <th>Pokedex#</th>\n",
       "      <th>Name</th>\n",
       "      <th>Category</th>\n",
       "      <th>Type 1</th>\n",
       "      <th>Type 2</th>\n",
       "      <th>Ability 1</th>\n",
       "      <th>Ability 2</th>\n",
       "      <th>Ability 3</th>\n",
       "      <th>MaleRatio</th>\n",
       "      <th>FemaleRatio</th>\n",
       "      <th>Height (m)</th>\n",
       "      <th>Weight (kg)</th>\n",
       "      <th>EggGroup 1</th>\n",
       "      <th>EggGroup 2</th>\n",
       "      <th>HP</th>\n",
       "      <th>Attack</th>\n",
       "      <th>Defense</th>\n",
       "      <th>Sp.Attack</th>\n",
       "      <th>Sp.Defense</th>\n",
       "      <th>Speed</th>\n",
       "      <th>Total</th>\n",
       "      <th>Group</th>\n",
       "    </tr>\n",
       "  </thead>\n",
       "  <tbody>\n",
       "    <tr>\n",
       "      <th>0</th>\n",
       "      <td>1.0</td>\n",
       "      <td>1.0</td>\n",
       "      <td>Bulbasaur</td>\n",
       "      <td>Seed Pokemon</td>\n",
       "      <td>Grass</td>\n",
       "      <td>Poison</td>\n",
       "      <td>Chlorophyll</td>\n",
       "      <td>Overgrow</td>\n",
       "      <td>None</td>\n",
       "      <td>87.5</td>\n",
       "      <td>12.5</td>\n",
       "      <td>0.7</td>\n",
       "      <td>6.9</td>\n",
       "      <td>Monster</td>\n",
       "      <td>Grass</td>\n",
       "      <td>45.0</td>\n",
       "      <td>49.0</td>\n",
       "      <td>49.0</td>\n",
       "      <td>65.0</td>\n",
       "      <td>65.0</td>\n",
       "      <td>45.0</td>\n",
       "      <td>318</td>\n",
       "      <td>Ordinary</td>\n",
       "    </tr>\n",
       "    <tr>\n",
       "      <th>1</th>\n",
       "      <td>1.0</td>\n",
       "      <td>2.0</td>\n",
       "      <td>Ivysaur</td>\n",
       "      <td>Seed Pokemon</td>\n",
       "      <td>Grass</td>\n",
       "      <td>Poison</td>\n",
       "      <td>Chlorophyll</td>\n",
       "      <td>Overgrow</td>\n",
       "      <td>None</td>\n",
       "      <td>87.5</td>\n",
       "      <td>12.5</td>\n",
       "      <td>1.0</td>\n",
       "      <td>13.0</td>\n",
       "      <td>Monster</td>\n",
       "      <td>Grass</td>\n",
       "      <td>60.0</td>\n",
       "      <td>62.0</td>\n",
       "      <td>63.0</td>\n",
       "      <td>80.0</td>\n",
       "      <td>80.0</td>\n",
       "      <td>60.0</td>\n",
       "      <td>405</td>\n",
       "      <td>Ordinary</td>\n",
       "    </tr>\n",
       "    <tr>\n",
       "      <th>2</th>\n",
       "      <td>6.0</td>\n",
       "      <td>3.0</td>\n",
       "      <td>Mega Venusaur</td>\n",
       "      <td>Seed Pokemon</td>\n",
       "      <td>Grass</td>\n",
       "      <td>Poison</td>\n",
       "      <td>Thick Fat</td>\n",
       "      <td>None</td>\n",
       "      <td>None</td>\n",
       "      <td>87.5</td>\n",
       "      <td>12.5</td>\n",
       "      <td>2.0</td>\n",
       "      <td>100.0</td>\n",
       "      <td>Monster</td>\n",
       "      <td>Grass</td>\n",
       "      <td>80.0</td>\n",
       "      <td>100.0</td>\n",
       "      <td>123.0</td>\n",
       "      <td>122.0</td>\n",
       "      <td>120.0</td>\n",
       "      <td>80.0</td>\n",
       "      <td>625</td>\n",
       "      <td>Ordinary</td>\n",
       "    </tr>\n",
       "    <tr>\n",
       "      <th>3</th>\n",
       "      <td>1.0</td>\n",
       "      <td>3.0</td>\n",
       "      <td>Venusaur</td>\n",
       "      <td>Seed Pokemon</td>\n",
       "      <td>Grass</td>\n",
       "      <td>Poison</td>\n",
       "      <td>Chlorophyll</td>\n",
       "      <td>Overgrow</td>\n",
       "      <td>None</td>\n",
       "      <td>87.5</td>\n",
       "      <td>12.5</td>\n",
       "      <td>2.0</td>\n",
       "      <td>100.0</td>\n",
       "      <td>Monster</td>\n",
       "      <td>Grass</td>\n",
       "      <td>80.0</td>\n",
       "      <td>82.0</td>\n",
       "      <td>83.0</td>\n",
       "      <td>100.0</td>\n",
       "      <td>100.0</td>\n",
       "      <td>80.0</td>\n",
       "      <td>525</td>\n",
       "      <td>Ordinary</td>\n",
       "    </tr>\n",
       "    <tr>\n",
       "      <th>4</th>\n",
       "      <td>1.0</td>\n",
       "      <td>4.0</td>\n",
       "      <td>Charmander</td>\n",
       "      <td>Lizard Pokemon</td>\n",
       "      <td>Fire</td>\n",
       "      <td>None</td>\n",
       "      <td>Blaze</td>\n",
       "      <td>Solar Power</td>\n",
       "      <td>None</td>\n",
       "      <td>87.5</td>\n",
       "      <td>12.5</td>\n",
       "      <td>0.6</td>\n",
       "      <td>8.5</td>\n",
       "      <td>Monster</td>\n",
       "      <td>Dragon</td>\n",
       "      <td>39.0</td>\n",
       "      <td>52.0</td>\n",
       "      <td>43.0</td>\n",
       "      <td>60.0</td>\n",
       "      <td>50.0</td>\n",
       "      <td>65.0</td>\n",
       "      <td>309</td>\n",
       "      <td>Ordinary</td>\n",
       "    </tr>\n",
       "  </tbody>\n",
       "</table>\n",
       "</div>"
      ],
      "text/plain": [
       "   Generation  Pokedex#           Name        Category Type 1  Type 2  \\\n",
       "0         1.0       1.0      Bulbasaur    Seed Pokemon  Grass  Poison   \n",
       "1         1.0       2.0        Ivysaur    Seed Pokemon  Grass  Poison   \n",
       "2         6.0       3.0  Mega Venusaur    Seed Pokemon  Grass  Poison   \n",
       "3         1.0       3.0       Venusaur    Seed Pokemon  Grass  Poison   \n",
       "4         1.0       4.0     Charmander  Lizard Pokemon   Fire    None   \n",
       "\n",
       "     Ability 1    Ability 2 Ability 3  MaleRatio  FemaleRatio  Height (m)  \\\n",
       "0  Chlorophyll     Overgrow      None       87.5         12.5         0.7   \n",
       "1  Chlorophyll     Overgrow      None       87.5         12.5         1.0   \n",
       "2    Thick Fat         None      None       87.5         12.5         2.0   \n",
       "3  Chlorophyll     Overgrow      None       87.5         12.5         2.0   \n",
       "4        Blaze  Solar Power      None       87.5         12.5         0.6   \n",
       "\n",
       "   Weight (kg) EggGroup 1 EggGroup 2    HP  Attack  Defense  Sp.Attack  \\\n",
       "0          6.9    Monster      Grass  45.0    49.0     49.0       65.0   \n",
       "1         13.0    Monster      Grass  60.0    62.0     63.0       80.0   \n",
       "2        100.0    Monster      Grass  80.0   100.0    123.0      122.0   \n",
       "3        100.0    Monster      Grass  80.0    82.0     83.0      100.0   \n",
       "4          8.5    Monster     Dragon  39.0    52.0     43.0       60.0   \n",
       "\n",
       "   Sp.Defense  Speed  Total     Group  \n",
       "0        65.0   45.0    318  Ordinary  \n",
       "1        80.0   60.0    405  Ordinary  \n",
       "2       120.0   80.0    625  Ordinary  \n",
       "3       100.0   80.0    525  Ordinary  \n",
       "4        50.0   65.0    309  Ordinary  "
      ]
     },
     "execution_count": 108,
     "metadata": {},
     "output_type": "execute_result"
    }
   ],
   "source": [
    "# Load the Pokemon data\n",
    "fileName = r'.\\Pokemon_Cleaned.tsv'\n",
    "columnTypes = {\"Name\": str, \"Category\": str, \"Type 1\": str, \"Type 2\": str, \n",
    "               \"Ability 1\": str, \"Ability 2\": str, \"Ability 3\": str, \"Group\": str}\n",
    "data = pd.read_csv(fileName, header=0, sep='\\t', dtype=columnTypes).fillna(\"None\")\n",
    "data.head()\n",
    "\n",
    "# # Transform list of abilities and egg groups to \"string\" numeric values\n",
    "# eggGroups = getDistinctValues(data, \"EggGroups\", \"---\")\n",
    "# abilities = getDistinctValues(data, \"Abilities\", \"---\")\n",
    "\n",
    "# eggGroupsMappings = {}\n",
    "# for i, eg in enumerate(eggGroups): eggGroupsMappings[eg] = i    \n",
    "    \n",
    "# abilitiesMappings = {}\n",
    "# for i, abil in enumerate(abilities): abilitiesMappings[abil] = i\n",
    "    \n",
    "# for i in range(len(data)):\n",
    "#     numberStr = \"\"\n",
    "#     values = sorted([abilitiesMappings[abil] for abil in data.loc[i, \"Abilities\"].split(\"---\")])\n",
    "#     val = ''.join(map(lambda x: str(x).zfill(3), values))\n",
    "#     data.loc[i, \"Abilities\"] = val\n",
    "\n",
    "# for i in range(len(data)):\n",
    "#     numberStr = \"\"\n",
    "#     values = sorted([eggGroupsMappings[eg] for eg in data.loc[i, \"EggGroups\"].split(\"---\")])\n",
    "#     val = ''.join(map(lambda x: str(x).zfill(3), values))\n",
    "#     data.loc[i, \"EggGroups\"] = val"
   ]
  },
  {
   "cell_type": "markdown",
   "metadata": {},
   "source": [
    "## Plot graphs to visualize and understand the data"
   ]
  },
  {
   "cell_type": "code",
   "execution_count": 378,
   "metadata": {},
   "outputs": [
    {
     "data": {
      "text/plain": [
       "[Text(0, 0.5, 'Count'), Text(0.5, 0, 'Group Types')]"
      ]
     },
     "execution_count": 378,
     "metadata": {},
     "output_type": "execute_result"
    },
    {
     "data": {
      "image/png": "[encoded data removed]",
      "text/plain": [
       "<Figure size 792x432 with 1 Axes>"
      ]
     },
     "metadata": {
      "needs_background": "light"
     },
     "output_type": "display_data"
    }
   ],
   "source": [
    "# Plot Group occurences to see the distributions\n",
    "groupFig, groupAxes = plt.subplots(nrows=1, ncols=1)\n",
    "groupCounts = data[\"Group\"].value_counts()\n",
    "groupAxe = groupCounts.plot(title=\"Group\", kind=\"bar\")\n",
    "groupAxe.set(xlabel=\"Group Types\", ylabel=\"Count\")"
   ]
  },
  {
   "cell_type": "code",
   "execution_count": 379,
   "metadata": {
    "scrolled": false
   },
   "outputs": [
    {
     "data": {
      "text/plain": [
       "<matplotlib.axes._subplots.AxesSubplot at 0x219c693ef0>"
      ]
     },
     "execution_count": 379,
     "metadata": {},
     "output_type": "execute_result"
    },
    {
     "data": {
      "image/png": "[encoded data removed]",
      "text/plain": [
       "<Figure size 792x432 with 1 Axes>"
      ]
     },
     "metadata": {
      "needs_background": "light"
     },
     "output_type": "display_data"
    }
   ],
   "source": [
    "# Box plot Total & Group\n",
    "data.boxplot(\"Total\", \"Group\")"
   ]
  },
  {
   "cell_type": "markdown",
   "metadata": {},
   "source": [
    "<p> According to the boxplot above, we can see that despite having a small quanity in size, Legendary Pokemon has the highest Total stats compared to the other 2 groups.</p>"
   ]
  },
  {
   "cell_type": "markdown",
   "metadata": {},
   "source": [
    "## PCA"
   ]
  },
  {
   "cell_type": "code",
   "execution_count": null,
   "metadata": {},
   "outputs": [],
   "source": [
    "reducedData = data.drop(DropColumns, axis=1)\n",
    "dummies = pd.get_dummies(data[[\"Type 1\", \"Type 2\", \"Ability 1\", \"Ability 2\", \"Ability 3\", \"EggGroup 1\", \"EggGroup 2\"]])\n",
    "dataWithDummies = pd.concat([dummies, reducedData], axis=1, join_axes=[reducedData.index])\n",
    "\n",
    "x = dataWithDummies.loc[:, dataWithDummies.columns != \"Group\"]\n",
    "y = dataWithDummies.loc[:, \"Group\"]\n",
    "\n",
    "# Scale the x data\n",
    "#x = StandardScaler().fit_transform(x)"
   ]
  },
  {
   "cell_type": "code",
   "execution_count": null,
   "metadata": {},
   "outputs": [],
   "source": [
    "pca = PCA(0.95)\n",
    "principalComponents = pca.fit_transform(x)\n",
    "width, height = principalComponents.shape\n",
    "principalDf = pd.DataFrame(data=principalComponents, columns=[\"pca %d\" % i for i in range(1, height + 1)])\n",
    "pcaData = pd.concat([principalDf, dataWithDummies[[\"Group\"]]], axis=1)\n",
    "\n",
    "xTrain = pcaData.sample(frac=0.5)"
   ]
  },
  {
   "cell_type": "code",
   "execution_count": null,
   "metadata": {
    "scrolled": true
   },
   "outputs": [],
   "source": [
    "# # Plot Type 1 and Type 2 occurences to see the distributions\n",
    "# typeFig, typeAxes = plt.subplots(nrows=3, ncols=1)\n",
    "# typeFig.subplots_adjust(top=3)\n",
    "\n",
    "# type1Counts = data[\"Type 1\"].value_counts()\n",
    "# type2Counts = data[\"Type 2\"].value_counts().drop(\"None\")\n",
    "# typesCounts = type1Counts.add(type2Counts, fill_value=0)\n",
    "\n",
    "# type1Counts.plot(title=\"Type 1 Occurrences\", kind=\"bar\", ax=typeAxes[0], color=getColorList(type1Counts))\n",
    "# type2Counts.plot(title=\"Type 2 Occurrences\", kind=\"bar\", ax=typeAxes[1], color=getColorList(type2Counts))\n",
    "# typesCounts.plot(title=\"Type 1 + 2 Occurrences\", kind=\"bar\", ax=typeAxes[2], color=getColorList(typesCounts))\n",
    "\n",
    "# fh = FeatureHasher(n_features=2, input_type=\"string\")\n",
    "# hashedFeature1 = fh.fit_transform(data[\"Type 1\"])\n",
    "# hashedFeature2 = fh.fit_transform(data[\"Type 2\"])\n",
    "\n",
    "# x = pd.concat([data[[\"Name\", \"Type 1\", \"Type 2\", \"Category\"]], pd.DataFrame(hashedFeature1.toarray())], axis=1)\n",
    "# x = pd.concat([x, pd.DataFrame(hashedFeature2.toarray())], axis=1)"
   ]
  },
  {
   "cell_type": "markdown",
   "metadata": {},
   "source": [
    "\n",
    "## Decision Tree"
   ]
  },
  {
   "cell_type": "code",
   "execution_count": 365,
   "metadata": {},
   "outputs": [],
   "source": [
    "# x = data.loc[:, data.columns != \"Group\"].fillna(\"None\")\n",
    "# y = data.loc[:, \"Group\"]\n",
    "\n",
    "# training = data.sample(439)\n",
    "training, test = splitData(data, 0.7)"
   ]
  },
  {
   "cell_type": "code",
   "execution_count": 369,
   "metadata": {
    "scrolled": false
   },
   "outputs": [
    {
     "name": "stdout",
     "output_type": "stream",
     "text": [
      "Best feature EggGroup 1\n",
      "Best feature Total\n",
      "Best feature Ability 1\n",
      "Best feature None\n",
      "Best feature Name\n",
      "Best feature None\n",
      "Best feature None\n",
      "Best feature Generation\n",
      "Best feature None\n",
      "Best feature None\n",
      "Best feature Name\n",
      "Best feature None\n",
      "Best feature Name\n",
      "Best feature None\n",
      "Best feature None\n"
     ]
    }
   ],
   "source": [
    "dt = DecisionTree(\"Group\")\n",
    "node = dt.train(training)\n",
    "\n",
    "# dt.findBestFeature(training)\n",
    "\n",
    "# impurity = dt.giniImpurity(training)\n",
    "# left, right = dt.partition(training, \"EggGroup 1\", \"Monster\")\n",
    "# left, right = dt.partition(training, \"Total\", 0.8)\n",
    "# ig = dt.informationGain(left, right, impurity)\n",
    "# ig"
   ]
  },
  {
   "cell_type": "code",
   "execution_count": 370,
   "metadata": {},
   "outputs": [],
   "source": [
    "c = dt.classify(test, node)\n"
   ]
  },
  {
   "cell_type": "code",
   "execution_count": 377,
   "metadata": {
    "scrolled": false
   },
   "outputs": [
    {
     "name": "stdout",
     "output_type": "stream",
     "text": [
      "Nidorina ---> Legendary\n",
      "Zapdos ---> Legendary\n",
      "Mega Mewtwo Y ---> Legendary\n",
      "Mew ---> Legendary\n",
      "Unown ---> Legendary\n",
      "Elekid ---> Legendary\n",
      "Magby ---> Legendary\n",
      "Entei ---> Legendary\n",
      "Suicune ---> Legendary\n",
      "Lugia ---> Legendary\n",
      "Celebi ---> Legendary\n",
      "Mega Latios ---> Legendary\n",
      "Kyogre ---> Legendary\n",
      "Mega Rayquaza ---> Legendary\n",
      "Deoxys ---> Legendary\n",
      "Munchlax ---> Legendary\n",
      "Mantyke ---> Legendary\n",
      "Giratina Altered Form ---> Legendary\n",
      "Darkrai ---> Legendary\n",
      "Arceus ---> Legendary\n",
      "Victini ---> Legendary\n",
      "Cobalion ---> Legendary\n",
      "Tornadus Incarnate Form ---> Legendary\n",
      "Landorus Therian Form ---> Legendary\n",
      "Kyurem ---> Legendary\n",
      "White Kyurem ---> Legendary\n",
      "Yveltal ---> Legendary\n",
      "Zygarde 50% Form ---> Legendary\n",
      "Zygarde 10% Form ---> Legendary\n",
      "Zygarde Complete Form ---> Legendary\n",
      "Volcanion ---> Legendary\n",
      "Tapu Koko ---> Legendary\n",
      "Buzzwole ---> Ultra Beast\n",
      "Guzzlord ---> Ultra Beast\n",
      "Dawn Wings Necrozma ---> Legendary\n",
      "Magearna ---> Legendary\n",
      "Stakataka ---> Ultra Beast\n"
     ]
    }
   ],
   "source": [
    "for k,v in c.items():\n",
    "    if (v.index[0] == \"Legendary\") or (v.index[0] == \"Ultra Beast\"):\n",
    "        print(k, \"--->\", v.index[0])"
   ]
  },
  {
   "cell_type": "code",
   "execution_count": null,
   "metadata": {
    "scrolled": true
   },
   "outputs": [],
   "source": [
    "# Get data profile\n",
    "profile = pdp.ProfileReport(dataWithDummies)\n",
    "profile.to_file(\"Profile.html\")\n",
    "profile = None\n",
    "gc.collect()"
   ]
  }
 ],
 "metadata": {
  "kernelspec": {
   "display_name": "Python 3",
   "language": "python",
   "name": "python3"
  },
  "language_info": {
   "codemirror_mode": {
    "name": "ipython",
    "version": 3
   },
   "file_extension": ".py",
   "mimetype": "text/x-python",
   "name": "python",
   "nbconvert_exporter": "python",
   "pygments_lexer": "ipython3",
   "version": "3.7.1"
  }
 },
 "nbformat": 4,
 "nbformat_minor": 2
}
