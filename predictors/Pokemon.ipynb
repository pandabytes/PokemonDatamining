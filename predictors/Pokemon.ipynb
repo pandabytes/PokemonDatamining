{
 "cells": [
  {
   "cell_type": "markdown",
   "metadata": {},
   "source": [
    "# Using Decision Tree & Naive Bayes to classify Legendary Pokemon"
   ]
  },
  {
   "cell_type": "markdown",
   "metadata": {},
   "source": [
    "## Import libraries"
   ]
  },
  {
   "cell_type": "code",
   "execution_count": 1,
   "metadata": {
    "scrolled": true
   },
   "outputs": [],
   "source": [
    "import gc\n",
    "import time\n",
    "import math\n",
    "import numpy as np\n",
    "import pandas as pd\n",
    "import matplotlib.pyplot as plt\n",
    "# import pandas_profiling as pdp\n",
    "# from sklearn.feature_extraction import FeatureHasher\n",
    "# from sklearn.preprocessing import StandardScaler\n",
    "# from sklearn.decomposition import PCA\n",
    "import utils as ut\n",
    "import decisionTree as dt\n",
    "import naiveBayes as nb\n",
    "\n",
    "%matplotlib inline\n",
    "%load_ext autoreload\n",
    "%autoreload 2"
   ]
  },
  {
   "cell_type": "code",
   "execution_count": 2,
   "metadata": {},
   "outputs": [],
   "source": [
    "%reload_ext autoreload"
   ]
  },
  {
   "cell_type": "code",
   "execution_count": null,
   "metadata": {},
   "outputs": [],
   "source": [
    "# Set packages options\n",
    "# np.set_printoptions(threshold=np.nan)\n",
    "pd.set_option(\"display.max_columns\", 600)\n",
    "plt.rcParams[\"figure.figsize\"] = (11, 6)"
   ]
  },
  {
   "cell_type": "markdown",
   "metadata": {},
   "source": [
    "## Define constants and functions"
   ]
  },
  {
   "cell_type": "code",
   "execution_count": 3,
   "metadata": {},
   "outputs": [],
   "source": [
    "# Constants\n",
    "TypeColorMappings = {\"Water\": \"#6890F0\", \"Fire\": \"#F08030\", \"Grass\": \"#78C850\",\n",
    "                     \"Dark\": \"#705848\", \"Electric\": \"#F8D030\", \"Flying\": \"#A890F0\",\n",
    "                     \"Normal\": \"#A8A878\", \"Fighting\": \"#C03028\", \"Poison\": \"#A040A0\",\n",
    "                     \"Ground\": \"#E0C068\", \"Psychic\": \"#F85888\", \"Rock\": \"#B8A038\", \n",
    "                     \"Ice\": \"#98D8D8\", \"Bug\": \"#A8B820\", \"Dragon\": \"#7038F8\", \n",
    "                     \"Ghost\": \"#705898\", \"Steel\": \"#B8B8D0\", \"Fairy\": \"#EE99AC\"}\n",
    "\n",
    "# DropColumns = [\"Pokedex#\", \"Name\", \"Type 1\", \"Type 2\", \"Generation\", \"Ability 1\", \"Ability 2\", \"Ability 3\", \n",
    "#                \"EggGroup 1\", \"EggGroup 2\", \"Category\", \"Height (m)\", \"Weight (kg)\"]\n",
    "\n",
    "DropColumns = [\"Pokedex#\", \"Name\", \"Generation\", \"Category\"]\n",
    "\n",
    "def getColorList(typeCounts):\n",
    "    assert type(typeCounts) == pd.core.series.Series, \"Argument must be a Series object\"\n",
    "    return [TypeColorMappings[pokemonType] for pokemonType in typeCounts.index]\n",
    "\n",
    "def getDistinctValues(dataFrame, columnName, sep):\n",
    "    result = []\n",
    "    for value in dataFrame[columnName].value_counts().index:\n",
    "        result += value.split(sep)\n",
    "    return set(result)"
   ]
  },
  {
   "cell_type": "markdown",
   "metadata": {},
   "source": [
    "## Load the data from file"
   ]
  },
  {
   "cell_type": "code",
   "execution_count": 4,
   "metadata": {
    "scrolled": true
   },
   "outputs": [
    {
     "data": {
      "text/html": [
       "<div>\n",
       "<style scoped>\n",
       "    .dataframe tbody tr th:only-of-type {\n",
       "        vertical-align: middle;\n",
       "    }\n",
       "\n",
       "    .dataframe tbody tr th {\n",
       "        vertical-align: top;\n",
       "    }\n",
       "\n",
       "    .dataframe thead th {\n",
       "        text-align: right;\n",
       "    }\n",
       "</style>\n",
       "<table border=\"1\" class=\"dataframe\">\n",
       "  <thead>\n",
       "    <tr style=\"text-align: right;\">\n",
       "      <th></th>\n",
       "      <th>Generation</th>\n",
       "      <th>Pokedex#</th>\n",
       "      <th>Name</th>\n",
       "      <th>Category</th>\n",
       "      <th>Type 1</th>\n",
       "      <th>Type 2</th>\n",
       "      <th>Ability 1</th>\n",
       "      <th>Ability 2</th>\n",
       "      <th>Ability 3</th>\n",
       "      <th>MaleRatio</th>\n",
       "      <th>...</th>\n",
       "      <th>EggGroup 1</th>\n",
       "      <th>EggGroup 2</th>\n",
       "      <th>HP</th>\n",
       "      <th>Attack</th>\n",
       "      <th>Defense</th>\n",
       "      <th>Sp.Attack</th>\n",
       "      <th>Sp.Defense</th>\n",
       "      <th>Speed</th>\n",
       "      <th>Total</th>\n",
       "      <th>Group</th>\n",
       "    </tr>\n",
       "  </thead>\n",
       "  <tbody>\n",
       "    <tr>\n",
       "      <th>0</th>\n",
       "      <td>1.0</td>\n",
       "      <td>1.0</td>\n",
       "      <td>Bulbasaur</td>\n",
       "      <td>Seed Pokemon</td>\n",
       "      <td>Grass</td>\n",
       "      <td>Poison</td>\n",
       "      <td>Chlorophyll</td>\n",
       "      <td>Overgrow</td>\n",
       "      <td>None</td>\n",
       "      <td>87.5</td>\n",
       "      <td>...</td>\n",
       "      <td>Monster</td>\n",
       "      <td>Grass</td>\n",
       "      <td>45.0</td>\n",
       "      <td>49.0</td>\n",
       "      <td>49.0</td>\n",
       "      <td>65.0</td>\n",
       "      <td>65.0</td>\n",
       "      <td>45.0</td>\n",
       "      <td>318</td>\n",
       "      <td>Ordinary</td>\n",
       "    </tr>\n",
       "    <tr>\n",
       "      <th>1</th>\n",
       "      <td>1.0</td>\n",
       "      <td>2.0</td>\n",
       "      <td>Ivysaur</td>\n",
       "      <td>Seed Pokemon</td>\n",
       "      <td>Grass</td>\n",
       "      <td>Poison</td>\n",
       "      <td>Chlorophyll</td>\n",
       "      <td>Overgrow</td>\n",
       "      <td>None</td>\n",
       "      <td>87.5</td>\n",
       "      <td>...</td>\n",
       "      <td>Monster</td>\n",
       "      <td>Grass</td>\n",
       "      <td>60.0</td>\n",
       "      <td>62.0</td>\n",
       "      <td>63.0</td>\n",
       "      <td>80.0</td>\n",
       "      <td>80.0</td>\n",
       "      <td>60.0</td>\n",
       "      <td>405</td>\n",
       "      <td>Ordinary</td>\n",
       "    </tr>\n",
       "    <tr>\n",
       "      <th>2</th>\n",
       "      <td>6.0</td>\n",
       "      <td>3.0</td>\n",
       "      <td>Mega Venusaur</td>\n",
       "      <td>Seed Pokemon</td>\n",
       "      <td>Grass</td>\n",
       "      <td>Poison</td>\n",
       "      <td>Thick Fat</td>\n",
       "      <td>None</td>\n",
       "      <td>None</td>\n",
       "      <td>87.5</td>\n",
       "      <td>...</td>\n",
       "      <td>Monster</td>\n",
       "      <td>Grass</td>\n",
       "      <td>80.0</td>\n",
       "      <td>100.0</td>\n",
       "      <td>123.0</td>\n",
       "      <td>122.0</td>\n",
       "      <td>120.0</td>\n",
       "      <td>80.0</td>\n",
       "      <td>625</td>\n",
       "      <td>Ordinary</td>\n",
       "    </tr>\n",
       "    <tr>\n",
       "      <th>3</th>\n",
       "      <td>1.0</td>\n",
       "      <td>3.0</td>\n",
       "      <td>Venusaur</td>\n",
       "      <td>Seed Pokemon</td>\n",
       "      <td>Grass</td>\n",
       "      <td>Poison</td>\n",
       "      <td>Chlorophyll</td>\n",
       "      <td>Overgrow</td>\n",
       "      <td>None</td>\n",
       "      <td>87.5</td>\n",
       "      <td>...</td>\n",
       "      <td>Monster</td>\n",
       "      <td>Grass</td>\n",
       "      <td>80.0</td>\n",
       "      <td>82.0</td>\n",
       "      <td>83.0</td>\n",
       "      <td>100.0</td>\n",
       "      <td>100.0</td>\n",
       "      <td>80.0</td>\n",
       "      <td>525</td>\n",
       "      <td>Ordinary</td>\n",
       "    </tr>\n",
       "    <tr>\n",
       "      <th>4</th>\n",
       "      <td>1.0</td>\n",
       "      <td>4.0</td>\n",
       "      <td>Charmander</td>\n",
       "      <td>Lizard Pokemon</td>\n",
       "      <td>Fire</td>\n",
       "      <td>None</td>\n",
       "      <td>Blaze</td>\n",
       "      <td>Solar Power</td>\n",
       "      <td>None</td>\n",
       "      <td>87.5</td>\n",
       "      <td>...</td>\n",
       "      <td>Monster</td>\n",
       "      <td>Dragon</td>\n",
       "      <td>39.0</td>\n",
       "      <td>52.0</td>\n",
       "      <td>43.0</td>\n",
       "      <td>60.0</td>\n",
       "      <td>50.0</td>\n",
       "      <td>65.0</td>\n",
       "      <td>309</td>\n",
       "      <td>Ordinary</td>\n",
       "    </tr>\n",
       "  </tbody>\n",
       "</table>\n",
       "<p>5 rows × 23 columns</p>\n",
       "</div>"
      ],
      "text/plain": [
       "   Generation  Pokedex#           Name        Category Type 1  Type 2  \\\n",
       "0         1.0       1.0      Bulbasaur    Seed Pokemon  Grass  Poison   \n",
       "1         1.0       2.0        Ivysaur    Seed Pokemon  Grass  Poison   \n",
       "2         6.0       3.0  Mega Venusaur    Seed Pokemon  Grass  Poison   \n",
       "3         1.0       3.0       Venusaur    Seed Pokemon  Grass  Poison   \n",
       "4         1.0       4.0     Charmander  Lizard Pokemon   Fire    None   \n",
       "\n",
       "     Ability 1    Ability 2 Ability 3  MaleRatio    ...     EggGroup 1  \\\n",
       "0  Chlorophyll     Overgrow      None       87.5    ...        Monster   \n",
       "1  Chlorophyll     Overgrow      None       87.5    ...        Monster   \n",
       "2    Thick Fat         None      None       87.5    ...        Monster   \n",
       "3  Chlorophyll     Overgrow      None       87.5    ...        Monster   \n",
       "4        Blaze  Solar Power      None       87.5    ...        Monster   \n",
       "\n",
       "   EggGroup 2    HP Attack Defense  Sp.Attack  Sp.Defense  Speed  Total  \\\n",
       "0       Grass  45.0   49.0    49.0       65.0        65.0   45.0    318   \n",
       "1       Grass  60.0   62.0    63.0       80.0        80.0   60.0    405   \n",
       "2       Grass  80.0  100.0   123.0      122.0       120.0   80.0    625   \n",
       "3       Grass  80.0   82.0    83.0      100.0       100.0   80.0    525   \n",
       "4      Dragon  39.0   52.0    43.0       60.0        50.0   65.0    309   \n",
       "\n",
       "      Group  \n",
       "0  Ordinary  \n",
       "1  Ordinary  \n",
       "2  Ordinary  \n",
       "3  Ordinary  \n",
       "4  Ordinary  \n",
       "\n",
       "[5 rows x 23 columns]"
      ]
     },
     "execution_count": 4,
     "metadata": {},
     "output_type": "execute_result"
    }
   ],
   "source": [
    "# Load the Pokemon data\n",
    "fileName = r'.\\Pokemon_Cleaned.tsv'\n",
    "columnTypes = {\"Name\": str, \"Category\": str, \"Type 1\": str, \"Type 2\": str, \n",
    "               \"Ability 1\": str, \"Ability 2\": str, \"Ability 3\": str, \"Group\": str}\n",
    "data = pd.read_csv(fileName, header=0, sep='\\t', dtype=columnTypes)\n",
    "data.head()"
   ]
  },
  {
   "cell_type": "markdown",
   "metadata": {},
   "source": [
    "## Plot graphs to visualize and understand the data"
   ]
  },
  {
   "cell_type": "code",
   "execution_count": null,
   "metadata": {},
   "outputs": [],
   "source": [
    "# Plot Group occurences to see the distributions\n",
    "groupFig, groupAxes = plt.subplots(nrows=1, ncols=1)\n",
    "groupCounts = data[\"Group\"].value_counts()\n",
    "groupAxe = groupCounts.plot(title=\"Group\", kind=\"bar\")\n",
    "groupAxe.set(xlabel=\"Group Types\", ylabel=\"Count\")"
   ]
  },
  {
   "cell_type": "code",
   "execution_count": null,
   "metadata": {
    "scrolled": false
   },
   "outputs": [],
   "source": [
    "# Box plot Total & Group\n",
    "data.boxplot(\"Total\", \"Group\")"
   ]
  },
  {
   "cell_type": "markdown",
   "metadata": {},
   "source": [
    "<p> According to the boxplot above, we can see that despite having a small quanity in size, Legendary Pokemon has the highest Total stats compared to the other 2 groups.</p>"
   ]
  },
  {
   "cell_type": "markdown",
   "metadata": {},
   "source": [
    "## PCA"
   ]
  },
  {
   "cell_type": "code",
   "execution_count": null,
   "metadata": {},
   "outputs": [],
   "source": [
    "reducedData = data.drop(DropColumns, axis=1)\n",
    "# dummies = pd.get_dummies(data[[\"Type 1\", \"Type 2\", \"Ability 1\", \"Ability 2\", \"Ability 3\", \"EggGroup 1\", \"EggGroup 2\"]])\n",
    "# dataWithDummies = pd.concat([dummies, reducedData], axis=1, join_axes=[reducedData.index])\n",
    "\n",
    "# x = dataWithDummies.loc[:, dataWithDummies.columns != \"Group\"]\n",
    "# y = dataWithDummies.loc[:, \"Group\"]\n",
    "\n",
    "# Scale the x data\n",
    "#x = StandardScaler().fit_transform(x)"
   ]
  },
  {
   "cell_type": "code",
   "execution_count": null,
   "metadata": {},
   "outputs": [],
   "source": [
    "pca = PCA(0.95)\n",
    "principalComponents = pca.fit_transform(x)\n",
    "width, height = principalComponents.shape\n",
    "principalDf = pd.DataFrame(data=principalComponents, columns=[\"pca %d\" % i for i in range(1, height + 1)])\n",
    "pcaData = pd.concat([principalDf, dataWithDummies[[\"Group\"]]], axis=1)\n",
    "\n",
    "xTrain = pcaData.sample(frac=0.5)"
   ]
  },
  {
   "cell_type": "code",
   "execution_count": null,
   "metadata": {
    "scrolled": true
   },
   "outputs": [],
   "source": [
    "# # Plot Type 1 and Type 2 occurences to see the distributions\n",
    "# typeFig, typeAxes = plt.subplots(nrows=3, ncols=1)\n",
    "# typeFig.subplots_adjust(top=3)\n",
    "\n",
    "# type1Counts = data[\"Type 1\"].value_counts()\n",
    "# type2Counts = data[\"Type 2\"].value_counts().drop(\"None\")\n",
    "# typesCounts = type1Counts.add(type2Counts, fill_value=0)\n",
    "\n",
    "# type1Counts.plot(title=\"Type 1 Occurrences\", kind=\"bar\", ax=typeAxes[0], color=getColorList(type1Counts))\n",
    "# type2Counts.plot(title=\"Type 2 Occurrences\", kind=\"bar\", ax=typeAxes[1], color=getColorList(type2Counts))\n",
    "# typesCounts.plot(title=\"Type 1 + 2 Occurrences\", kind=\"bar\", ax=typeAxes[2], color=getColorList(typesCounts))\n",
    "\n",
    "# fh = FeatureHasher(n_features=2, input_type=\"string\")\n",
    "# hashedFeature1 = fh.fit_transform(data[\"Type 1\"])\n",
    "# hashedFeature2 = fh.fit_transform(data[\"Type 2\"])\n",
    "\n",
    "# x = pd.concat([data[[\"Name\", \"Type 1\", \"Type 2\", \"Category\"]], pd.DataFrame(hashedFeature1.toarray())], axis=1)\n",
    "# x = pd.concat([x, pd.DataFrame(hashedFeature2.toarray())], axis=1)"
   ]
  },
  {
   "cell_type": "markdown",
   "metadata": {},
   "source": [
    "## Decision Tree"
   ]
  },
  {
   "cell_type": "code",
   "execution_count": null,
   "metadata": {
    "scrolled": true
   },
   "outputs": [],
   "source": [
    "reducedData = data.drop(DropColumns, axis=1)\n",
    "training, test = ut.splitData(reducedData, 0.60)\n",
    "dtree = dtree.DecisionTree(\"Group\")\n",
    "dtree.train(training)\n",
    "pred = dtree.classify(test)"
   ]
  },
  {
   "cell_type": "code",
   "execution_count": null,
   "metadata": {},
   "outputs": [],
   "source": [
    "matrix = ut.buildConfusionMatrix(pred, test[dtree.targetFeature], reducedData[dtree.targetFeature].unique())\n",
    "precisions, recalls = ut.getPrecisionsAndRecalls(matrix, reducedData[dtree.targetFeature].unique())\n",
    "fScores = ut.computeFScores(precisions, recalls)"
   ]
  },
  {
   "cell_type": "code",
   "execution_count": null,
   "metadata": {},
   "outputs": [],
   "source": [
    "fScores"
   ]
  },
  {
   "cell_type": "code",
   "execution_count": null,
   "metadata": {},
   "outputs": [],
   "source": [
    "gc.collect()\n",
    "m = pd.DataFrame({\"bool\": [True, False, False], \"number\": [1,2,3]})\n",
    "isinstance(m.dtypes[\"bool\"].type, np.bool_)\n",
    "m.dtypes[\"bool\"].type == np.bool_"
   ]
  },
  {
   "cell_type": "markdown",
   "metadata": {},
   "source": [
    "### Naive Bayes"
   ]
  },
  {
   "cell_type": "code",
   "execution_count": null,
   "metadata": {},
   "outputs": [],
   "source": [
    "import naiveBayes as nb"
   ]
  },
  {
   "cell_type": "code",
   "execution_count": 5,
   "metadata": {},
   "outputs": [],
   "source": [
    "reducedData = data.drop(DropColumns, axis=1)\n",
    "training, test = ut.splitData(reducedData, 0.60)\n",
    "# nBayes.train(training)"
   ]
  },
  {
   "cell_type": "code",
   "execution_count": 48,
   "metadata": {
    "scrolled": false
   },
   "outputs": [
    {
     "name": "stdout",
     "output_type": "stream",
     "text": [
      "****Skipping MaleRatio feature for label Ultra Beast. Standard deviation = 0\n",
      "****Skipping FemaleRatio feature for label Ultra Beast. Standard deviation = 0\n"
     ]
    }
   ],
   "source": [
    "nBayes = nb.NaiveBayes(\"Group\")\n",
    "d = nBayes.train(training)\n",
    "# nBayes._getFeatureType(data, \"Name\")"
   ]
  },
  {
   "cell_type": "code",
   "execution_count": 50,
   "metadata": {
    "scrolled": true
   },
   "outputs": [
    {
     "data": {
      "text/html": [
       "<div>\n",
       "<style scoped>\n",
       "    .dataframe tbody tr th:only-of-type {\n",
       "        vertical-align: middle;\n",
       "    }\n",
       "\n",
       "    .dataframe tbody tr th {\n",
       "        vertical-align: top;\n",
       "    }\n",
       "\n",
       "    .dataframe thead th {\n",
       "        text-align: right;\n",
       "    }\n",
       "</style>\n",
       "<table border=\"1\" class=\"dataframe\">\n",
       "  <thead>\n",
       "    <tr style=\"text-align: right;\">\n",
       "      <th></th>\n",
       "      <th>MaleRatio=mean</th>\n",
       "      <th>MaleRatio=std</th>\n",
       "      <th>FemaleRatio=mean</th>\n",
       "      <th>FemaleRatio=std</th>\n",
       "      <th>Height (m)=mean</th>\n",
       "      <th>Height (m)=std</th>\n",
       "      <th>Weight (kg)=mean</th>\n",
       "      <th>Weight (kg)=std</th>\n",
       "      <th>HP=mean</th>\n",
       "      <th>HP=std</th>\n",
       "      <th>...</th>\n",
       "      <th>Defense=mean</th>\n",
       "      <th>Defense=std</th>\n",
       "      <th>Sp.Attack=mean</th>\n",
       "      <th>Sp.Attack=std</th>\n",
       "      <th>Sp.Defense=mean</th>\n",
       "      <th>Sp.Defense=std</th>\n",
       "      <th>Speed=mean</th>\n",
       "      <th>Speed=std</th>\n",
       "      <th>Total=mean</th>\n",
       "      <th>Total=std</th>\n",
       "    </tr>\n",
       "  </thead>\n",
       "  <tbody>\n",
       "    <tr>\n",
       "      <th>Ordinary</th>\n",
       "      <td>50.603622</td>\n",
       "      <td>23.949982</td>\n",
       "      <td>43.762575</td>\n",
       "      <td>23.129696</td>\n",
       "      <td>1.042455</td>\n",
       "      <td>0.773521</td>\n",
       "      <td>49.750101</td>\n",
       "      <td>76.768623</td>\n",
       "      <td>67.209256</td>\n",
       "      <td>25.283005</td>\n",
       "      <td>...</td>\n",
       "      <td>70.291751</td>\n",
       "      <td>29.564879</td>\n",
       "      <td>67.804829</td>\n",
       "      <td>29.968467</td>\n",
       "      <td>69.573441</td>\n",
       "      <td>26.497092</td>\n",
       "      <td>64.965795</td>\n",
       "      <td>27.805431</td>\n",
       "      <td>415.301811</td>\n",
       "      <td>106.799620</td>\n",
       "    </tr>\n",
       "    <tr>\n",
       "      <th>Legendary</th>\n",
       "      <td>12.068966</td>\n",
       "      <td>31.498183</td>\n",
       "      <td>5.172414</td>\n",
       "      <td>20.282339</td>\n",
       "      <td>2.077586</td>\n",
       "      <td>1.352197</td>\n",
       "      <td>185.417241</td>\n",
       "      <td>222.266148</td>\n",
       "      <td>87.793103</td>\n",
       "      <td>21.986247</td>\n",
       "      <td>...</td>\n",
       "      <td>98.551724</td>\n",
       "      <td>28.846948</td>\n",
       "      <td>113.793103</td>\n",
       "      <td>31.827252</td>\n",
       "      <td>104.793103</td>\n",
       "      <td>28.480685</td>\n",
       "      <td>97.000000</td>\n",
       "      <td>25.574110</td>\n",
       "      <td>611.551724</td>\n",
       "      <td>65.736361</td>\n",
       "    </tr>\n",
       "    <tr>\n",
       "      <th>Ultra Beast</th>\n",
       "      <td>NaN</td>\n",
       "      <td>NaN</td>\n",
       "      <td>NaN</td>\n",
       "      <td>NaN</td>\n",
       "      <td>2.850000</td>\n",
       "      <td>3.024661</td>\n",
       "      <td>281.112500</td>\n",
       "      <td>406.232264</td>\n",
       "      <td>78.000000</td>\n",
       "      <td>22.703052</td>\n",
       "      <td>...</td>\n",
       "      <td>98.500000</td>\n",
       "      <td>59.605848</td>\n",
       "      <td>95.000000</td>\n",
       "      <td>40.313061</td>\n",
       "      <td>75.000000</td>\n",
       "      <td>34.706936</td>\n",
       "      <td>87.000000</td>\n",
       "      <td>40.792156</td>\n",
       "      <td>551.250000</td>\n",
       "      <td>53.033009</td>\n",
       "    </tr>\n",
       "  </tbody>\n",
       "</table>\n",
       "<p>3 rows × 22 columns</p>\n",
       "</div>"
      ],
      "text/plain": [
       "             MaleRatio=mean  MaleRatio=std  FemaleRatio=mean  FemaleRatio=std  \\\n",
       "Ordinary          50.603622      23.949982         43.762575        23.129696   \n",
       "Legendary         12.068966      31.498183          5.172414        20.282339   \n",
       "Ultra Beast             NaN            NaN               NaN              NaN   \n",
       "\n",
       "             Height (m)=mean  Height (m)=std  Weight (kg)=mean  \\\n",
       "Ordinary            1.042455        0.773521         49.750101   \n",
       "Legendary           2.077586        1.352197        185.417241   \n",
       "Ultra Beast         2.850000        3.024661        281.112500   \n",
       "\n",
       "             Weight (kg)=std    HP=mean     HP=std     ...      Defense=mean  \\\n",
       "Ordinary           76.768623  67.209256  25.283005     ...         70.291751   \n",
       "Legendary         222.266148  87.793103  21.986247     ...         98.551724   \n",
       "Ultra Beast       406.232264  78.000000  22.703052     ...         98.500000   \n",
       "\n",
       "             Defense=std  Sp.Attack=mean  Sp.Attack=std  Sp.Defense=mean  \\\n",
       "Ordinary       29.564879       67.804829      29.968467        69.573441   \n",
       "Legendary      28.846948      113.793103      31.827252       104.793103   \n",
       "Ultra Beast    59.605848       95.000000      40.313061        75.000000   \n",
       "\n",
       "             Sp.Defense=std  Speed=mean  Speed=std  Total=mean   Total=std  \n",
       "Ordinary          26.497092   64.965795  27.805431  415.301811  106.799620  \n",
       "Legendary         28.480685   97.000000  25.574110  611.551724   65.736361  \n",
       "Ultra Beast       34.706936   87.000000  40.792156  551.250000   53.033009  \n",
       "\n",
       "[3 rows x 22 columns]"
      ]
     },
     "execution_count": 50,
     "metadata": {},
     "output_type": "execute_result"
    }
   ],
   "source": [
    "nBayes._continuousProbTable"
   ]
  },
  {
   "cell_type": "code",
   "execution_count": 51,
   "metadata": {},
   "outputs": [
    {
     "data": {
      "text/html": [
       "<div>\n",
       "<style scoped>\n",
       "    .dataframe tbody tr th:only-of-type {\n",
       "        vertical-align: middle;\n",
       "    }\n",
       "\n",
       "    .dataframe tbody tr th {\n",
       "        vertical-align: top;\n",
       "    }\n",
       "\n",
       "    .dataframe thead th {\n",
       "        text-align: right;\n",
       "    }\n",
       "</style>\n",
       "<table border=\"1\" class=\"dataframe\">\n",
       "  <thead>\n",
       "    <tr style=\"text-align: right;\">\n",
       "      <th></th>\n",
       "      <th>Type 1=Normal</th>\n",
       "      <th>Type 1=Water</th>\n",
       "      <th>Type 1=Bug</th>\n",
       "      <th>Type 1=Grass</th>\n",
       "      <th>Type 1=Rock</th>\n",
       "      <th>Type 1=Fire</th>\n",
       "      <th>Type 1=Electric</th>\n",
       "      <th>Type 1=Dark</th>\n",
       "      <th>Type 1=Psychic</th>\n",
       "      <th>Type 1=Ghost</th>\n",
       "      <th>...</th>\n",
       "      <th>Ability 1=Psychic Surge</th>\n",
       "      <th>Ability 1=Desolate Land</th>\n",
       "      <th>Ability 1=Natural Cure</th>\n",
       "      <th>Ability 2=Aura Break</th>\n",
       "      <th>Ability 2=Misty Surge</th>\n",
       "      <th>Ability 2=Multiscale</th>\n",
       "      <th>Ability 2=Ice Body</th>\n",
       "      <th>Ability 2=Bulletproof</th>\n",
       "      <th>Ability 2=Grassy Surge</th>\n",
       "      <th>Ability 1=Beast Boost</th>\n",
       "    </tr>\n",
       "  </thead>\n",
       "  <tbody>\n",
       "    <tr>\n",
       "      <th>Ordinary</th>\n",
       "      <td>0.140845</td>\n",
       "      <td>0.136821</td>\n",
       "      <td>0.100604</td>\n",
       "      <td>0.088531</td>\n",
       "      <td>0.068410</td>\n",
       "      <td>0.062374</td>\n",
       "      <td>0.050302</td>\n",
       "      <td>0.044266</td>\n",
       "      <td>0.042254</td>\n",
       "      <td>0.040241</td>\n",
       "      <td>...</td>\n",
       "      <td>NaN</td>\n",
       "      <td>NaN</td>\n",
       "      <td>NaN</td>\n",
       "      <td>NaN</td>\n",
       "      <td>NaN</td>\n",
       "      <td>NaN</td>\n",
       "      <td>NaN</td>\n",
       "      <td>NaN</td>\n",
       "      <td>NaN</td>\n",
       "      <td>NaN</td>\n",
       "    </tr>\n",
       "    <tr>\n",
       "      <th>Legendary</th>\n",
       "      <td>0.068966</td>\n",
       "      <td>0.068966</td>\n",
       "      <td>NaN</td>\n",
       "      <td>0.051724</td>\n",
       "      <td>0.068966</td>\n",
       "      <td>0.051724</td>\n",
       "      <td>0.086207</td>\n",
       "      <td>0.017241</td>\n",
       "      <td>0.241379</td>\n",
       "      <td>0.017241</td>\n",
       "      <td>...</td>\n",
       "      <td>0.017241</td>\n",
       "      <td>0.017241</td>\n",
       "      <td>0.017241</td>\n",
       "      <td>0.034483</td>\n",
       "      <td>0.017241</td>\n",
       "      <td>0.017241</td>\n",
       "      <td>0.017241</td>\n",
       "      <td>0.017241</td>\n",
       "      <td>0.017241</td>\n",
       "      <td>NaN</td>\n",
       "    </tr>\n",
       "    <tr>\n",
       "      <th>Ultra Beast</th>\n",
       "      <td>NaN</td>\n",
       "      <td>NaN</td>\n",
       "      <td>0.250000</td>\n",
       "      <td>0.125000</td>\n",
       "      <td>0.250000</td>\n",
       "      <td>0.125000</td>\n",
       "      <td>NaN</td>\n",
       "      <td>NaN</td>\n",
       "      <td>NaN</td>\n",
       "      <td>NaN</td>\n",
       "      <td>...</td>\n",
       "      <td>NaN</td>\n",
       "      <td>NaN</td>\n",
       "      <td>NaN</td>\n",
       "      <td>NaN</td>\n",
       "      <td>NaN</td>\n",
       "      <td>NaN</td>\n",
       "      <td>NaN</td>\n",
       "      <td>NaN</td>\n",
       "      <td>NaN</td>\n",
       "      <td>1.0</td>\n",
       "    </tr>\n",
       "  </tbody>\n",
       "</table>\n",
       "<p>3 rows × 427 columns</p>\n",
       "</div>"
      ],
      "text/plain": [
       "             Type 1=Normal  Type 1=Water  Type 1=Bug  Type 1=Grass  \\\n",
       "Ordinary          0.140845      0.136821    0.100604      0.088531   \n",
       "Legendary         0.068966      0.068966         NaN      0.051724   \n",
       "Ultra Beast            NaN           NaN    0.250000      0.125000   \n",
       "\n",
       "             Type 1=Rock  Type 1=Fire  Type 1=Electric  Type 1=Dark  \\\n",
       "Ordinary        0.068410     0.062374         0.050302     0.044266   \n",
       "Legendary       0.068966     0.051724         0.086207     0.017241   \n",
       "Ultra Beast     0.250000     0.125000              NaN          NaN   \n",
       "\n",
       "             Type 1=Psychic  Type 1=Ghost          ...            \\\n",
       "Ordinary           0.042254      0.040241          ...             \n",
       "Legendary          0.241379      0.017241          ...             \n",
       "Ultra Beast             NaN           NaN          ...             \n",
       "\n",
       "             Ability 1=Psychic Surge  Ability 1=Desolate Land  \\\n",
       "Ordinary                         NaN                      NaN   \n",
       "Legendary                   0.017241                 0.017241   \n",
       "Ultra Beast                      NaN                      NaN   \n",
       "\n",
       "             Ability 1=Natural Cure  Ability 2=Aura Break  \\\n",
       "Ordinary                        NaN                   NaN   \n",
       "Legendary                  0.017241              0.034483   \n",
       "Ultra Beast                     NaN                   NaN   \n",
       "\n",
       "             Ability 2=Misty Surge  Ability 2=Multiscale  Ability 2=Ice Body  \\\n",
       "Ordinary                       NaN                   NaN                 NaN   \n",
       "Legendary                 0.017241              0.017241            0.017241   \n",
       "Ultra Beast                    NaN                   NaN                 NaN   \n",
       "\n",
       "             Ability 2=Bulletproof  Ability 2=Grassy Surge  \\\n",
       "Ordinary                       NaN                     NaN   \n",
       "Legendary                 0.017241                0.017241   \n",
       "Ultra Beast                    NaN                     NaN   \n",
       "\n",
       "             Ability 1=Beast Boost  \n",
       "Ordinary                       NaN  \n",
       "Legendary                      NaN  \n",
       "Ultra Beast                    1.0  \n",
       "\n",
       "[3 rows x 427 columns]"
      ]
     },
     "execution_count": 51,
     "metadata": {},
     "output_type": "execute_result"
    }
   ],
   "source": [
    "nBayes._categoricalProbTable"
   ]
  },
  {
   "cell_type": "code",
   "execution_count": 43,
   "metadata": {},
   "outputs": [
    {
     "data": {
      "text/plain": [
       "1.0424547283702215"
      ]
     },
     "execution_count": 43,
     "metadata": {},
     "output_type": "execute_result"
    }
   ],
   "source": [
    "training[training[\"Group\"] == \"Ordinary\"][\"Height (m)\"].mean()"
   ]
  },
  {
   "cell_type": "code",
   "execution_count": null,
   "metadata": {},
   "outputs": [],
   "source": [
    "training[training[\"Group\"] == \"Ultra Beast\"].describe()"
   ]
  },
  {
   "cell_type": "code",
   "execution_count": null,
   "metadata": {},
   "outputs": [],
   "source": [
    "training.head()"
   ]
  },
  {
   "cell_type": "code",
   "execution_count": null,
   "metadata": {},
   "outputs": [],
   "source": [
    "for i in training[\"FemaleRatio\"]: print(i)"
   ]
  },
  {
   "cell_type": "code",
   "execution_count": null,
   "metadata": {},
   "outputs": [],
   "source": [
    "mean = training[\"FemaleRatio\"].mean()\n",
    "math.sqrt(sum(map(lambda x: (x-mean)**2, training[\"FemaleRatio\"])) / len(training))"
   ]
  },
  {
   "cell_type": "code",
   "execution_count": null,
   "metadata": {},
   "outputs": [],
   "source": [
    "s = [1 for i in range(100)]\n",
    "mean = sum(s) / 100\n",
    "print(mean)\n",
    "math.sqrt(sum(map(lambda x: (x-mean)**2, s)) / len(training))"
   ]
  },
  {
   "cell_type": "code",
   "execution_count": 18,
   "metadata": {},
   "outputs": [
    {
     "data": {
      "text/plain": [
       "6.298736258150442e-05"
      ]
     },
     "execution_count": 18,
     "metadata": {},
     "output_type": "execute_result"
    }
   ],
   "source": [
    "value = 1.1\n",
    "mean = 20\n",
    "std = 5\n",
    "prob = (1 / (math.sqrt(2 * (std**2) * math.pi))) * math.exp(-(value - mean)**2 / (2 * std**2))\n",
    "prob"
   ]
  },
  {
   "cell_type": "code",
   "execution_count": null,
   "metadata": {},
   "outputs": [],
   "source": [
    "def filter(dataFrame, column, value):\n",
    "    return dataFrame[dataFrame[column] == value]"
   ]
  },
  {
   "cell_type": "code",
   "execution_count": null,
   "metadata": {},
   "outputs": [],
   "source": [
    "filter(training, \"Type 1\", \"Normal\")[\"Group\"].value_counts()"
   ]
  },
  {
   "cell_type": "code",
   "execution_count": null,
   "metadata": {},
   "outputs": [],
   "source": [
    "training[\"Group\"].value_counts()"
   ]
  },
  {
   "cell_type": "code",
   "execution_count": null,
   "metadata": {},
   "outputs": [],
   "source": [
    "training[\"Type 1\"].value_counts()"
   ]
  },
  {
   "cell_type": "markdown",
   "metadata": {},
   "source": [
    "### Plot Error Rate"
   ]
  },
  {
   "cell_type": "code",
   "execution_count": null,
   "metadata": {
    "scrolled": true
   },
   "outputs": [],
   "source": [
    "ratios = [0.2, 0.4, 0.6, 0.8]\n",
    "dt = DecisionTree(\"Group\")\n",
    "x = []\n",
    "y = []\n",
    "\n",
    "for ratio in ratios:\n",
    "    print(\"************ Split ratio: \", ratio)\n",
    "    training, test = splitData(data, ratio)\n",
    "    node = dt.train(training)\n",
    "    predictions = dt.classify(test, node)\n",
    "    error = computeError(predictions, test[dt.targetFeature])\n",
    "    \n",
    "    x.append(len(training))\n",
    "    y.append(error)"
   ]
  },
  {
   "cell_type": "code",
   "execution_count": null,
   "metadata": {},
   "outputs": [],
   "source": [
    "plt.plot(x, y, 'bo-', label=\"With categorical and continuous features\")\n",
    "plt.xlabel(\"Trainging Set size\")\n",
    "plt.ylabel(\"Error Rate\")\n",
    "plt.legend(loc=\"best\")"
   ]
  },
  {
   "cell_type": "code",
   "execution_count": null,
   "metadata": {
    "scrolled": true
   },
   "outputs": [],
   "source": [
    "# Get data profile\n",
    "profile = pdp.ProfileReport(dataWithDummies)\n",
    "profile.to_file(\"Profile.html\")\n",
    "profile = None\n",
    "gc.collect()"
   ]
  }
 ],
 "metadata": {
  "kernelspec": {
   "display_name": "Python 3",
   "language": "python",
   "name": "python3"
  },
  "language_info": {
   "codemirror_mode": {
    "name": "ipython",
    "version": 3
   },
   "file_extension": ".py",
   "mimetype": "text/x-python",
   "name": "python",
   "nbconvert_exporter": "python",
   "pygments_lexer": "ipython3",
   "version": "3.7.1"
  }
 },
 "nbformat": 4,
 "nbformat_minor": 2
}
