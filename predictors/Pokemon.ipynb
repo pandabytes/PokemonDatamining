{
 "cells": [
  {
   "cell_type": "markdown",
   "metadata": {},
   "source": [
    "# Using Decision Tree & Naive Bayes to classify Legendary Pokemon"
   ]
  },
  {
   "cell_type": "markdown",
   "metadata": {},
   "source": [
    "## Import libraries"
   ]
  },
  {
   "cell_type": "code",
   "execution_count": 1,
   "metadata": {
    "scrolled": true
   },
   "outputs": [],
   "source": [
    "import gc\n",
    "import time\n",
    "import math\n",
    "import numpy as np\n",
    "import pandas as pd\n",
    "import matplotlib.pyplot as plt\n",
    "# import pandas_profiling as pdp\n",
    "# from sklearn.feature_extraction import FeatureHasher\n",
    "# from sklearn.preprocessing import StandardScaler\n",
    "# from sklearn.decomposition import PCA\n",
    "import utils as ut\n",
    "import decisionTree as dt\n",
    "import naiveBayes as nb\n",
    "\n",
    "%matplotlib inline\n",
    "%load_ext autoreload\n",
    "%autoreload 2"
   ]
  },
  {
   "cell_type": "code",
   "execution_count": 2,
   "metadata": {},
   "outputs": [],
   "source": [
    "%reload_ext autoreload"
   ]
  },
  {
   "cell_type": "code",
   "execution_count": null,
   "metadata": {},
   "outputs": [],
   "source": [
    "# Set packages options\n",
    "# np.set_printoptions(threshold=np.nan)\n",
    "pd.set_option(\"display.max_columns\", 600)\n",
    "plt.rcParams[\"figure.figsize\"] = (11, 6)"
   ]
  },
  {
   "cell_type": "markdown",
   "metadata": {},
   "source": [
    "## Define constants and functions"
   ]
  },
  {
   "cell_type": "code",
   "execution_count": 3,
   "metadata": {},
   "outputs": [],
   "source": [
    "# Constants\n",
    "TypeColorMappings = {\"Water\": \"#6890F0\", \"Fire\": \"#F08030\", \"Grass\": \"#78C850\",\n",
    "                     \"Dark\": \"#705848\", \"Electric\": \"#F8D030\", \"Flying\": \"#A890F0\",\n",
    "                     \"Normal\": \"#A8A878\", \"Fighting\": \"#C03028\", \"Poison\": \"#A040A0\",\n",
    "                     \"Ground\": \"#E0C068\", \"Psychic\": \"#F85888\", \"Rock\": \"#B8A038\", \n",
    "                     \"Ice\": \"#98D8D8\", \"Bug\": \"#A8B820\", \"Dragon\": \"#7038F8\", \n",
    "                     \"Ghost\": \"#705898\", \"Steel\": \"#B8B8D0\", \"Fairy\": \"#EE99AC\"}\n",
    "\n",
    "# DropColumns = [\"Pokedex#\", \"Name\", \"Type 1\", \"Type 2\", \"Generation\", \"Ability 1\", \"Ability 2\", \"Ability 3\", \n",
    "#                \"EggGroup 1\", \"EggGroup 2\", \"Category\", \"Height (m)\", \"Weight (kg)\"]\n",
    "\n",
    "DropColumns = [\"Pokedex#\", \"Name\", \"Generation\", \"Category\"]\n",
    "\n",
    "def getColorList(typeCounts):\n",
    "    assert type(typeCounts) == pd.core.series.Series, \"Argument must be a Series object\"\n",
    "    return [TypeColorMappings[pokemonType] for pokemonType in typeCounts.index]\n",
    "\n",
    "def getDistinctValues(dataFrame, columnName, sep):\n",
    "    result = []\n",
    "    for value in dataFrame[columnName].value_counts().index:\n",
    "        result += value.split(sep)\n",
    "    return set(result)"
   ]
  },
  {
   "cell_type": "markdown",
   "metadata": {},
   "source": [
    "## Load the data from file"
   ]
  },
  {
   "cell_type": "code",
   "execution_count": 4,
   "metadata": {
    "scrolled": true
   },
   "outputs": [
    {
     "data": {
      "text/html": [
       "<div>\n",
       "<style scoped>\n",
       "    .dataframe tbody tr th:only-of-type {\n",
       "        vertical-align: middle;\n",
       "    }\n",
       "\n",
       "    .dataframe tbody tr th {\n",
       "        vertical-align: top;\n",
       "    }\n",
       "\n",
       "    .dataframe thead th {\n",
       "        text-align: right;\n",
       "    }\n",
       "</style>\n",
       "<table border=\"1\" class=\"dataframe\">\n",
       "  <thead>\n",
       "    <tr style=\"text-align: right;\">\n",
       "      <th></th>\n",
       "      <th>Generation</th>\n",
       "      <th>Pokedex#</th>\n",
       "      <th>Name</th>\n",
       "      <th>Category</th>\n",
       "      <th>Type 1</th>\n",
       "      <th>Type 2</th>\n",
       "      <th>Ability 1</th>\n",
       "      <th>Ability 2</th>\n",
       "      <th>Ability 3</th>\n",
       "      <th>MaleRatio</th>\n",
       "      <th>...</th>\n",
       "      <th>EggGroup 1</th>\n",
       "      <th>EggGroup 2</th>\n",
       "      <th>HP</th>\n",
       "      <th>Attack</th>\n",
       "      <th>Defense</th>\n",
       "      <th>Sp.Attack</th>\n",
       "      <th>Sp.Defense</th>\n",
       "      <th>Speed</th>\n",
       "      <th>Total</th>\n",
       "      <th>Group</th>\n",
       "    </tr>\n",
       "  </thead>\n",
       "  <tbody>\n",
       "    <tr>\n",
       "      <th>0</th>\n",
       "      <td>1.0</td>\n",
       "      <td>1.0</td>\n",
       "      <td>Bulbasaur</td>\n",
       "      <td>Seed Pokemon</td>\n",
       "      <td>Grass</td>\n",
       "      <td>Poison</td>\n",
       "      <td>Chlorophyll</td>\n",
       "      <td>Overgrow</td>\n",
       "      <td>None</td>\n",
       "      <td>87.5</td>\n",
       "      <td>...</td>\n",
       "      <td>Monster</td>\n",
       "      <td>Grass</td>\n",
       "      <td>45.0</td>\n",
       "      <td>49.0</td>\n",
       "      <td>49.0</td>\n",
       "      <td>65.0</td>\n",
       "      <td>65.0</td>\n",
       "      <td>45.0</td>\n",
       "      <td>318</td>\n",
       "      <td>Ordinary</td>\n",
       "    </tr>\n",
       "    <tr>\n",
       "      <th>1</th>\n",
       "      <td>1.0</td>\n",
       "      <td>2.0</td>\n",
       "      <td>Ivysaur</td>\n",
       "      <td>Seed Pokemon</td>\n",
       "      <td>Grass</td>\n",
       "      <td>Poison</td>\n",
       "      <td>Chlorophyll</td>\n",
       "      <td>Overgrow</td>\n",
       "      <td>None</td>\n",
       "      <td>87.5</td>\n",
       "      <td>...</td>\n",
       "      <td>Monster</td>\n",
       "      <td>Grass</td>\n",
       "      <td>60.0</td>\n",
       "      <td>62.0</td>\n",
       "      <td>63.0</td>\n",
       "      <td>80.0</td>\n",
       "      <td>80.0</td>\n",
       "      <td>60.0</td>\n",
       "      <td>405</td>\n",
       "      <td>Ordinary</td>\n",
       "    </tr>\n",
       "    <tr>\n",
       "      <th>2</th>\n",
       "      <td>6.0</td>\n",
       "      <td>3.0</td>\n",
       "      <td>Mega Venusaur</td>\n",
       "      <td>Seed Pokemon</td>\n",
       "      <td>Grass</td>\n",
       "      <td>Poison</td>\n",
       "      <td>Thick Fat</td>\n",
       "      <td>None</td>\n",
       "      <td>None</td>\n",
       "      <td>87.5</td>\n",
       "      <td>...</td>\n",
       "      <td>Monster</td>\n",
       "      <td>Grass</td>\n",
       "      <td>80.0</td>\n",
       "      <td>100.0</td>\n",
       "      <td>123.0</td>\n",
       "      <td>122.0</td>\n",
       "      <td>120.0</td>\n",
       "      <td>80.0</td>\n",
       "      <td>625</td>\n",
       "      <td>Ordinary</td>\n",
       "    </tr>\n",
       "    <tr>\n",
       "      <th>3</th>\n",
       "      <td>1.0</td>\n",
       "      <td>3.0</td>\n",
       "      <td>Venusaur</td>\n",
       "      <td>Seed Pokemon</td>\n",
       "      <td>Grass</td>\n",
       "      <td>Poison</td>\n",
       "      <td>Chlorophyll</td>\n",
       "      <td>Overgrow</td>\n",
       "      <td>None</td>\n",
       "      <td>87.5</td>\n",
       "      <td>...</td>\n",
       "      <td>Monster</td>\n",
       "      <td>Grass</td>\n",
       "      <td>80.0</td>\n",
       "      <td>82.0</td>\n",
       "      <td>83.0</td>\n",
       "      <td>100.0</td>\n",
       "      <td>100.0</td>\n",
       "      <td>80.0</td>\n",
       "      <td>525</td>\n",
       "      <td>Ordinary</td>\n",
       "    </tr>\n",
       "    <tr>\n",
       "      <th>4</th>\n",
       "      <td>1.0</td>\n",
       "      <td>4.0</td>\n",
       "      <td>Charmander</td>\n",
       "      <td>Lizard Pokemon</td>\n",
       "      <td>Fire</td>\n",
       "      <td>None</td>\n",
       "      <td>Blaze</td>\n",
       "      <td>Solar Power</td>\n",
       "      <td>None</td>\n",
       "      <td>87.5</td>\n",
       "      <td>...</td>\n",
       "      <td>Monster</td>\n",
       "      <td>Dragon</td>\n",
       "      <td>39.0</td>\n",
       "      <td>52.0</td>\n",
       "      <td>43.0</td>\n",
       "      <td>60.0</td>\n",
       "      <td>50.0</td>\n",
       "      <td>65.0</td>\n",
       "      <td>309</td>\n",
       "      <td>Ordinary</td>\n",
       "    </tr>\n",
       "  </tbody>\n",
       "</table>\n",
       "<p>5 rows × 23 columns</p>\n",
       "</div>"
      ],
      "text/plain": [
       "   Generation  Pokedex#           Name        Category Type 1  Type 2  \\\n",
       "0         1.0       1.0      Bulbasaur    Seed Pokemon  Grass  Poison   \n",
       "1         1.0       2.0        Ivysaur    Seed Pokemon  Grass  Poison   \n",
       "2         6.0       3.0  Mega Venusaur    Seed Pokemon  Grass  Poison   \n",
       "3         1.0       3.0       Venusaur    Seed Pokemon  Grass  Poison   \n",
       "4         1.0       4.0     Charmander  Lizard Pokemon   Fire    None   \n",
       "\n",
       "     Ability 1    Ability 2 Ability 3  MaleRatio    ...     EggGroup 1  \\\n",
       "0  Chlorophyll     Overgrow      None       87.5    ...        Monster   \n",
       "1  Chlorophyll     Overgrow      None       87.5    ...        Monster   \n",
       "2    Thick Fat         None      None       87.5    ...        Monster   \n",
       "3  Chlorophyll     Overgrow      None       87.5    ...        Monster   \n",
       "4        Blaze  Solar Power      None       87.5    ...        Monster   \n",
       "\n",
       "   EggGroup 2    HP Attack Defense  Sp.Attack  Sp.Defense  Speed  Total  \\\n",
       "0       Grass  45.0   49.0    49.0       65.0        65.0   45.0    318   \n",
       "1       Grass  60.0   62.0    63.0       80.0        80.0   60.0    405   \n",
       "2       Grass  80.0  100.0   123.0      122.0       120.0   80.0    625   \n",
       "3       Grass  80.0   82.0    83.0      100.0       100.0   80.0    525   \n",
       "4      Dragon  39.0   52.0    43.0       60.0        50.0   65.0    309   \n",
       "\n",
       "      Group  \n",
       "0  Ordinary  \n",
       "1  Ordinary  \n",
       "2  Ordinary  \n",
       "3  Ordinary  \n",
       "4  Ordinary  \n",
       "\n",
       "[5 rows x 23 columns]"
      ]
     },
     "execution_count": 4,
     "metadata": {},
     "output_type": "execute_result"
    }
   ],
   "source": [
    "# Load the Pokemon data\n",
    "fileName = r'.\\Pokemon_Cleaned.tsv'\n",
    "columnTypes = {\"Name\": str, \"Category\": str, \"Type 1\": str, \"Type 2\": str, \n",
    "               \"Ability 1\": str, \"Ability 2\": str, \"Ability 3\": str, \"Group\": str}\n",
    "data = pd.read_csv(fileName, header=0, sep='\\t', dtype=columnTypes)\n",
    "data.head()"
   ]
  },
  {
   "cell_type": "markdown",
   "metadata": {},
   "source": [
    "## Plot graphs to visualize and understand the data"
   ]
  },
  {
   "cell_type": "code",
   "execution_count": null,
   "metadata": {},
   "outputs": [],
   "source": [
    "# Plot Group occurences to see the distributions\n",
    "groupFig, groupAxes = plt.subplots(nrows=1, ncols=1)\n",
    "groupCounts = data[\"Group\"].value_counts()\n",
    "groupAxe = groupCounts.plot(title=\"Group\", kind=\"bar\")\n",
    "groupAxe.set(xlabel=\"Group Types\", ylabel=\"Count\")"
   ]
  },
  {
   "cell_type": "code",
   "execution_count": null,
   "metadata": {
    "scrolled": false
   },
   "outputs": [],
   "source": [
    "# Box plot Total & Group\n",
    "data.boxplot(\"Total\", \"Group\")"
   ]
  },
  {
   "cell_type": "markdown",
   "metadata": {},
   "source": [
    "<p> According to the boxplot above, we can see that despite having a small quanity in size, Legendary Pokemon has the highest Total stats compared to the other 2 groups.</p>"
   ]
  },
  {
   "cell_type": "markdown",
   "metadata": {},
   "source": [
    "## PCA"
   ]
  },
  {
   "cell_type": "code",
   "execution_count": null,
   "metadata": {},
   "outputs": [],
   "source": [
    "reducedData = data.drop(DropColumns, axis=1)\n",
    "# dummies = pd.get_dummies(data[[\"Type 1\", \"Type 2\", \"Ability 1\", \"Ability 2\", \"Ability 3\", \"EggGroup 1\", \"EggGroup 2\"]])\n",
    "# dataWithDummies = pd.concat([dummies, reducedData], axis=1, join_axes=[reducedData.index])\n",
    "\n",
    "# x = dataWithDummies.loc[:, dataWithDummies.columns != \"Group\"]\n",
    "# y = dataWithDummies.loc[:, \"Group\"]\n",
    "\n",
    "# Scale the x data\n",
    "#x = StandardScaler().fit_transform(x)"
   ]
  },
  {
   "cell_type": "code",
   "execution_count": null,
   "metadata": {},
   "outputs": [],
   "source": [
    "pca = PCA(0.95)\n",
    "principalComponents = pca.fit_transform(x)\n",
    "width, height = principalComponents.shape\n",
    "principalDf = pd.DataFrame(data=principalComponents, columns=[\"pca %d\" % i for i in range(1, height + 1)])\n",
    "pcaData = pd.concat([principalDf, dataWithDummies[[\"Group\"]]], axis=1)\n",
    "\n",
    "xTrain = pcaData.sample(frac=0.5)"
   ]
  },
  {
   "cell_type": "code",
   "execution_count": null,
   "metadata": {
    "scrolled": true
   },
   "outputs": [],
   "source": [
    "# # Plot Type 1 and Type 2 occurences to see the distributions\n",
    "# typeFig, typeAxes = plt.subplots(nrows=3, ncols=1)\n",
    "# typeFig.subplots_adjust(top=3)\n",
    "\n",
    "# type1Counts = data[\"Type 1\"].value_counts()\n",
    "# type2Counts = data[\"Type 2\"].value_counts().drop(\"None\")\n",
    "# typesCounts = type1Counts.add(type2Counts, fill_value=0)\n",
    "\n",
    "# type1Counts.plot(title=\"Type 1 Occurrences\", kind=\"bar\", ax=typeAxes[0], color=getColorList(type1Counts))\n",
    "# type2Counts.plot(title=\"Type 2 Occurrences\", kind=\"bar\", ax=typeAxes[1], color=getColorList(type2Counts))\n",
    "# typesCounts.plot(title=\"Type 1 + 2 Occurrences\", kind=\"bar\", ax=typeAxes[2], color=getColorList(typesCounts))\n",
    "\n",
    "# fh = FeatureHasher(n_features=2, input_type=\"string\")\n",
    "# hashedFeature1 = fh.fit_transform(data[\"Type 1\"])\n",
    "# hashedFeature2 = fh.fit_transform(data[\"Type 2\"])\n",
    "\n",
    "# x = pd.concat([data[[\"Name\", \"Type 1\", \"Type 2\", \"Category\"]], pd.DataFrame(hashedFeature1.toarray())], axis=1)\n",
    "# x = pd.concat([x, pd.DataFrame(hashedFeature2.toarray())], axis=1)"
   ]
  },
  {
   "cell_type": "markdown",
   "metadata": {},
   "source": [
    "## Decision Tree"
   ]
  },
  {
   "cell_type": "code",
   "execution_count": null,
   "metadata": {
    "scrolled": true
   },
   "outputs": [],
   "source": [
    "reducedData = data.drop(DropColumns, axis=1)\n",
    "training, test = ut.splitData(reducedData, 0.60)\n",
    "dtree = dtree.DecisionTree(\"Group\")\n",
    "dtree.train(training)\n",
    "pred = dtree.classify(test)"
   ]
  },
  {
   "cell_type": "code",
   "execution_count": null,
   "metadata": {},
   "outputs": [],
   "source": [
    "matrix = ut.buildConfusionMatrix(pred, test[dtree.targetFeature], reducedData[dtree.targetFeature].unique())\n",
    "precisions, recalls = ut.getPrecisionsAndRecalls(matrix, reducedData[dtree.targetFeature].unique())\n",
    "fScores = ut.computeFScores(precisions, recalls)"
   ]
  },
  {
   "cell_type": "code",
   "execution_count": null,
   "metadata": {},
   "outputs": [],
   "source": [
    "fScores"
   ]
  },
  {
   "cell_type": "code",
   "execution_count": null,
   "metadata": {},
   "outputs": [],
   "source": [
    "gc.collect()\n",
    "m = pd.DataFrame({\"bool\": [True, False, False], \"number\": [1,2,3]})\n",
    "isinstance(m.dtypes[\"bool\"].type, np.bool_)\n",
    "m.dtypes[\"bool\"].type == np.bool_"
   ]
  },
  {
   "cell_type": "markdown",
   "metadata": {},
   "source": [
    "### Naive Bayes"
   ]
  },
  {
   "cell_type": "code",
   "execution_count": 58,
   "metadata": {},
   "outputs": [],
   "source": [
    "reducedData = data.drop(DropColumns, axis=1)\n",
    "training, test = ut.splitData(\"Group\", reducedData, 0.60)\n",
    "# nBayes.train(training)"
   ]
  },
  {
   "cell_type": "code",
   "execution_count": 62,
   "metadata": {
    "scrolled": true
   },
   "outputs": [
    {
     "name": "stdout",
     "output_type": "stream",
     "text": [
      "****Skipping MaleRatio feature for label Ultra Beast. Standard deviation = 0\n",
      "****Skipping FemaleRatio feature for label Ultra Beast. Standard deviation = 0\n"
     ]
    }
   ],
   "source": [
    "nBayes = nb.NaiveBayes(\"Group\")\n",
    "nBayes.train(training, reducedData[\"Group\"].unique())\n",
    "# nBayes._getFeatureType(data, \"Name\")"
   ]
  },
  {
   "cell_type": "code",
   "execution_count": 63,
   "metadata": {},
   "outputs": [
    {
     "data": {
      "text/plain": [
       "Ordinary       0.001529\n",
       "Legendary      0.010000\n",
       "Ultra Beast    0.006536\n",
       "Name: Ability 1=Slow Start, dtype: float64"
      ]
     },
     "execution_count": 63,
     "metadata": {},
     "output_type": "execute_result"
    }
   ],
   "source": [
    "nBayes._categoricalProbTable[\"Ability 1=Slow Start\"]"
   ]
  },
  {
   "cell_type": "code",
   "execution_count": 38,
   "metadata": {},
   "outputs": [
    {
     "data": {
      "text/plain": [
       "153"
      ]
     },
     "execution_count": 38,
     "metadata": {},
     "output_type": "execute_result"
    }
   ],
   "source": [
    "len(nBayes._getCategoricalFeatureMappings(training)[\"Ability 1\"])"
   ]
  },
  {
   "cell_type": "code",
   "execution_count": 64,
   "metadata": {
    "scrolled": true
   },
   "outputs": [
    {
     "data": {
      "text/html": [
       "<div>\n",
       "<style scoped>\n",
       "    .dataframe tbody tr th:only-of-type {\n",
       "        vertical-align: middle;\n",
       "    }\n",
       "\n",
       "    .dataframe tbody tr th {\n",
       "        vertical-align: top;\n",
       "    }\n",
       "\n",
       "    .dataframe thead th {\n",
       "        text-align: right;\n",
       "    }\n",
       "</style>\n",
       "<table border=\"1\" class=\"dataframe\">\n",
       "  <thead>\n",
       "    <tr style=\"text-align: right;\">\n",
       "      <th></th>\n",
       "      <th>MaleRatio=mean</th>\n",
       "      <th>MaleRatio=std</th>\n",
       "      <th>FemaleRatio=mean</th>\n",
       "      <th>FemaleRatio=std</th>\n",
       "      <th>Height (m)=mean</th>\n",
       "      <th>Height (m)=std</th>\n",
       "      <th>Weight (kg)=mean</th>\n",
       "      <th>Weight (kg)=std</th>\n",
       "      <th>HP=mean</th>\n",
       "      <th>HP=std</th>\n",
       "      <th>...</th>\n",
       "      <th>Defense=mean</th>\n",
       "      <th>Defense=std</th>\n",
       "      <th>Sp.Attack=mean</th>\n",
       "      <th>Sp.Attack=std</th>\n",
       "      <th>Sp.Defense=mean</th>\n",
       "      <th>Sp.Defense=std</th>\n",
       "      <th>Speed=mean</th>\n",
       "      <th>Speed=std</th>\n",
       "      <th>Total=mean</th>\n",
       "      <th>Total=std</th>\n",
       "    </tr>\n",
       "  </thead>\n",
       "  <tbody>\n",
       "    <tr>\n",
       "      <th>Ordinary</th>\n",
       "      <td>51.136364</td>\n",
       "      <td>22.164846</td>\n",
       "      <td>45.108696</td>\n",
       "      <td>21.647217</td>\n",
       "      <td>1.037352</td>\n",
       "      <td>0.896952</td>\n",
       "      <td>47.670158</td>\n",
       "      <td>79.840490</td>\n",
       "      <td>64.416996</td>\n",
       "      <td>21.841872</td>\n",
       "      <td>...</td>\n",
       "      <td>69.826087</td>\n",
       "      <td>31.267694</td>\n",
       "      <td>66.956522</td>\n",
       "      <td>28.907878</td>\n",
       "      <td>67.980237</td>\n",
       "      <td>25.746741</td>\n",
       "      <td>64.778656</td>\n",
       "      <td>28.288024</td>\n",
       "      <td>408.241107</td>\n",
       "      <td>107.488987</td>\n",
       "    </tr>\n",
       "    <tr>\n",
       "      <th>Legendary</th>\n",
       "      <td>7.692308</td>\n",
       "      <td>25.018847</td>\n",
       "      <td>5.769231</td>\n",
       "      <td>21.360230</td>\n",
       "      <td>2.288462</td>\n",
       "      <td>1.549782</td>\n",
       "      <td>203.750000</td>\n",
       "      <td>229.429258</td>\n",
       "      <td>94.384615</td>\n",
       "      <td>29.537051</td>\n",
       "      <td>...</td>\n",
       "      <td>98.269231</td>\n",
       "      <td>25.949510</td>\n",
       "      <td>115.769231</td>\n",
       "      <td>34.195869</td>\n",
       "      <td>105.096154</td>\n",
       "      <td>29.636530</td>\n",
       "      <td>98.000000</td>\n",
       "      <td>22.932980</td>\n",
       "      <td>622.769231</td>\n",
       "      <td>70.042176</td>\n",
       "    </tr>\n",
       "    <tr>\n",
       "      <th>Ultra Beast</th>\n",
       "      <td>NaN</td>\n",
       "      <td>NaN</td>\n",
       "      <td>NaN</td>\n",
       "      <td>NaN</td>\n",
       "      <td>3.400000</td>\n",
       "      <td>3.440930</td>\n",
       "      <td>308.160000</td>\n",
       "      <td>406.773749</td>\n",
       "      <td>90.600000</td>\n",
       "      <td>19.462785</td>\n",
       "      <td>...</td>\n",
       "      <td>85.800000</td>\n",
       "      <td>35.877570</td>\n",
       "      <td>97.400000</td>\n",
       "      <td>33.208433</td>\n",
       "      <td>85.000000</td>\n",
       "      <td>31.080541</td>\n",
       "      <td>87.400000</td>\n",
       "      <td>24.223955</td>\n",
       "      <td>534.000000</td>\n",
       "      <td>65.038450</td>\n",
       "    </tr>\n",
       "  </tbody>\n",
       "</table>\n",
       "<p>3 rows × 22 columns</p>\n",
       "</div>"
      ],
      "text/plain": [
       "             MaleRatio=mean  MaleRatio=std  FemaleRatio=mean  FemaleRatio=std  \\\n",
       "Ordinary          51.136364      22.164846         45.108696        21.647217   \n",
       "Legendary          7.692308      25.018847          5.769231        21.360230   \n",
       "Ultra Beast             NaN            NaN               NaN              NaN   \n",
       "\n",
       "             Height (m)=mean  Height (m)=std  Weight (kg)=mean  \\\n",
       "Ordinary            1.037352        0.896952         47.670158   \n",
       "Legendary           2.288462        1.549782        203.750000   \n",
       "Ultra Beast         3.400000        3.440930        308.160000   \n",
       "\n",
       "             Weight (kg)=std    HP=mean     HP=std     ...      Defense=mean  \\\n",
       "Ordinary           79.840490  64.416996  21.841872     ...         69.826087   \n",
       "Legendary         229.429258  94.384615  29.537051     ...         98.269231   \n",
       "Ultra Beast       406.773749  90.600000  19.462785     ...         85.800000   \n",
       "\n",
       "             Defense=std  Sp.Attack=mean  Sp.Attack=std  Sp.Defense=mean  \\\n",
       "Ordinary       31.267694       66.956522      28.907878        67.980237   \n",
       "Legendary      25.949510      115.769231      34.195869       105.096154   \n",
       "Ultra Beast    35.877570       97.400000      33.208433        85.000000   \n",
       "\n",
       "             Sp.Defense=std  Speed=mean  Speed=std  Total=mean   Total=std  \n",
       "Ordinary          25.746741   64.778656  28.288024  408.241107  107.488987  \n",
       "Legendary         29.636530   98.000000  22.932980  622.769231   70.042176  \n",
       "Ultra Beast       31.080541   87.400000  24.223955  534.000000   65.038450  \n",
       "\n",
       "[3 rows x 22 columns]"
      ]
     },
     "execution_count": 64,
     "metadata": {},
     "output_type": "execute_result"
    }
   ],
   "source": [
    "nBayes._continuousProbTable"
   ]
  },
  {
   "cell_type": "code",
   "execution_count": 65,
   "metadata": {},
   "outputs": [
    {
     "data": {
      "text/html": [
       "<div>\n",
       "<style scoped>\n",
       "    .dataframe tbody tr th:only-of-type {\n",
       "        vertical-align: middle;\n",
       "    }\n",
       "\n",
       "    .dataframe tbody tr th {\n",
       "        vertical-align: top;\n",
       "    }\n",
       "\n",
       "    .dataframe thead th {\n",
       "        text-align: right;\n",
       "    }\n",
       "</style>\n",
       "<table border=\"1\" class=\"dataframe\">\n",
       "  <thead>\n",
       "    <tr style=\"text-align: right;\">\n",
       "      <th></th>\n",
       "      <th>Type 1=Normal</th>\n",
       "      <th>Type 1=Ground</th>\n",
       "      <th>Type 1=Ghost</th>\n",
       "      <th>Type 1=Dark</th>\n",
       "      <th>Type 1=Dragon</th>\n",
       "      <th>Type 1=Poison</th>\n",
       "      <th>Type 1=Water</th>\n",
       "      <th>Type 1=Bug</th>\n",
       "      <th>Type 1=Rock</th>\n",
       "      <th>Type 1=Grass</th>\n",
       "      <th>...</th>\n",
       "      <th>EggGroup 2=Water 1</th>\n",
       "      <th>EggGroup 2=Water 3</th>\n",
       "      <th>EggGroup 2=Grass</th>\n",
       "      <th>EggGroup 2=Fairy</th>\n",
       "      <th>EggGroup 2=Human-Like</th>\n",
       "      <th>EggGroup 2=Dragon</th>\n",
       "      <th>EggGroup 2=Amorphous</th>\n",
       "      <th>EggGroup 2=Water 2</th>\n",
       "      <th>EggGroup 2=Flying</th>\n",
       "      <th>EggGroup 2=Bug</th>\n",
       "    </tr>\n",
       "  </thead>\n",
       "  <tbody>\n",
       "    <tr>\n",
       "      <th>Ordinary</th>\n",
       "      <td>0.122530</td>\n",
       "      <td>0.037549</td>\n",
       "      <td>0.037549</td>\n",
       "      <td>0.039526</td>\n",
       "      <td>0.033597</td>\n",
       "      <td>0.033597</td>\n",
       "      <td>0.146245</td>\n",
       "      <td>0.081028</td>\n",
       "      <td>0.051383</td>\n",
       "      <td>0.086957</td>\n",
       "      <td>...</td>\n",
       "      <td>0.083004</td>\n",
       "      <td>0.011858</td>\n",
       "      <td>0.029644</td>\n",
       "      <td>0.057312</td>\n",
       "      <td>0.021739</td>\n",
       "      <td>0.061265</td>\n",
       "      <td>0.001976</td>\n",
       "      <td>0.009881</td>\n",
       "      <td>0.003953</td>\n",
       "      <td>0.001976</td>\n",
       "    </tr>\n",
       "    <tr>\n",
       "      <th>Legendary</th>\n",
       "      <td>0.042857</td>\n",
       "      <td>0.028571</td>\n",
       "      <td>0.042857</td>\n",
       "      <td>0.028571</td>\n",
       "      <td>0.142857</td>\n",
       "      <td>0.014286</td>\n",
       "      <td>0.085714</td>\n",
       "      <td>0.014286</td>\n",
       "      <td>0.042857</td>\n",
       "      <td>0.057143</td>\n",
       "      <td>...</td>\n",
       "      <td>0.015625</td>\n",
       "      <td>0.015625</td>\n",
       "      <td>0.015625</td>\n",
       "      <td>0.015625</td>\n",
       "      <td>0.015625</td>\n",
       "      <td>0.015625</td>\n",
       "      <td>0.015625</td>\n",
       "      <td>0.015625</td>\n",
       "      <td>0.015625</td>\n",
       "      <td>0.015625</td>\n",
       "    </tr>\n",
       "    <tr>\n",
       "      <th>Ultra Beast</th>\n",
       "      <td>0.043478</td>\n",
       "      <td>0.043478</td>\n",
       "      <td>0.043478</td>\n",
       "      <td>0.043478</td>\n",
       "      <td>0.043478</td>\n",
       "      <td>0.130435</td>\n",
       "      <td>0.043478</td>\n",
       "      <td>0.086957</td>\n",
       "      <td>0.086957</td>\n",
       "      <td>0.043478</td>\n",
       "      <td>...</td>\n",
       "      <td>0.058824</td>\n",
       "      <td>0.058824</td>\n",
       "      <td>0.058824</td>\n",
       "      <td>0.058824</td>\n",
       "      <td>0.058824</td>\n",
       "      <td>0.058824</td>\n",
       "      <td>0.058824</td>\n",
       "      <td>0.058824</td>\n",
       "      <td>0.058824</td>\n",
       "      <td>0.058824</td>\n",
       "    </tr>\n",
       "  </tbody>\n",
       "</table>\n",
       "<p>3 rows × 433 columns</p>\n",
       "</div>"
      ],
      "text/plain": [
       "             Type 1=Normal  Type 1=Ground  Type 1=Ghost  Type 1=Dark  \\\n",
       "Ordinary          0.122530       0.037549      0.037549     0.039526   \n",
       "Legendary         0.042857       0.028571      0.042857     0.028571   \n",
       "Ultra Beast       0.043478       0.043478      0.043478     0.043478   \n",
       "\n",
       "             Type 1=Dragon  Type 1=Poison  Type 1=Water  Type 1=Bug  \\\n",
       "Ordinary          0.033597       0.033597      0.146245    0.081028   \n",
       "Legendary         0.142857       0.014286      0.085714    0.014286   \n",
       "Ultra Beast       0.043478       0.130435      0.043478    0.086957   \n",
       "\n",
       "             Type 1=Rock  Type 1=Grass       ...        EggGroup 2=Water 1  \\\n",
       "Ordinary        0.051383      0.086957       ...                  0.083004   \n",
       "Legendary       0.042857      0.057143       ...                  0.015625   \n",
       "Ultra Beast     0.086957      0.043478       ...                  0.058824   \n",
       "\n",
       "             EggGroup 2=Water 3  EggGroup 2=Grass  EggGroup 2=Fairy  \\\n",
       "Ordinary               0.011858          0.029644          0.057312   \n",
       "Legendary              0.015625          0.015625          0.015625   \n",
       "Ultra Beast            0.058824          0.058824          0.058824   \n",
       "\n",
       "             EggGroup 2=Human-Like  EggGroup 2=Dragon  EggGroup 2=Amorphous  \\\n",
       "Ordinary                  0.021739           0.061265              0.001976   \n",
       "Legendary                 0.015625           0.015625              0.015625   \n",
       "Ultra Beast               0.058824           0.058824              0.058824   \n",
       "\n",
       "             EggGroup 2=Water 2  EggGroup 2=Flying  EggGroup 2=Bug  \n",
       "Ordinary               0.009881           0.003953        0.001976  \n",
       "Legendary              0.015625           0.015625        0.015625  \n",
       "Ultra Beast            0.058824           0.058824        0.058824  \n",
       "\n",
       "[3 rows x 433 columns]"
      ]
     },
     "execution_count": 65,
     "metadata": {},
     "output_type": "execute_result"
    }
   ],
   "source": [
    "nBayes._categoricalProbTable"
   ]
  },
  {
   "cell_type": "code",
   "execution_count": 43,
   "metadata": {},
   "outputs": [
    {
     "data": {
      "text/plain": [
       "1.0424547283702215"
      ]
     },
     "execution_count": 43,
     "metadata": {},
     "output_type": "execute_result"
    }
   ],
   "source": [
    "training[training[\"Group\"] == \"Ordinary\"][\"Height (m)\"].mean()"
   ]
  },
  {
   "cell_type": "code",
   "execution_count": 79,
   "metadata": {
    "scrolled": true
   },
   "outputs": [
    {
     "data": {
      "text/plain": [
       "array(['Ordinary', 'Legendary', 'Ultra Beast'], dtype=object)"
      ]
     },
     "execution_count": 79,
     "metadata": {},
     "output_type": "execute_result"
    }
   ],
   "source": [
    "training[\"Group\"].unique()"
   ]
  },
  {
   "cell_type": "code",
   "execution_count": null,
   "metadata": {},
   "outputs": [],
   "source": [
    "for i in training[\"FemaleRatio\"]: print(i)"
   ]
  },
  {
   "cell_type": "code",
   "execution_count": null,
   "metadata": {},
   "outputs": [],
   "source": [
    "mean = training[\"FemaleRatio\"].mean()\n",
    "math.sqrt(sum(map(lambda x: (x-mean)**2, training[\"FemaleRatio\"])) / len(training))"
   ]
  },
  {
   "cell_type": "code",
   "execution_count": 70,
   "metadata": {},
   "outputs": [
    {
     "name": "stdout",
     "output_type": "stream",
     "text": [
      "0.0\n"
     ]
    },
    {
     "data": {
      "text/plain": [
       "0.0"
      ]
     },
     "execution_count": 70,
     "metadata": {},
     "output_type": "execute_result"
    }
   ],
   "source": [
    "s = [1 for i in range(100)]\n",
    "s = []\n",
    "mean = sum(s) / 100\n",
    "print(mean)\n",
    "math.sqrt(sum(map(lambda x: (x-mean)**2, s)) / len(training))"
   ]
  },
  {
   "cell_type": "code",
   "execution_count": 18,
   "metadata": {},
   "outputs": [
    {
     "data": {
      "text/plain": [
       "6.298736258150442e-05"
      ]
     },
     "execution_count": 18,
     "metadata": {},
     "output_type": "execute_result"
    }
   ],
   "source": [
    "value = 1.1\n",
    "mean = 20\n",
    "std = 5\n",
    "prob = (1 / (math.sqrt(2 * (std**2) * math.pi))) * math.exp(-(value - mean)**2 / (2 * std**2))\n",
    "prob"
   ]
  },
  {
   "cell_type": "code",
   "execution_count": null,
   "metadata": {},
   "outputs": [],
   "source": [
    "def filter(dataFrame, column, value):\n",
    "    return dataFrame[dataFrame[column] == value]"
   ]
  },
  {
   "cell_type": "code",
   "execution_count": null,
   "metadata": {},
   "outputs": [],
   "source": [
    "filter(training, \"Type 1\", \"Normal\")[\"Group\"].value_counts()"
   ]
  },
  {
   "cell_type": "code",
   "execution_count": null,
   "metadata": {},
   "outputs": [],
   "source": [
    "training[\"Group\"].value_counts()"
   ]
  },
  {
   "cell_type": "code",
   "execution_count": null,
   "metadata": {},
   "outputs": [],
   "source": [
    "training[\"Type 1\"].value_counts()"
   ]
  },
  {
   "cell_type": "markdown",
   "metadata": {},
   "source": [
    "### Plot Error Rate"
   ]
  },
  {
   "cell_type": "code",
   "execution_count": null,
   "metadata": {
    "scrolled": true
   },
   "outputs": [],
   "source": [
    "ratios = [0.2, 0.4, 0.6, 0.8]\n",
    "dt = DecisionTree(\"Group\")\n",
    "x = []\n",
    "y = []\n",
    "\n",
    "for ratio in ratios:\n",
    "    print(\"************ Split ratio: \", ratio)\n",
    "    training, test = splitData(data, ratio)\n",
    "    node = dt.train(training)\n",
    "    predictions = dt.classify(test, node)\n",
    "    error = computeError(predictions, test[dt.targetFeature])\n",
    "    \n",
    "    x.append(len(training))\n",
    "    y.append(error)"
   ]
  },
  {
   "cell_type": "code",
   "execution_count": null,
   "metadata": {},
   "outputs": [],
   "source": [
    "plt.plot(x, y, 'bo-', label=\"With categorical and continuous features\")\n",
    "plt.xlabel(\"Trainging Set size\")\n",
    "plt.ylabel(\"Error Rate\")\n",
    "plt.legend(loc=\"best\")"
   ]
  },
  {
   "cell_type": "code",
   "execution_count": null,
   "metadata": {
    "scrolled": true
   },
   "outputs": [],
   "source": [
    "# Get data profile\n",
    "profile = pdp.ProfileReport(dataWithDummies)\n",
    "profile.to_file(\"Profile.html\")\n",
    "profile = None\n",
    "gc.collect()"
   ]
  }
 ],
 "metadata": {
  "kernelspec": {
   "display_name": "Python 3",
   "language": "python",
   "name": "python3"
  },
  "language_info": {
   "codemirror_mode": {
    "name": "ipython",
    "version": 3
   },
   "file_extension": ".py",
   "mimetype": "text/x-python",
   "name": "python",
   "nbconvert_exporter": "python",
   "pygments_lexer": "ipython3",
   "version": "3.7.1"
  }
 },
 "nbformat": 4,
 "nbformat_minor": 2
}
