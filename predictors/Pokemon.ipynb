{
 "cells": [
  {
   "cell_type": "markdown",
   "metadata": {},
   "source": [
    "# Using Decision Tree & Naive Bayes to classify Pokemon"
   ]
  },
  {
   "cell_type": "markdown",
   "metadata": {},
   "source": [
    "## Import libraries"
   ]
  },
  {
   "cell_type": "code",
   "execution_count": 2,
   "metadata": {
    "scrolled": true
   },
   "outputs": [],
   "source": [
    "import gc\n",
    "import random\n",
    "import time\n",
    "import math\n",
    "import numpy as np\n",
    "import pandas as pd\n",
    "import matplotlib.pyplot as plt\n",
    "from sklearn.metrics import roc_curve, auc\n",
    "import pandas_profiling as pdp\n",
    "import utils as ut\n",
    "import decisionTree as dt\n",
    "import naiveBayes as nb\n",
    "\n",
    "%matplotlib inline\n",
    "%load_ext autoreload\n",
    "%autoreload 2"
   ]
  },
  {
   "cell_type": "code",
   "execution_count": null,
   "metadata": {},
   "outputs": [],
   "source": [
    "%reload_ext autoreload"
   ]
  },
  {
   "cell_type": "code",
   "execution_count": 3,
   "metadata": {},
   "outputs": [],
   "source": [
    "# Set packages options\n",
    "# np.set_printoptions(threshold=np.nan)\n",
    "# pd.set_option(\"display.max_columns\", 600)\n",
    "plt.rcParams[\"figure.figsize\"] = (9, 5)"
   ]
  },
  {
   "cell_type": "markdown",
   "metadata": {},
   "source": [
    "## Define constants and functions"
   ]
  },
  {
   "cell_type": "code",
   "execution_count": 4,
   "metadata": {},
   "outputs": [],
   "source": [
    "# Constants\n",
    "TypeColorMappings = {\"Water\": \"#6890F0\", \"Fire\": \"#F08030\", \"Grass\": \"#78C850\",\n",
    "                     \"Dark\": \"#705848\", \"Electric\": \"#F8D030\", \"Flying\": \"#A890F0\",\n",
    "                     \"Normal\": \"#A8A878\", \"Fighting\": \"#C03028\", \"Poison\": \"#A040A0\",\n",
    "                     \"Ground\": \"#E0C068\", \"Psychic\": \"#F85888\", \"Rock\": \"#B8A038\", \n",
    "                     \"Ice\": \"#98D8D8\", \"Bug\": \"#A8B820\", \"Dragon\": \"#7038F8\", \n",
    "                     \"Ghost\": \"#705898\", \"Steel\": \"#B8B8D0\", \"Fairy\": \"#EE99AC\"}\n",
    "\n",
    "DropColumns = [\"Pokedex\", \"Name\", \"Generation\", \"Category\"]\n",
    "\n",
    "def getColorList(typeCounts):\n",
    "    assert type(typeCounts) == pd.core.series.Series, \"Argument must be a Series object\"\n",
    "    return [TypeColorMappings[pokemonType] for pokemonType in typeCounts.index]\n",
    "\n",
    "def getRandomColor():\n",
    "    return \"#%02X%02X%02X\" % (random.randint(0,255), random.randint(0,255), random.randint(0,255))\n",
    "\n",
    "def filterByValue(dataFrame, column, value):\n",
    "    return dataFrame[dataFrame[column] == value]"
   ]
  },
  {
   "cell_type": "markdown",
   "metadata": {},
   "source": [
    "## Load the data from file"
   ]
  },
  {
   "cell_type": "code",
   "execution_count": 5,
   "metadata": {
    "scrolled": false
   },
   "outputs": [
    {
     "data": {
      "text/html": [
       "<div>\n",
       "<style scoped>\n",
       "    .dataframe tbody tr th:only-of-type {\n",
       "        vertical-align: middle;\n",
       "    }\n",
       "\n",
       "    .dataframe tbody tr th {\n",
       "        vertical-align: top;\n",
       "    }\n",
       "\n",
       "    .dataframe thead th {\n",
       "        text-align: right;\n",
       "    }\n",
       "</style>\n",
       "<table border=\"1\" class=\"dataframe\">\n",
       "  <thead>\n",
       "    <tr style=\"text-align: right;\">\n",
       "      <th></th>\n",
       "      <th>Generation</th>\n",
       "      <th>Pokedex</th>\n",
       "      <th>Name</th>\n",
       "      <th>Category</th>\n",
       "      <th>Type 1</th>\n",
       "      <th>Type 2</th>\n",
       "      <th>Ability 1</th>\n",
       "      <th>Ability 2</th>\n",
       "      <th>Ability 3</th>\n",
       "      <th>MaleRatio</th>\n",
       "      <th>...</th>\n",
       "      <th>EggGroup 1</th>\n",
       "      <th>EggGroup 2</th>\n",
       "      <th>HP</th>\n",
       "      <th>Attack</th>\n",
       "      <th>Defense</th>\n",
       "      <th>Sp.Attack</th>\n",
       "      <th>Sp.Defense</th>\n",
       "      <th>Speed</th>\n",
       "      <th>Total</th>\n",
       "      <th>Group</th>\n",
       "    </tr>\n",
       "  </thead>\n",
       "  <tbody>\n",
       "    <tr>\n",
       "      <th>285</th>\n",
       "      <td>2.0</td>\n",
       "      <td>245.0</td>\n",
       "      <td>Suicune</td>\n",
       "      <td>Aurora Pokemon</td>\n",
       "      <td>Water</td>\n",
       "      <td>None</td>\n",
       "      <td>Pressure</td>\n",
       "      <td>Inner Focus</td>\n",
       "      <td>None</td>\n",
       "      <td>0.0</td>\n",
       "      <td>...</td>\n",
       "      <td>Undiscovered</td>\n",
       "      <td>None</td>\n",
       "      <td>100.0</td>\n",
       "      <td>75.0</td>\n",
       "      <td>115.0</td>\n",
       "      <td>90.0</td>\n",
       "      <td>115.0</td>\n",
       "      <td>85.0</td>\n",
       "      <td>580</td>\n",
       "      <td>Legendary</td>\n",
       "    </tr>\n",
       "    <tr>\n",
       "      <th>858</th>\n",
       "      <td>7.0</td>\n",
       "      <td>738.0</td>\n",
       "      <td>Vikavolt</td>\n",
       "      <td>Stag Beetle Pokemon</td>\n",
       "      <td>Bug</td>\n",
       "      <td>Electric</td>\n",
       "      <td>Levitate</td>\n",
       "      <td>None</td>\n",
       "      <td>None</td>\n",
       "      <td>50.0</td>\n",
       "      <td>...</td>\n",
       "      <td>Bug</td>\n",
       "      <td>None</td>\n",
       "      <td>77.0</td>\n",
       "      <td>70.0</td>\n",
       "      <td>90.0</td>\n",
       "      <td>145.0</td>\n",
       "      <td>75.0</td>\n",
       "      <td>43.0</td>\n",
       "      <td>500</td>\n",
       "      <td>Ordinary</td>\n",
       "    </tr>\n",
       "    <tr>\n",
       "      <th>693</th>\n",
       "      <td>5.0</td>\n",
       "      <td>598.0</td>\n",
       "      <td>Ferrothorn</td>\n",
       "      <td>Thorn Pod Pokemon</td>\n",
       "      <td>Grass</td>\n",
       "      <td>Steel</td>\n",
       "      <td>Iron Barbs</td>\n",
       "      <td>Anticipation</td>\n",
       "      <td>None</td>\n",
       "      <td>50.0</td>\n",
       "      <td>...</td>\n",
       "      <td>Mineral</td>\n",
       "      <td>Grass</td>\n",
       "      <td>74.0</td>\n",
       "      <td>94.0</td>\n",
       "      <td>131.0</td>\n",
       "      <td>54.0</td>\n",
       "      <td>116.0</td>\n",
       "      <td>20.0</td>\n",
       "      <td>489</td>\n",
       "      <td>Ordinary</td>\n",
       "    </tr>\n",
       "    <tr>\n",
       "      <th>671</th>\n",
       "      <td>5.0</td>\n",
       "      <td>582.0</td>\n",
       "      <td>Vanillite</td>\n",
       "      <td>Fresh Snow Pokemon</td>\n",
       "      <td>Ice</td>\n",
       "      <td>None</td>\n",
       "      <td>Weak Armor</td>\n",
       "      <td>Ice Body</td>\n",
       "      <td>Snow Cloak</td>\n",
       "      <td>50.0</td>\n",
       "      <td>...</td>\n",
       "      <td>Mineral</td>\n",
       "      <td>None</td>\n",
       "      <td>36.0</td>\n",
       "      <td>50.0</td>\n",
       "      <td>50.0</td>\n",
       "      <td>65.0</td>\n",
       "      <td>60.0</td>\n",
       "      <td>44.0</td>\n",
       "      <td>305</td>\n",
       "      <td>Ordinary</td>\n",
       "    </tr>\n",
       "    <tr>\n",
       "      <th>874</th>\n",
       "      <td>7.0</td>\n",
       "      <td>748.0</td>\n",
       "      <td>Toxapex</td>\n",
       "      <td>Brutal Star Pokemon</td>\n",
       "      <td>Poison</td>\n",
       "      <td>Water</td>\n",
       "      <td>Merciless</td>\n",
       "      <td>Limber</td>\n",
       "      <td>Regenerator</td>\n",
       "      <td>50.0</td>\n",
       "      <td>...</td>\n",
       "      <td>Water 1</td>\n",
       "      <td>None</td>\n",
       "      <td>50.0</td>\n",
       "      <td>63.0</td>\n",
       "      <td>152.0</td>\n",
       "      <td>53.0</td>\n",
       "      <td>142.0</td>\n",
       "      <td>35.0</td>\n",
       "      <td>495</td>\n",
       "      <td>Ordinary</td>\n",
       "    </tr>\n",
       "  </tbody>\n",
       "</table>\n",
       "<p>5 rows × 23 columns</p>\n",
       "</div>"
      ],
      "text/plain": [
       "     Generation  Pokedex        Name             Category  Type 1    Type 2  \\\n",
       "285         2.0    245.0     Suicune       Aurora Pokemon   Water      None   \n",
       "858         7.0    738.0    Vikavolt  Stag Beetle Pokemon     Bug  Electric   \n",
       "693         5.0    598.0  Ferrothorn    Thorn Pod Pokemon   Grass     Steel   \n",
       "671         5.0    582.0   Vanillite   Fresh Snow Pokemon     Ice      None   \n",
       "874         7.0    748.0     Toxapex  Brutal Star Pokemon  Poison     Water   \n",
       "\n",
       "      Ability 1     Ability 2    Ability 3  MaleRatio    ...      \\\n",
       "285    Pressure   Inner Focus         None        0.0    ...       \n",
       "858    Levitate          None         None       50.0    ...       \n",
       "693  Iron Barbs  Anticipation         None       50.0    ...       \n",
       "671  Weak Armor      Ice Body   Snow Cloak       50.0    ...       \n",
       "874   Merciless        Limber  Regenerator       50.0    ...       \n",
       "\n",
       "       EggGroup 1  EggGroup 2     HP Attack Defense  Sp.Attack  Sp.Defense  \\\n",
       "285  Undiscovered        None  100.0   75.0   115.0       90.0       115.0   \n",
       "858           Bug        None   77.0   70.0    90.0      145.0        75.0   \n",
       "693       Mineral       Grass   74.0   94.0   131.0       54.0       116.0   \n",
       "671       Mineral        None   36.0   50.0    50.0       65.0        60.0   \n",
       "874       Water 1        None   50.0   63.0   152.0       53.0       142.0   \n",
       "\n",
       "     Speed  Total      Group  \n",
       "285   85.0    580  Legendary  \n",
       "858   43.0    500   Ordinary  \n",
       "693   20.0    489   Ordinary  \n",
       "671   44.0    305   Ordinary  \n",
       "874   35.0    495   Ordinary  \n",
       "\n",
       "[5 rows x 23 columns]"
      ]
     },
     "execution_count": 5,
     "metadata": {},
     "output_type": "execute_result"
    }
   ],
   "source": [
    "# Load the Pokemon data\n",
    "fileName = r'.\\Pokemon_Cleaned.tsv'\n",
    "columnTypes = {\"Name\": str, \"Category\": str, \"Type 1\": str, \"Type 2\": str, \n",
    "               \"Ability 1\": str, \"Ability 2\": str, \"Ability 3\": str, \"Group\": str}\n",
    "data = pd.read_csv(fileName, header=0, sep='\\t', dtype=columnTypes)\n",
    "data.sample(5)"
   ]
  },
  {
   "cell_type": "markdown",
   "metadata": {},
   "source": [
    "## Plot graphs to visualize and understand the data"
   ]
  },
  {
   "cell_type": "markdown",
   "metadata": {},
   "source": [
    "### Group Distribution"
   ]
  },
  {
   "cell_type": "code",
   "execution_count": null,
   "metadata": {},
   "outputs": [],
   "source": [
    "# Plot Group occurences to see the distributions\n",
    "groupFig, groupAxes = plt.subplots(nrows=1, ncols=1)\n",
    "groupCounts = data[\"Group\"].value_counts()\n",
    "groupAxe = groupCounts.plot(title=\"Group\", kind=\"bar\")\n",
    "groupAxe.set(xlabel=\"Group Types\", ylabel=\"Count\")\n",
    "plt.show()"
   ]
  },
  {
   "cell_type": "markdown",
   "metadata": {},
   "source": [
    "### Plots of Pokemon vs. All Continuous Features & Generation vs. All Continuous Features"
   ]
  },
  {
   "cell_type": "code",
   "execution_count": null,
   "metadata": {
    "scrolled": true
   },
   "outputs": [],
   "source": [
    "ordi = filterByValue(data, \"Group\", \"Ordinary\")\n",
    "lg = filterByValue(data, \"Group\", \"Legendary\")\n",
    "ub = filterByValue(data, \"Group\", \"Ultra Beast\")\n",
    "\n",
    "continuousFeatures = data.select_dtypes(include=[np.int64, np.float64]).drop([\"Generation\", \"Pokedex\"], axis=1)\n",
    "combinations = []\n",
    "\n",
    "for x in continuousFeatures:    \n",
    "    for y in continuousFeatures:\n",
    "        if not ((x, y) in combinations or (y, x) in combinations) and (x != y):\n",
    "            combinations.append((x, y))\n",
    "\n",
    "for x, y in combinations:\n",
    "    axe = ordi.plot(x, y, kind=\"scatter\", c=\"b\")\n",
    "    lg.plot(x, y, kind=\"scatter\", c=\"r\", ax=axe)\n",
    "    ub.plot(x, y, kind=\"scatter\", c=\"g\", ax=axe)\n",
    "    \n",
    "#     figure, axes = plt.subplots(nrows=1, ncols=2, figsize=(16,6.5))\n",
    "    \n",
    "#     axes[0].set_xlabel(\"Pokemon Index\")\n",
    "#     axes[0].set_ylabel(feature)\n",
    "#     axes[0].scatter(ordi.index, ordi[feature], c=\"b\", label=\"Ordinary\")\n",
    "#     axes[0].scatter(lg.index, lg[feature], c=\"r\", label=\"Legendary\")\n",
    "#     axes[0].scatter(ub.index, ub[feature], c=\"g\", label=\"Ultra Beast\")\n",
    "#     axes[0].legend(loc='best')\n",
    "    \n",
    "#     axes[1].set_xlabel(\"Generation\")\n",
    "#     axes[1].set_ylabel(feature)\n",
    "#     axes[1].scatter(ordi[\"Generation\"], ordi[feature], c=\"b\", label=\"Ordinary\")\n",
    "#     axes[1].scatter(lg[\"Generation\"], lg[feature], c=\"r\", label=\"Legendary\")\n",
    "#     axes[1].scatter(ub[\"Generation\"], ub[feature], c=\"g\", label=\"Ultra Beast\")\n",
    "#     axes[1].legend(loc='best')"
   ]
  },
  {
   "cell_type": "markdown",
   "metadata": {},
   "source": [
    "### Histograms of Continuous Features"
   ]
  },
  {
   "cell_type": "code",
   "execution_count": null,
   "metadata": {
    "scrolled": true
   },
   "outputs": [],
   "source": [
    "data.hist(figsize=(20,20))\n",
    "plt.show()"
   ]
  },
  {
   "cell_type": "markdown",
   "metadata": {},
   "source": [
    "We can see that features with uniform distribution may not contribute much to Decision Tree model because the model will be biased toward to those features since there is more entropy within those features."
   ]
  },
  {
   "cell_type": "markdown",
   "metadata": {},
   "source": [
    "### Box Plot of Total & Group"
   ]
  },
  {
   "cell_type": "code",
   "execution_count": null,
   "metadata": {
    "scrolled": false
   },
   "outputs": [],
   "source": [
    "data.boxplot(\"Total\", \"Group\")\n",
    "plt.title(\"Total & Group\")\n",
    "plt.suptitle(\"\")\n",
    "plt.show()"
   ]
  },
  {
   "cell_type": "markdown",
   "metadata": {},
   "source": [
    "<p> According to the boxplot above, we can see that despite having a small quanity in size, <b>Legendary Pokemon</b> has the highest <b>Total</b> stats compared to the other 2 groups.</p>"
   ]
  },
  {
   "cell_type": "markdown",
   "metadata": {},
   "source": [
    "## Training & Test Data"
   ]
  },
  {
   "cell_type": "code",
   "execution_count": 58,
   "metadata": {},
   "outputs": [],
   "source": [
    "target = \"Group\"\n",
    "labels = data[target].unique()\n",
    "labelColors = {\"Ordinary\": \"b\", \"Legendary\": \"r\", \"Ultra Beast\": \"g\"}\n",
    "probThresholds = pd.Series({\"Ordinary\": 0.4, \"Ultra Beast\": 0.3, \"Legendary\": 0.3})\n",
    "\n",
    "# injectedData = ut.injectMinoritySample([\"Ultra Beast\", \"Legendary\"], \"Group\", data)\n",
    "# reducedData = data.drop(DropColumns, axis=1)\n",
    "# training, test = ut.splitData(target, reducedData, 0.65)"
   ]
  },
  {
   "cell_type": "code",
   "execution_count": null,
   "metadata": {},
   "outputs": [],
   "source": [
    "print(training[target].value_counts())\n",
    "print(test[target].value_counts())"
   ]
  },
  {
   "cell_type": "markdown",
   "metadata": {},
   "source": [
    "## Decision Tree"
   ]
  },
  {
   "cell_type": "code",
   "execution_count": 99,
   "metadata": {},
   "outputs": [
    {
     "name": "stdout",
     "output_type": "stream",
     "text": [
      "Function \"train\" took 15.41 seconds to complete\n"
     ]
    }
   ],
   "source": [
    "dtree = dt.DecisionTree(target, maxDepth=3, probThresholds=probThresholds)\n",
    "dtree.train(training)\n",
    "dtPred = dtree.classify(test.drop([target], axis=1))"
   ]
  },
  {
   "cell_type": "code",
   "execution_count": 79,
   "metadata": {},
   "outputs": [],
   "source": [
    "thresholds = []\n",
    "for i in range(1, 10):\n",
    "    threshold = i/10\n",
    "    otherThreshold = (1 - threshold) / 2\n",
    "    for j in range(len(labels)):\n",
    "        tempDict = {}\n",
    "        tempDict[labels[j]] = threshold\n",
    "        for k in range(len(labels)):\n",
    "            if (k != j):\n",
    "                tempDict[labels[k]] = otherThreshold\n",
    "        thresholds.append(pd.Series(tempDict))"
   ]
  },
  {
   "cell_type": "code",
   "execution_count": null,
   "metadata": {},
   "outputs": [],
   "source": [
    "precisions = []\n",
    "recalls = []\n",
    "for t in thresholds:\n",
    "    model = dt.DecisionTree(target, maxDepth=2, probThresholds=t)\n",
    "    model.train(training, quiet=True)\n",
    "    pred = model.classify(test.drop([target], axis=1))\n",
    "    matrix = ut.buildConfusionMatrix(pred[\"Prediction\"], test[target], labels)\n",
    "    precision, recall = ut.getPrecisionsAndRecalls(matrix, labels)\n",
    "    \n",
    "    precisions.append(precision)\n",
    "    recalls.append(recall)"
   ]
  },
  {
   "cell_type": "code",
   "execution_count": 125,
   "metadata": {},
   "outputs": [],
   "source": [
    "ordiPR = []\n",
    "lgPR = []\n",
    "ubPR = []\n",
    "for p, r in zip(precisions, recalls):\n",
    "    ordiPR.append((r[\"Ordinary\"], p[\"Ordinary\"]))\n",
    "    lgPR.append((r[\"Legendary\"], p[\"Legendary\"]))\n",
    "    ubPR.append((r[\"Ultra Beast\"], p[\"Ultra Beast\"]))\n",
    "\n",
    "ordiPR.sort(key=lambda x: x[0])\n",
    "lgPR.sort(key=lambda x: x[0])\n",
    "ubPR.sort(key=lambda x: x[0])"
   ]
  },
  {
   "cell_type": "code",
   "execution_count": 148,
   "metadata": {},
   "outputs": [
    {
     "data": {
      "text/plain": [
       "[<matplotlib.lines.Line2D at 0xe4265219b0>]"
      ]
     },
     "execution_count": 148,
     "metadata": {},
     "output_type": "execute_result"
    },
    {
     "data": {
      "image/png": "[encoded data removed]",
      "text/plain": [
       "<Figure size 1152x468 with 3 Axes>"
      ]
     },
     "metadata": {
      "needs_background": "light"
     },
     "output_type": "display_data"
    }
   ],
   "source": [
    "figure, axes = plt.subplots(nrows=1, ncols=3, figsize=(16,6.5))\n",
    "    \n",
    "axes[0].set_xlabel(\"Recall\")\n",
    "axes[0].set_ylabel(\"Precision\")\n",
    "axes[0].set_xlim([0, 1])\n",
    "axes[0].plot([i[0] for i in ordiPR], [i[1] for i in ordiPR], 'bo-')\n",
    "\n",
    "axes[1].set_xlabel(\"Recall\")\n",
    "axes[1].set_ylabel(\"Precision\")\n",
    "axes[1].set_xlim([0, 1])\n",
    "axes[1].plot([i[0] for i in lgPR], [i[1] for i in lgPR], 'ro-')\n",
    "\n",
    "axes[2].set_xlabel(\"Recall\")\n",
    "axes[2].set_ylabel(\"Precision\")\n",
    "axes[2].set_xlim([0, 1.3])\n",
    "axes[2].set_ylim([0, 1.3])\n",
    "axes[2].plot([i[0] for i in ubPR], [i[1] for i in ubPR], 'go-')"
   ]
  },
  {
   "cell_type": "code",
   "execution_count": 130,
   "metadata": {},
   "outputs": [
    {
     "data": {
      "text/plain": [
       "[(1.0, 1.0),\n",
       " (1.0, 1.0),\n",
       " (1.0, 1.0),\n",
       " (1.0, 1.0),\n",
       " (1.0, 1.0),\n",
       " (1.0, 1.0),\n",
       " (1.0, 1.0),\n",
       " (1.0, 1.0),\n",
       " (1.0, 1.0),\n",
       " (1.0, 1.0),\n",
       " (1.0, 1.0),\n",
       " (1.0, 1.0),\n",
       " (1.0, 1.0),\n",
       " (1.0, 1.0),\n",
       " (1.0, 1.0),\n",
       " (1.0, 1.0),\n",
       " (1.0, 1.0),\n",
       " (1.0, 1.0),\n",
       " (1.0, 1.0),\n",
       " (1.0, 1.0),\n",
       " (1.0, 1.0),\n",
       " (1.0, 1.0),\n",
       " (1.0, 1.0),\n",
       " (1.0, 1.0),\n",
       " (1.0, 1.0),\n",
       " (1.0, 1.0),\n",
       " (1.0, 1.0)]"
      ]
     },
     "execution_count": 130,
     "metadata": {},
     "output_type": "execute_result"
    }
   ],
   "source": [
    "ubPR"
   ]
  },
  {
   "cell_type": "code",
   "execution_count": 83,
   "metadata": {},
   "outputs": [
    {
     "data": {
      "text/plain": [
       "[{'Legendary': 0.75, 'Ordinary': 0.9932659932659933, 'Ultra Beast': 1.0}]"
      ]
     },
     "execution_count": 83,
     "metadata": {},
     "output_type": "execute_result"
    }
   ],
   "source": [
    "recalls"
   ]
  },
  {
   "cell_type": "code",
   "execution_count": null,
   "metadata": {},
   "outputs": [],
   "source": [
    "thresholds"
   ]
  },
  {
   "cell_type": "code",
   "execution_count": 8,
   "metadata": {
    "scrolled": false
   },
   "outputs": [
    {
     "name": "stdout",
     "output_type": "stream",
     "text": [
      "Function \"train\" took 28.46 seconds to complete\n"
     ]
    }
   ],
   "source": [
    "# Use Decision Tree to train on the training set and predict on the test set\n",
    "dtree = dt.DecisionTree(target, maxDepth=4)\n",
    "dtree.train(training)\n",
    "dtPred = dtree.classify(test.drop([target], axis=1))"
   ]
  },
  {
   "cell_type": "code",
   "execution_count": 53,
   "metadata": {},
   "outputs": [
    {
     "data": {
      "text/plain": [
       "'Error 2.74%'"
      ]
     },
     "execution_count": 53,
     "metadata": {},
     "output_type": "execute_result"
    }
   ],
   "source": [
    "dtMatrix = ut.buildConfusionMatrix(dtPred[\"Prediction\"], test[target], labels)\n",
    "dtPrecisions, dtRecalls = ut.getPrecisionsAndRecalls(dtMatrix, labels)\n",
    "dtFScores = ut.computeFScores(dtPrecisions, dtRecalls)\n",
    "\"Error {0:.2f}%\".format(ut.computeError(dtPred[\"Prediction\"], test[\"Group\"]) * 100)"
   ]
  },
  {
   "cell_type": "markdown",
   "metadata": {},
   "source": [
    "### Decision Tree Confusion Matrix"
   ]
  },
  {
   "cell_type": "code",
   "execution_count": null,
   "metadata": {},
   "outputs": [],
   "source": [
    "dtMatrix"
   ]
  },
  {
   "cell_type": "code",
   "execution_count": null,
   "metadata": {},
   "outputs": [],
   "source": [
    "dtPrecisions"
   ]
  },
  {
   "cell_type": "code",
   "execution_count": null,
   "metadata": {},
   "outputs": [],
   "source": [
    "dtRecalls"
   ]
  },
  {
   "cell_type": "code",
   "execution_count": null,
   "metadata": {},
   "outputs": [],
   "source": [
    "dtFScores"
   ]
  },
  {
   "cell_type": "code",
   "execution_count": null,
   "metadata": {},
   "outputs": [],
   "source": [
    "from sklearn.metrics import precision_recall_fscore_support\n",
    "from sklearn.metrics import precision_recall_curve\n",
    "from sklearn.metrics import average_precision_score\n",
    "from sklearn.preprocessing import label_binarize"
   ]
  },
  {
   "cell_type": "code",
   "execution_count": null,
   "metadata": {},
   "outputs": [],
   "source": [
    "\n",
    "yhat = [v[0] for v in dtPred.values]\n",
    "yhatProb = [v[1] for v in dtPred.values]\n",
    "ytrue = test[target]\n",
    "# ytrue = []\n",
    "# for v in test[target]:\n",
    "#     if (v == \"Ordinary\"):\n",
    "#         ytrue.append(0)\n",
    "#     elif (v == \"Legendary\"):\n",
    "#         ytrue.append(1)\n",
    "#     else:\n",
    "#         ytrue.append(2)\n",
    "        \n",
    "        \n",
    "precision = dict()\n",
    "recall = dict()\n",
    "avgPrec = dict()\n",
    "\n",
    "for label in labels:\n",
    "    precision[label], recall[label], _ = precision_recall_curve(ytrue, yhatProb, pos_label=label)\n",
    "    #avgPrec[label] = average_precision_score(ytrue, yhatProb)\n",
    "\n"
   ]
  },
  {
   "cell_type": "code",
   "execution_count": null,
   "metadata": {},
   "outputs": [],
   "source": [
    "for i in labels:\n",
    "    l, = plt.plot(recall[i], precision[i], lw=2)"
   ]
  },
  {
   "cell_type": "markdown",
   "metadata": {},
   "source": [
    "### Decision Tree Depth"
   ]
  },
  {
   "cell_type": "code",
   "execution_count": null,
   "metadata": {},
   "outputs": [],
   "source": [
    "treeDepths = [i for i in range(10)]\n",
    "depthErrors = []\n",
    "for depth in treeDepths:\n",
    "    learner = dt.DecisionTree(target, depth)\n",
    "    learner.train(training, quiet=True)\n",
    "    pred = learner.classify(test.drop([target], axis=1))\n",
    "    err = ut.computeError(pred, test[\"Group\"])\n",
    "    depthErrors.append(err)"
   ]
  },
  {
   "cell_type": "code",
   "execution_count": null,
   "metadata": {},
   "outputs": [],
   "source": [
    "plt.plot(treeDepths, depthErrors, 'bo-')\n",
    "plt.title(\"Decision Tree Depth\")\n",
    "plt.xlabel(\"Tree Depth\")\n",
    "plt.ylabel(\"Error Rate\")\n",
    "plt.show()"
   ]
  },
  {
   "cell_type": "markdown",
   "metadata": {},
   "source": [
    "### Decision Tree ROC Curve"
   ]
  },
  {
   "cell_type": "code",
   "execution_count": null,
   "metadata": {},
   "outputs": [],
   "source": [
    "# For each label, treat other labels as \"negative\"\n",
    "for label in labels:\n",
    "    c = labelColors[label]\n",
    "    fpr, tpr, thresholds = roc_curve(y_true=test[target], y_score=[v[1] for v in dtPred.values], pos_label=label)\n",
    "    rocAuc = auc(fpr, tpr)\n",
    "    plt.plot(fpr, tpr, c, label='{0} AUC = {1:.2f}'.format(label, rocAuc))\n",
    "    \n",
    "plt.title('Receiver Operating Characteristic')\n",
    "plt.legend(loc='best')\n",
    "plt.plot([0,1],[0,1],'r--')\n",
    "plt.xlim([0, 1.05])\n",
    "plt.ylim([0, 1.05])\n",
    "plt.ylabel('True Positive Rate')\n",
    "plt.xlabel('False Positive Rate')\n",
    "plt.show()"
   ]
  },
  {
   "cell_type": "markdown",
   "metadata": {},
   "source": [
    "### Decision Tree K Fold Cross Validation from k=2 to k=10"
   ]
  },
  {
   "cell_type": "code",
   "execution_count": null,
   "metadata": {
    "scrolled": false
   },
   "outputs": [],
   "source": [
    "dtKErrors = ut.kFoldCrossValidationResult(10, target, training, dtree)"
   ]
  },
  {
   "cell_type": "markdown",
   "metadata": {},
   "source": [
    "### Compute the and means, variances, and standard deviations of the k fold cross validation result"
   ]
  },
  {
   "cell_type": "code",
   "execution_count": null,
   "metadata": {},
   "outputs": [],
   "source": [
    "means = [sum(e) / len(e) for e in dtKErrors]\n",
    "stds =  []\n",
    "variances = []\n",
    "\n",
    "for e, m in zip(dtKErrors, means):\n",
    "    v = sum(map(lambda x: (x - m)**2, e)) / len(e)\n",
    "    s = math.sqrt(v)\n",
    "    variances.append(v)\n",
    "    stds.append(s)"
   ]
  },
  {
   "cell_type": "markdown",
   "metadata": {},
   "source": [
    "### Plot the error rates represented by the mean, variance, and standard deviation"
   ]
  },
  {
   "cell_type": "code",
   "execution_count": null,
   "metadata": {},
   "outputs": [],
   "source": [
    "figure, axes = plt.subplots(nrows=2, ncols=2, figsize=(16, 8))\n",
    "figure.subplots_adjust(top=1.5, bottom=0.5)\n",
    "\n",
    "kRange = range(2, 2 + len(means))\n",
    "\n",
    "axes[0, 0].plot([i for i in kRange], means, \"bo-\", label=\"Mean\")\n",
    "axes[0, 0].plot([i for i in kRange], variances, \"ro-\", label=\"Variance\")\n",
    "axes[0, 0].plot([i for i in kRange], stds, \"go-\", label=\"Standard Deviation\")\n",
    "axes[0, 0].set_title(\"Decision Tree K Fold Error Summary\")\n",
    "axes[0, 0].set_xlabel(\"k Folds\")\n",
    "axes[0, 0].set_ylabel(\"Error Rate\")\n",
    "axes[0, 0].legend(loc=\"best\")\n",
    "\n",
    "axes[0, 1].plot([i for i in kRange], means, \"bo-\", label=\"Mean\")\n",
    "axes[0, 1].set_title(\"Decision Tree K Fold Mean Error\")\n",
    "axes[0, 1].set_xlabel(\"k Folds\")\n",
    "axes[0, 1].set_ylabel(\"Error Rate\")\n",
    "axes[0, 1].legend(loc=\"best\")\n",
    "\n",
    "axes[1, 1].plot([i for i in kRange], variances, \"ro-\", label=\"Variance\")\n",
    "axes[1, 1].set_title(\"Decision Tree K Fold Variance Error\")\n",
    "axes[1, 1].set_xlabel(\"k Folds\")\n",
    "axes[1, 1].set_ylabel(\"Error Rate\")\n",
    "axes[1, 1].legend(loc=\"best\")\n",
    "\n",
    "axes[1, 0].plot([i for i in kRange], stds, \"go-\", label=\"Standard Deviation\")\n",
    "axes[1, 0].set_title(\"Decision Tree K Fold Standard Deviation Error\")\n",
    "axes[1, 0].set_xlabel(\"k Folds\")\n",
    "axes[1, 0].set_ylabel(\"Error Rate\")\n",
    "axes[1, 0].legend(loc=\"best\")\n",
    "plt.show()"
   ]
  },
  {
   "cell_type": "markdown",
   "metadata": {},
   "source": [
    "## Naive Bayes"
   ]
  },
  {
   "cell_type": "code",
   "execution_count": null,
   "metadata": {
    "scrolled": false
   },
   "outputs": [],
   "source": [
    "# Use Naive Bayes to train on the training set and predict on the test data set\n",
    "nBayes = nb.NaiveBayes(target, labels)\n",
    "nBayes.train(training)\n",
    "nbPred = nBayes.classify(test.drop([target], axis=1))"
   ]
  },
  {
   "cell_type": "code",
   "execution_count": null,
   "metadata": {},
   "outputs": [],
   "source": [
    "nbMatrix = ut.buildConfusionMatrix(nbPred[\"Prediction\"], test[target], reducedData[target].unique())\n",
    "nbPrecisions, nbRecalls = ut.getPrecisionsAndRecalls(nbMatrix, reducedData[target].unique())\n",
    "nbFScores = ut.computeFScores(nbPrecisions, nbRecalls)\n",
    "nbSens, nbSpec = ut.getSensitivityAndSpecifiicy(nbMatrix, reducedData[target].unique())\n",
    "\"Error: {0:.2f}%\".format(ut.computeError(nbPred[\"Prediction\"], test[\"Group\"]) * 100)"
   ]
  },
  {
   "cell_type": "markdown",
   "metadata": {},
   "source": [
    "### Naive Bayes Confustion Matrix"
   ]
  },
  {
   "cell_type": "code",
   "execution_count": null,
   "metadata": {},
   "outputs": [],
   "source": [
    "nbMatrix"
   ]
  },
  {
   "cell_type": "markdown",
   "metadata": {},
   "source": [
    "### Naive Bayes ROC Curve"
   ]
  },
  {
   "cell_type": "code",
   "execution_count": null,
   "metadata": {},
   "outputs": [],
   "source": [
    "# For each label, treat other labels as \"negative\"\n",
    "for label in labels:\n",
    "    c = labelColors[label]\n",
    "    fpr, tpr, thresholds = roc_curve(y_true=test[target], y_score=[v[1] for v in nbPred.values], pos_label=label)\n",
    "    rocAuc = auc(fpr, tpr)\n",
    "    plt.plot(fpr, tpr, c, label='{0} AUC = {1:.2f}'.format(label, rocAuc))\n",
    "    \n",
    "plt.title('Receiver Operating Characteristic')\n",
    "plt.legend(loc='best')\n",
    "plt.plot([0,1],[0,1],'r--')\n",
    "plt.xlim([-0.1,1.2])\n",
    "plt.ylim([-0.1,1.2])\n",
    "plt.ylabel('True Positive Rate')\n",
    "plt.xlabel('False Positive Rate')\n",
    "plt.show()"
   ]
  },
  {
   "cell_type": "markdown",
   "metadata": {},
   "source": [
    "### Perform K Fold Cross Validations from k=2 to k=10"
   ]
  },
  {
   "cell_type": "code",
   "execution_count": null,
   "metadata": {
    "scrolled": false
   },
   "outputs": [],
   "source": [
    "nbKErrors = ut.kFoldCrossValidationResult(10, target, training, nBayes)"
   ]
  },
  {
   "cell_type": "markdown",
   "metadata": {},
   "source": [
    "### Compute the and means, variances, and standard deviations of the k fold cross validation result"
   ]
  },
  {
   "cell_type": "code",
   "execution_count": null,
   "metadata": {},
   "outputs": [],
   "source": [
    "means = [sum(e) / len(e) for e in nbKErrors]\n",
    "stds =  []\n",
    "variances = []\n",
    "\n",
    "for e, m in zip(nbKErrors, means):\n",
    "    v = sum(map(lambda x: (x - m)**2, e)) / len(e)\n",
    "    s = math.sqrt(v)\n",
    "    variances.append(v)\n",
    "    stds.append(s)"
   ]
  },
  {
   "cell_type": "markdown",
   "metadata": {},
   "source": [
    "### Plot the error rates represented by the mean, variance, and standard deviation"
   ]
  },
  {
   "cell_type": "code",
   "execution_count": null,
   "metadata": {},
   "outputs": [],
   "source": [
    "figure, axes = plt.subplots(nrows=2, ncols=2, figsize=(16, 8))\n",
    "figure.subplots_adjust(top=1.5, bottom=0.5)\n",
    "\n",
    "kRange = range(2, 2 + len(means))\n",
    "\n",
    "axes[0, 0].plot([i for i in kRange], means, \"bo-\", label=\"Mean\")\n",
    "axes[0, 0].plot([i for i in kRange], variances, \"ro-\", label=\"Variance\")\n",
    "axes[0, 0].plot([i for i in kRange], stds, \"go-\", label=\"Standard Deviation\")\n",
    "axes[0, 0].set_title(\"Naive Bayes K Fold Error Summary\")\n",
    "axes[0, 0].set_xlabel(\"k Folds\")\n",
    "axes[0, 0].set_ylabel(\"Error Rate\")\n",
    "axes[0, 0].legend(loc=\"best\")\n",
    "\n",
    "axes[0, 1].plot([i for i in kRange], means, \"bo-\", label=\"Mean\")\n",
    "axes[0, 1].set_title(\"Naive Bayes K Fold Mean Error\")\n",
    "axes[0, 1].set_xlabel(\"k Folds\")\n",
    "axes[0, 1].set_ylabel(\"Error Rate\")\n",
    "axes[0, 1].legend(loc=\"best\")\n",
    "\n",
    "axes[1, 1].plot([i for i in kRange], variances, \"ro-\", label=\"Variance\")\n",
    "axes[1, 1].set_title(\"Naive Bayes K Fold Variance Error\")\n",
    "axes[1, 1].set_xlabel(\"k Folds\")\n",
    "axes[1, 1].set_ylabel(\"Error Rate\")\n",
    "axes[1, 1].legend(loc=\"best\")\n",
    "\n",
    "axes[1, 0].plot([i for i in kRange], stds, \"go-\", label=\"Standard Deviation\")\n",
    "axes[1, 0].set_title(\"Naive Bayes K Fold Standard Deviation Error\")\n",
    "axes[1, 0].set_xlabel(\"k Folds\")\n",
    "axes[1, 0].set_ylabel(\"Error Rate\")\n",
    "axes[1, 0].legend(loc=\"best\")\n",
    "plt.show()"
   ]
  },
  {
   "cell_type": "markdown",
   "metadata": {},
   "source": [
    "### Playground"
   ]
  },
  {
   "cell_type": "code",
   "execution_count": null,
   "metadata": {},
   "outputs": [],
   "source": [
    "r = ut.injectMinoritySample([\"Ultra Beast\", \"Legendary\"], \"Group\", data)"
   ]
  },
  {
   "cell_type": "code",
   "execution_count": null,
   "metadata": {},
   "outputs": [],
   "source": [
    "r[target].value_counts()"
   ]
  },
  {
   "cell_type": "code",
   "execution_count": null,
   "metadata": {
    "scrolled": true
   },
   "outputs": [],
   "source": [
    "# Get data profile\n",
    "profile = pdp.ProfileReport(dataWithDummies)\n",
    "profile.to_file(\"Profile.html\")\n",
    "profile = None\n",
    "gc.collect()"
   ]
  }
 ],
 "metadata": {
  "kernelspec": {
   "display_name": "Python 3",
   "language": "python",
   "name": "python3"
  },
  "language_info": {
   "codemirror_mode": {
    "name": "ipython",
    "version": 3
   },
   "file_extension": ".py",
   "mimetype": "text/x-python",
   "name": "python",
   "nbconvert_exporter": "python",
   "pygments_lexer": "ipython3",
   "version": "3.7.1"
  }
 },
 "nbformat": 4,
 "nbformat_minor": 2
}
