{
 "cells": [
  {
   "cell_type": "markdown",
   "metadata": {},
   "source": [
    "# Using Decision Tree & Naive Bayes to classify Legendary Pokemon"
   ]
  },
  {
   "cell_type": "markdown",
   "metadata": {},
   "source": [
    "## Import libraries"
   ]
  },
  {
   "cell_type": "code",
   "execution_count": 1,
   "metadata": {
    "scrolled": true
   },
   "outputs": [],
   "source": [
    "import gc\n",
    "import time\n",
    "import math\n",
    "import numpy as np\n",
    "import pandas as pd\n",
    "import pandas_profiling as pdp\n",
    "import matplotlib.pyplot as plt\n",
    "# from sklearn.feature_extraction import FeatureHasher\n",
    "# from sklearn.preprocessing import StandardScaler\n",
    "# from sklearn.decomposition import PCA\n",
    "import utils as ut\n",
    "import decisionTree as dt\n",
    "import naiveBayes as nb\n",
    "\n",
    "%matplotlib inline\n",
    "%load_ext autoreload\n",
    "%autoreload 2"
   ]
  },
  {
   "cell_type": "code",
   "execution_count": 120,
   "metadata": {},
   "outputs": [],
   "source": [
    "%reload_ext autoreload"
   ]
  },
  {
   "cell_type": "code",
   "execution_count": null,
   "metadata": {},
   "outputs": [],
   "source": [
    "# Set packages options\n",
    "# np.set_printoptions(threshold=np.nan)\n",
    "pd.set_option(\"display.max_columns\", 600)\n",
    "plt.rcParams[\"figure.figsize\"] = (11, 6)"
   ]
  },
  {
   "cell_type": "markdown",
   "metadata": {},
   "source": [
    "## Define constants and functions"
   ]
  },
  {
   "cell_type": "code",
   "execution_count": 2,
   "metadata": {},
   "outputs": [],
   "source": [
    "# Constants\n",
    "TypeColorMappings = {\"Water\": \"#6890F0\", \"Fire\": \"#F08030\", \"Grass\": \"#78C850\",\n",
    "                     \"Dark\": \"#705848\", \"Electric\": \"#F8D030\", \"Flying\": \"#A890F0\",\n",
    "                     \"Normal\": \"#A8A878\", \"Fighting\": \"#C03028\", \"Poison\": \"#A040A0\",\n",
    "                     \"Ground\": \"#E0C068\", \"Psychic\": \"#F85888\", \"Rock\": \"#B8A038\", \n",
    "                     \"Ice\": \"#98D8D8\", \"Bug\": \"#A8B820\", \"Dragon\": \"#7038F8\", \n",
    "                     \"Ghost\": \"#705898\", \"Steel\": \"#B8B8D0\", \"Fairy\": \"#EE99AC\"}\n",
    "\n",
    "# DropColumns = [\"Pokedex#\", \"Name\", \"Type 1\", \"Type 2\", \"Generation\", \"Ability 1\", \"Ability 2\", \"Ability 3\", \n",
    "#                \"EggGroup 1\", \"EggGroup 2\", \"Category\", \"Height (m)\", \"Weight (kg)\"]\n",
    "\n",
    "DropColumns = [\"Pokedex#\", \"Name\", \"Generation\", \"Category\"]\n",
    "\n",
    "def getColorList(typeCounts):\n",
    "    assert type(typeCounts) == pd.core.series.Series, \"Argument must be a Series object\"\n",
    "    return [TypeColorMappings[pokemonType] for pokemonType in typeCounts.index]\n",
    "\n",
    "def getDistinctValues(dataFrame, columnName, sep):\n",
    "    result = []\n",
    "    for value in dataFrame[columnName].value_counts().index:\n",
    "        result += value.split(sep)\n",
    "    return set(result)"
   ]
  },
  {
   "cell_type": "markdown",
   "metadata": {},
   "source": [
    "## Load the data from file"
   ]
  },
  {
   "cell_type": "code",
   "execution_count": 3,
   "metadata": {
    "scrolled": true
   },
   "outputs": [
    {
     "data": {
      "text/html": [
       "<div>\n",
       "<style scoped>\n",
       "    .dataframe tbody tr th:only-of-type {\n",
       "        vertical-align: middle;\n",
       "    }\n",
       "\n",
       "    .dataframe tbody tr th {\n",
       "        vertical-align: top;\n",
       "    }\n",
       "\n",
       "    .dataframe thead th {\n",
       "        text-align: right;\n",
       "    }\n",
       "</style>\n",
       "<table border=\"1\" class=\"dataframe\">\n",
       "  <thead>\n",
       "    <tr style=\"text-align: right;\">\n",
       "      <th></th>\n",
       "      <th>Generation</th>\n",
       "      <th>Pokedex#</th>\n",
       "      <th>Name</th>\n",
       "      <th>Category</th>\n",
       "      <th>Type 1</th>\n",
       "      <th>Type 2</th>\n",
       "      <th>Ability 1</th>\n",
       "      <th>Ability 2</th>\n",
       "      <th>Ability 3</th>\n",
       "      <th>MaleRatio</th>\n",
       "      <th>...</th>\n",
       "      <th>EggGroup 1</th>\n",
       "      <th>EggGroup 2</th>\n",
       "      <th>HP</th>\n",
       "      <th>Attack</th>\n",
       "      <th>Defense</th>\n",
       "      <th>Sp.Attack</th>\n",
       "      <th>Sp.Defense</th>\n",
       "      <th>Speed</th>\n",
       "      <th>Total</th>\n",
       "      <th>Group</th>\n",
       "    </tr>\n",
       "  </thead>\n",
       "  <tbody>\n",
       "    <tr>\n",
       "      <th>0</th>\n",
       "      <td>1.0</td>\n",
       "      <td>1.0</td>\n",
       "      <td>Bulbasaur</td>\n",
       "      <td>Seed Pokemon</td>\n",
       "      <td>Grass</td>\n",
       "      <td>Poison</td>\n",
       "      <td>Chlorophyll</td>\n",
       "      <td>Overgrow</td>\n",
       "      <td>None</td>\n",
       "      <td>87.5</td>\n",
       "      <td>...</td>\n",
       "      <td>Monster</td>\n",
       "      <td>Grass</td>\n",
       "      <td>45.0</td>\n",
       "      <td>49.0</td>\n",
       "      <td>49.0</td>\n",
       "      <td>65.0</td>\n",
       "      <td>65.0</td>\n",
       "      <td>45.0</td>\n",
       "      <td>318</td>\n",
       "      <td>Ordinary</td>\n",
       "    </tr>\n",
       "    <tr>\n",
       "      <th>1</th>\n",
       "      <td>1.0</td>\n",
       "      <td>2.0</td>\n",
       "      <td>Ivysaur</td>\n",
       "      <td>Seed Pokemon</td>\n",
       "      <td>Grass</td>\n",
       "      <td>Poison</td>\n",
       "      <td>Chlorophyll</td>\n",
       "      <td>Overgrow</td>\n",
       "      <td>None</td>\n",
       "      <td>87.5</td>\n",
       "      <td>...</td>\n",
       "      <td>Monster</td>\n",
       "      <td>Grass</td>\n",
       "      <td>60.0</td>\n",
       "      <td>62.0</td>\n",
       "      <td>63.0</td>\n",
       "      <td>80.0</td>\n",
       "      <td>80.0</td>\n",
       "      <td>60.0</td>\n",
       "      <td>405</td>\n",
       "      <td>Ordinary</td>\n",
       "    </tr>\n",
       "    <tr>\n",
       "      <th>2</th>\n",
       "      <td>6.0</td>\n",
       "      <td>3.0</td>\n",
       "      <td>Mega Venusaur</td>\n",
       "      <td>Seed Pokemon</td>\n",
       "      <td>Grass</td>\n",
       "      <td>Poison</td>\n",
       "      <td>Thick Fat</td>\n",
       "      <td>None</td>\n",
       "      <td>None</td>\n",
       "      <td>87.5</td>\n",
       "      <td>...</td>\n",
       "      <td>Monster</td>\n",
       "      <td>Grass</td>\n",
       "      <td>80.0</td>\n",
       "      <td>100.0</td>\n",
       "      <td>123.0</td>\n",
       "      <td>122.0</td>\n",
       "      <td>120.0</td>\n",
       "      <td>80.0</td>\n",
       "      <td>625</td>\n",
       "      <td>Ordinary</td>\n",
       "    </tr>\n",
       "    <tr>\n",
       "      <th>3</th>\n",
       "      <td>1.0</td>\n",
       "      <td>3.0</td>\n",
       "      <td>Venusaur</td>\n",
       "      <td>Seed Pokemon</td>\n",
       "      <td>Grass</td>\n",
       "      <td>Poison</td>\n",
       "      <td>Chlorophyll</td>\n",
       "      <td>Overgrow</td>\n",
       "      <td>None</td>\n",
       "      <td>87.5</td>\n",
       "      <td>...</td>\n",
       "      <td>Monster</td>\n",
       "      <td>Grass</td>\n",
       "      <td>80.0</td>\n",
       "      <td>82.0</td>\n",
       "      <td>83.0</td>\n",
       "      <td>100.0</td>\n",
       "      <td>100.0</td>\n",
       "      <td>80.0</td>\n",
       "      <td>525</td>\n",
       "      <td>Ordinary</td>\n",
       "    </tr>\n",
       "    <tr>\n",
       "      <th>4</th>\n",
       "      <td>1.0</td>\n",
       "      <td>4.0</td>\n",
       "      <td>Charmander</td>\n",
       "      <td>Lizard Pokemon</td>\n",
       "      <td>Fire</td>\n",
       "      <td>None</td>\n",
       "      <td>Blaze</td>\n",
       "      <td>Solar Power</td>\n",
       "      <td>None</td>\n",
       "      <td>87.5</td>\n",
       "      <td>...</td>\n",
       "      <td>Monster</td>\n",
       "      <td>Dragon</td>\n",
       "      <td>39.0</td>\n",
       "      <td>52.0</td>\n",
       "      <td>43.0</td>\n",
       "      <td>60.0</td>\n",
       "      <td>50.0</td>\n",
       "      <td>65.0</td>\n",
       "      <td>309</td>\n",
       "      <td>Ordinary</td>\n",
       "    </tr>\n",
       "  </tbody>\n",
       "</table>\n",
       "<p>5 rows × 23 columns</p>\n",
       "</div>"
      ],
      "text/plain": [
       "   Generation  Pokedex#           Name        Category Type 1  Type 2  \\\n",
       "0         1.0       1.0      Bulbasaur    Seed Pokemon  Grass  Poison   \n",
       "1         1.0       2.0        Ivysaur    Seed Pokemon  Grass  Poison   \n",
       "2         6.0       3.0  Mega Venusaur    Seed Pokemon  Grass  Poison   \n",
       "3         1.0       3.0       Venusaur    Seed Pokemon  Grass  Poison   \n",
       "4         1.0       4.0     Charmander  Lizard Pokemon   Fire    None   \n",
       "\n",
       "     Ability 1    Ability 2 Ability 3  MaleRatio    ...     EggGroup 1  \\\n",
       "0  Chlorophyll     Overgrow      None       87.5    ...        Monster   \n",
       "1  Chlorophyll     Overgrow      None       87.5    ...        Monster   \n",
       "2    Thick Fat         None      None       87.5    ...        Monster   \n",
       "3  Chlorophyll     Overgrow      None       87.5    ...        Monster   \n",
       "4        Blaze  Solar Power      None       87.5    ...        Monster   \n",
       "\n",
       "   EggGroup 2    HP Attack Defense  Sp.Attack  Sp.Defense  Speed  Total  \\\n",
       "0       Grass  45.0   49.0    49.0       65.0        65.0   45.0    318   \n",
       "1       Grass  60.0   62.0    63.0       80.0        80.0   60.0    405   \n",
       "2       Grass  80.0  100.0   123.0      122.0       120.0   80.0    625   \n",
       "3       Grass  80.0   82.0    83.0      100.0       100.0   80.0    525   \n",
       "4      Dragon  39.0   52.0    43.0       60.0        50.0   65.0    309   \n",
       "\n",
       "      Group  \n",
       "0  Ordinary  \n",
       "1  Ordinary  \n",
       "2  Ordinary  \n",
       "3  Ordinary  \n",
       "4  Ordinary  \n",
       "\n",
       "[5 rows x 23 columns]"
      ]
     },
     "execution_count": 3,
     "metadata": {},
     "output_type": "execute_result"
    }
   ],
   "source": [
    "# Load the Pokemon data\n",
    "fileName = r'.\\Pokemon_Cleaned.tsv'\n",
    "columnTypes = {\"Name\": str, \"Category\": str, \"Type 1\": str, \"Type 2\": str, \n",
    "               \"Ability 1\": str, \"Ability 2\": str, \"Ability 3\": str, \"Group\": str}\n",
    "data = pd.read_csv(fileName, header=0, sep='\\t', dtype=columnTypes).fillna(\"None\")\n",
    "data.head()"
   ]
  },
  {
   "cell_type": "markdown",
   "metadata": {},
   "source": [
    "## Plot graphs to visualize and understand the data"
   ]
  },
  {
   "cell_type": "code",
   "execution_count": null,
   "metadata": {},
   "outputs": [],
   "source": [
    "# Plot Group occurences to see the distributions\n",
    "groupFig, groupAxes = plt.subplots(nrows=1, ncols=1)\n",
    "groupCounts = data[\"Group\"].value_counts()\n",
    "groupAxe = groupCounts.plot(title=\"Group\", kind=\"bar\")\n",
    "groupAxe.set(xlabel=\"Group Types\", ylabel=\"Count\")"
   ]
  },
  {
   "cell_type": "code",
   "execution_count": null,
   "metadata": {
    "scrolled": false
   },
   "outputs": [],
   "source": [
    "# Box plot Total & Group\n",
    "data.boxplot(\"Total\", \"Group\")"
   ]
  },
  {
   "cell_type": "markdown",
   "metadata": {},
   "source": [
    "<p> According to the boxplot above, we can see that despite having a small quanity in size, Legendary Pokemon has the highest Total stats compared to the other 2 groups.</p>"
   ]
  },
  {
   "cell_type": "markdown",
   "metadata": {},
   "source": [
    "## PCA"
   ]
  },
  {
   "cell_type": "code",
   "execution_count": null,
   "metadata": {},
   "outputs": [],
   "source": [
    "reducedData = data.drop(DropColumns, axis=1)\n",
    "# dummies = pd.get_dummies(data[[\"Type 1\", \"Type 2\", \"Ability 1\", \"Ability 2\", \"Ability 3\", \"EggGroup 1\", \"EggGroup 2\"]])\n",
    "# dataWithDummies = pd.concat([dummies, reducedData], axis=1, join_axes=[reducedData.index])\n",
    "\n",
    "# x = dataWithDummies.loc[:, dataWithDummies.columns != \"Group\"]\n",
    "# y = dataWithDummies.loc[:, \"Group\"]\n",
    "\n",
    "# Scale the x data\n",
    "#x = StandardScaler().fit_transform(x)"
   ]
  },
  {
   "cell_type": "code",
   "execution_count": null,
   "metadata": {},
   "outputs": [],
   "source": [
    "pca = PCA(0.95)\n",
    "principalComponents = pca.fit_transform(x)\n",
    "width, height = principalComponents.shape\n",
    "principalDf = pd.DataFrame(data=principalComponents, columns=[\"pca %d\" % i for i in range(1, height + 1)])\n",
    "pcaData = pd.concat([principalDf, dataWithDummies[[\"Group\"]]], axis=1)\n",
    "\n",
    "xTrain = pcaData.sample(frac=0.5)"
   ]
  },
  {
   "cell_type": "code",
   "execution_count": null,
   "metadata": {
    "scrolled": true
   },
   "outputs": [],
   "source": [
    "# # Plot Type 1 and Type 2 occurences to see the distributions\n",
    "# typeFig, typeAxes = plt.subplots(nrows=3, ncols=1)\n",
    "# typeFig.subplots_adjust(top=3)\n",
    "\n",
    "# type1Counts = data[\"Type 1\"].value_counts()\n",
    "# type2Counts = data[\"Type 2\"].value_counts().drop(\"None\")\n",
    "# typesCounts = type1Counts.add(type2Counts, fill_value=0)\n",
    "\n",
    "# type1Counts.plot(title=\"Type 1 Occurrences\", kind=\"bar\", ax=typeAxes[0], color=getColorList(type1Counts))\n",
    "# type2Counts.plot(title=\"Type 2 Occurrences\", kind=\"bar\", ax=typeAxes[1], color=getColorList(type2Counts))\n",
    "# typesCounts.plot(title=\"Type 1 + 2 Occurrences\", kind=\"bar\", ax=typeAxes[2], color=getColorList(typesCounts))\n",
    "\n",
    "# fh = FeatureHasher(n_features=2, input_type=\"string\")\n",
    "# hashedFeature1 = fh.fit_transform(data[\"Type 1\"])\n",
    "# hashedFeature2 = fh.fit_transform(data[\"Type 2\"])\n",
    "\n",
    "# x = pd.concat([data[[\"Name\", \"Type 1\", \"Type 2\", \"Category\"]], pd.DataFrame(hashedFeature1.toarray())], axis=1)\n",
    "# x = pd.concat([x, pd.DataFrame(hashedFeature2.toarray())], axis=1)"
   ]
  },
  {
   "cell_type": "markdown",
   "metadata": {},
   "source": [
    "## Decision Tree"
   ]
  },
  {
   "cell_type": "code",
   "execution_count": null,
   "metadata": {
    "scrolled": true
   },
   "outputs": [],
   "source": [
    "reducedData = data.drop(DropColumns, axis=1)\n",
    "training, test = ut.splitData(reducedData, 0.60)\n",
    "dtree = dtree.DecisionTree(\"Group\")\n",
    "dtree.train(training)\n",
    "pred = dtree.classify(test)"
   ]
  },
  {
   "cell_type": "code",
   "execution_count": null,
   "metadata": {},
   "outputs": [],
   "source": [
    "matrix = ut.buildConfusionMatrix(pred, test[dtree.targetFeature], reducedData[dtree.targetFeature].unique())\n",
    "precisions, recalls = ut.getPrecisionsAndRecalls(matrix, reducedData[dtree.targetFeature].unique())\n",
    "fScores = ut.computeFScores(precisions, recalls)"
   ]
  },
  {
   "cell_type": "code",
   "execution_count": null,
   "metadata": {},
   "outputs": [],
   "source": [
    "fScores"
   ]
  },
  {
   "cell_type": "code",
   "execution_count": null,
   "metadata": {},
   "outputs": [],
   "source": [
    "gc.collect()\n",
    "m = pd.DataFrame({\"bool\": [True, False, False], \"number\": [1,2,3]})\n",
    "isinstance(m.dtypes[\"bool\"].type, np.bool_)\n",
    "m.dtypes[\"bool\"].type == np.bool_"
   ]
  },
  {
   "cell_type": "markdown",
   "metadata": {},
   "source": [
    "### Naive Bayes"
   ]
  },
  {
   "cell_type": "code",
   "execution_count": 141,
   "metadata": {},
   "outputs": [],
   "source": [
    "import naiveBayes as nb"
   ]
  },
  {
   "cell_type": "code",
   "execution_count": 152,
   "metadata": {},
   "outputs": [],
   "source": [
    "reducedData = data.drop(DropColumns, axis=1)\n",
    "training, test = ut.splitData(reducedData, 0.60)\n",
    "# nBayes.train(training)"
   ]
  },
  {
   "cell_type": "code",
   "execution_count": 153,
   "metadata": {
    "scrolled": true
   },
   "outputs": [
    {
     "name": "stdout",
     "output_type": "stream",
     "text": [
      "51.14314115308151 23.390637017269572 3437.668283779008\n",
      "43.48906560636183 22.493433741333643 3179.0062667650286\n",
      "1.0554671968190854 0.9865252163061335 6.114997018006056\n",
      "49.50198807157058 79.26388322111586 39475.765321740924\n",
      "66.65407554671968 23.004148644772215 3325.00420401786\n",
      "76.91848906560637 31.34811793570606 6174.5144638299225\n",
      "71.22266401590457 29.102821621880878 5321.696014593641\n",
      "68.21868787276343 29.638591468742035 5519.439655378956\n",
      "67.63817097415507 25.159022013581392 3977.1079451449737\n",
      "64.43339960238569 28.86482850244321 5235.013806604703\n",
      "415.08548707753476 107.86114472757814 73098.74463167708\n",
      "8.653846153846153 27.513194421404158 4756.219647120293\n",
      "2.8846153846153846 15.382258492164231 1486.6888311671153\n",
      "2.098076923076923 1.6761873619611236 17.653263026684243\n",
      "155.4076923076923 202.96922382967603 258845.28008806144\n",
      "87.92307692307692 24.787604550793443 3860.548264666523\n",
      "109.76923076923077 33.457386056738244 7033.376783674813\n",
      "97.0576923076923 26.29278098309568 4343.630919624522\n",
      "116.5 34.74359864865503 7584.543864037194\n",
      "100.92307692307692 26.417348840462257 4384.8862385362545\n",
      "102.13461538461539 25.39262579858983 4051.30643397556\n",
      "614.3076923076923 90.70217120464538 51691.03580079594\n",
      "0.0 0.0 0.0\n"
     ]
    },
    {
     "ename": "ZeroDivisionError",
     "evalue": "float division by zero",
     "output_type": "error",
     "traceback": [
      "\u001b[1;31m---------------------------------------------------------------------------\u001b[0m",
      "\u001b[1;31mZeroDivisionError\u001b[0m                         Traceback (most recent call last)",
      "\u001b[1;32m<ipython-input-153-c0c58219d7a6>\u001b[0m in \u001b[0;36m<module>\u001b[1;34m\u001b[0m\n\u001b[0;32m      1\u001b[0m \u001b[0mnBayes\u001b[0m \u001b[1;33m=\u001b[0m \u001b[0mnb\u001b[0m\u001b[1;33m.\u001b[0m\u001b[0mNaiveBayes\u001b[0m\u001b[1;33m(\u001b[0m\u001b[1;34m\"Group\"\u001b[0m\u001b[1;33m)\u001b[0m\u001b[1;33m\u001b[0m\u001b[1;33m\u001b[0m\u001b[0m\n\u001b[1;32m----> 2\u001b[1;33m \u001b[0md\u001b[0m \u001b[1;33m=\u001b[0m \u001b[0mnBayes\u001b[0m\u001b[1;33m.\u001b[0m\u001b[0mtrain\u001b[0m\u001b[1;33m(\u001b[0m\u001b[0mtraining\u001b[0m\u001b[1;33m)\u001b[0m\u001b[1;33m\u001b[0m\u001b[1;33m\u001b[0m\u001b[0m\n\u001b[0m\u001b[0;32m      3\u001b[0m \u001b[1;31m# nBayes._getFeatureType(data, \"Name\")\u001b[0m\u001b[1;33m\u001b[0m\u001b[1;33m\u001b[0m\u001b[1;33m\u001b[0m\u001b[0m\n",
      "\u001b[1;32m~\\Desktop\\UCR\\Fall 2018\\CS 235\\Project\\PokemonDatamining\\predictors\\naiveBayes.py\u001b[0m in \u001b[0;36mtrain\u001b[1;34m(self, dataFrame)\u001b[0m\n\u001b[0;32m     11\u001b[0m         \u001b[1;32mdef\u001b[0m \u001b[0mtrain\u001b[0m\u001b[1;33m(\u001b[0m\u001b[0mself\u001b[0m\u001b[1;33m,\u001b[0m \u001b[0mdataFrame\u001b[0m\u001b[1;33m)\u001b[0m\u001b[1;33m:\u001b[0m\u001b[1;33m\u001b[0m\u001b[1;33m\u001b[0m\u001b[0m\n\u001b[0;32m     12\u001b[0m                 \u001b[0mpriorProbabilities\u001b[0m \u001b[1;33m=\u001b[0m \u001b[0mself\u001b[0m\u001b[1;33m.\u001b[0m\u001b[0m_getPriorProbabilities\u001b[0m\u001b[1;33m(\u001b[0m\u001b[0mdataFrame\u001b[0m\u001b[1;33m)\u001b[0m\u001b[1;33m\u001b[0m\u001b[1;33m\u001b[0m\u001b[0m\n\u001b[1;32m---> 13\u001b[1;33m                 \u001b[1;32mreturn\u001b[0m \u001b[0mself\u001b[0m\u001b[1;33m.\u001b[0m\u001b[0m_getConditionalProbabilities\u001b[0m\u001b[1;33m(\u001b[0m\u001b[0mdataFrame\u001b[0m\u001b[1;33m)\u001b[0m\u001b[1;33m\u001b[0m\u001b[1;33m\u001b[0m\u001b[0m\n\u001b[0m\u001b[0;32m     14\u001b[0m                 \u001b[1;31m# print(priorProbabilities)\u001b[0m\u001b[1;33m\u001b[0m\u001b[1;33m\u001b[0m\u001b[1;33m\u001b[0m\u001b[0m\n\u001b[0;32m     15\u001b[0m                 \u001b[1;31m# print(super()._getFeatureType(dataFrame, \"Group\"))\u001b[0m\u001b[1;33m\u001b[0m\u001b[1;33m\u001b[0m\u001b[1;33m\u001b[0m\u001b[0m\n",
      "\u001b[1;32m~\\Desktop\\UCR\\Fall 2018\\CS 235\\Project\\PokemonDatamining\\predictors\\naiveBayes.py\u001b[0m in \u001b[0;36m_getConditionalProbabilities\u001b[1;34m(self, dataFrame)\u001b[0m\n\u001b[0;32m     68\u001b[0m                                         \u001b[0mprint\u001b[0m\u001b[1;33m(\u001b[0m\u001b[0mmean\u001b[0m\u001b[1;33m,\u001b[0m \u001b[0mstd\u001b[0m\u001b[1;33m,\u001b[0m \u001b[1;36m2\u001b[0m \u001b[1;33m*\u001b[0m \u001b[1;33m(\u001b[0m\u001b[0mstd\u001b[0m\u001b[1;33m**\u001b[0m\u001b[1;36m2\u001b[0m\u001b[1;33m)\u001b[0m \u001b[1;33m*\u001b[0m \u001b[0mmath\u001b[0m\u001b[1;33m.\u001b[0m\u001b[0mpi\u001b[0m\u001b[1;33m)\u001b[0m\u001b[1;33m\u001b[0m\u001b[1;33m\u001b[0m\u001b[0m\n\u001b[0;32m     69\u001b[0m \u001b[1;33m\u001b[0m\u001b[0m\n\u001b[1;32m---> 70\u001b[1;33m                                         \u001b[0moperand1\u001b[0m \u001b[1;33m=\u001b[0m \u001b[1;33m(\u001b[0m\u001b[1;36m1\u001b[0m \u001b[1;33m/\u001b[0m \u001b[1;33m(\u001b[0m\u001b[0mmath\u001b[0m\u001b[1;33m.\u001b[0m\u001b[0msqrt\u001b[0m\u001b[1;33m(\u001b[0m\u001b[1;36m2\u001b[0m \u001b[1;33m*\u001b[0m \u001b[1;33m(\u001b[0m\u001b[0mstd\u001b[0m\u001b[1;33m**\u001b[0m\u001b[1;36m2\u001b[0m\u001b[1;33m)\u001b[0m \u001b[1;33m*\u001b[0m \u001b[0mmath\u001b[0m\u001b[1;33m.\u001b[0m\u001b[0mpi\u001b[0m\u001b[1;33m)\u001b[0m\u001b[1;33m)\u001b[0m\u001b[1;33m)\u001b[0m\u001b[1;33m\u001b[0m\u001b[1;33m\u001b[0m\u001b[0m\n\u001b[0m\u001b[0;32m     71\u001b[0m                                         \u001b[1;32mfor\u001b[0m \u001b[0mvalue\u001b[0m \u001b[1;32min\u001b[0m \u001b[0mlabelDataFrame\u001b[0m\u001b[1;33m[\u001b[0m\u001b[0mfeature\u001b[0m\u001b[1;33m]\u001b[0m\u001b[1;33m:\u001b[0m\u001b[1;33m\u001b[0m\u001b[1;33m\u001b[0m\u001b[0m\n\u001b[0;32m     72\u001b[0m                                                 \u001b[0moperand2\u001b[0m \u001b[1;33m=\u001b[0m \u001b[0mmath\u001b[0m\u001b[1;33m.\u001b[0m\u001b[0mexp\u001b[0m\u001b[1;33m(\u001b[0m\u001b[1;33m-\u001b[0m\u001b[1;33m(\u001b[0m\u001b[0mvalue\u001b[0m \u001b[1;33m-\u001b[0m \u001b[0mmean\u001b[0m\u001b[1;33m)\u001b[0m\u001b[1;33m**\u001b[0m\u001b[1;36m2\u001b[0m \u001b[1;33m/\u001b[0m \u001b[1;33m(\u001b[0m\u001b[1;36m2\u001b[0m \u001b[1;33m*\u001b[0m \u001b[0mstd\u001b[0m\u001b[1;33m**\u001b[0m\u001b[1;36m2\u001b[0m\u001b[1;33m)\u001b[0m\u001b[1;33m)\u001b[0m\u001b[1;33m\u001b[0m\u001b[1;33m\u001b[0m\u001b[0m\n",
      "\u001b[1;31mZeroDivisionError\u001b[0m: float division by zero"
     ]
    }
   ],
   "source": [
    "nBayes = nb.NaiveBayes(\"Group\")\n",
    "d = nBayes.train(training)\n",
    "# nBayes._getFeatureType(data, \"Name\")"
   ]
  },
  {
   "cell_type": "code",
   "execution_count": 149,
   "metadata": {},
   "outputs": [
    {
     "data": {
      "text/html": [
       "<div>\n",
       "<style scoped>\n",
       "    .dataframe tbody tr th:only-of-type {\n",
       "        vertical-align: middle;\n",
       "    }\n",
       "\n",
       "    .dataframe tbody tr th {\n",
       "        vertical-align: top;\n",
       "    }\n",
       "\n",
       "    .dataframe thead th {\n",
       "        text-align: right;\n",
       "    }\n",
       "</style>\n",
       "<table border=\"1\" class=\"dataframe\">\n",
       "  <thead>\n",
       "    <tr style=\"text-align: right;\">\n",
       "      <th></th>\n",
       "    </tr>\n",
       "  </thead>\n",
       "  <tbody>\n",
       "    <tr>\n",
       "      <th>Ordinary</th>\n",
       "    </tr>\n",
       "    <tr>\n",
       "      <th>Legendary</th>\n",
       "    </tr>\n",
       "    <tr>\n",
       "      <th>Ultra Beast</th>\n",
       "    </tr>\n",
       "  </tbody>\n",
       "</table>\n",
       "</div>"
      ],
      "text/plain": [
       "Empty DataFrame\n",
       "Columns: []\n",
       "Index: [Ordinary, Legendary, Ultra Beast]"
      ]
     },
     "execution_count": 149,
     "metadata": {},
     "output_type": "execute_result"
    }
   ],
   "source": [
    "d"
   ]
  },
  {
   "cell_type": "code",
   "execution_count": null,
   "metadata": {},
   "outputs": [],
   "source": [
    "for i in training[\"FemaleRatio\"]: print(i)"
   ]
  },
  {
   "cell_type": "code",
   "execution_count": null,
   "metadata": {},
   "outputs": [],
   "source": [
    "mean = training[\"FemaleRatio\"].mean()\n",
    "math.sqrt(sum(map(lambda x: (x-mean)**2, training[\"FemaleRatio\"])) / len(training))"
   ]
  },
  {
   "cell_type": "code",
   "execution_count": 54,
   "metadata": {},
   "outputs": [],
   "source": [
    "def filter(dataFrame, column, value):\n",
    "    return dataFrame[dataFrame[column] == value]"
   ]
  },
  {
   "cell_type": "code",
   "execution_count": 56,
   "metadata": {},
   "outputs": [
    {
     "data": {
      "text/plain": [
       "Ordinary     74\n",
       "Legendary     1\n",
       "Name: Group, dtype: int64"
      ]
     },
     "execution_count": 56,
     "metadata": {},
     "output_type": "execute_result"
    }
   ],
   "source": [
    "filter(training, \"Type 1\", \"Normal\")[\"Group\"].value_counts()"
   ]
  },
  {
   "cell_type": "code",
   "execution_count": 50,
   "metadata": {},
   "outputs": [
    {
     "data": {
      "text/plain": [
       "Ordinary       495\n",
       "Legendary       61\n",
       "Ultra Beast      7\n",
       "Name: Group, dtype: int64"
      ]
     },
     "execution_count": 50,
     "metadata": {},
     "output_type": "execute_result"
    }
   ],
   "source": [
    "training[\"Group\"].value_counts()"
   ]
  },
  {
   "cell_type": "code",
   "execution_count": 51,
   "metadata": {},
   "outputs": [
    {
     "data": {
      "text/plain": [
       "Normal      75\n",
       "Water       71\n",
       "Bug         51\n",
       "Grass       48\n",
       "Psychic     39\n",
       "Fire        37\n",
       "Rock        30\n",
       "Electric    29\n",
       "Poison      25\n",
       "Ground      24\n",
       "Dragon      24\n",
       "Dark        23\n",
       "Fairy       19\n",
       "Steel       18\n",
       "Fighting    18\n",
       "Ice         15\n",
       "Ghost       14\n",
       "Flying       3\n",
       "Name: Type 1, dtype: int64"
      ]
     },
     "execution_count": 51,
     "metadata": {},
     "output_type": "execute_result"
    }
   ],
   "source": [
    "training[\"Type 1\"].value_counts()"
   ]
  },
  {
   "cell_type": "markdown",
   "metadata": {},
   "source": [
    "### Plot Error Rate"
   ]
  },
  {
   "cell_type": "code",
   "execution_count": null,
   "metadata": {
    "scrolled": true
   },
   "outputs": [],
   "source": [
    "ratios = [0.2, 0.4, 0.6, 0.8]\n",
    "dt = DecisionTree(\"Group\")\n",
    "x = []\n",
    "y = []\n",
    "\n",
    "for ratio in ratios:\n",
    "    print(\"************ Split ratio: \", ratio)\n",
    "    training, test = splitData(data, ratio)\n",
    "    node = dt.train(training)\n",
    "    predictions = dt.classify(test, node)\n",
    "    error = computeError(predictions, test[dt.targetFeature])\n",
    "    \n",
    "    x.append(len(training))\n",
    "    y.append(error)"
   ]
  },
  {
   "cell_type": "code",
   "execution_count": null,
   "metadata": {},
   "outputs": [],
   "source": [
    "plt.plot(x, y, 'bo-', label=\"With categorical and continuous features\")\n",
    "plt.xlabel(\"Trainging Set size\")\n",
    "plt.ylabel(\"Error Rate\")\n",
    "plt.legend(loc=\"best\")"
   ]
  },
  {
   "cell_type": "code",
   "execution_count": null,
   "metadata": {
    "scrolled": true
   },
   "outputs": [],
   "source": [
    "# Get data profile\n",
    "profile = pdp.ProfileReport(dataWithDummies)\n",
    "profile.to_file(\"Profile.html\")\n",
    "profile = None\n",
    "gc.collect()"
   ]
  }
 ],
 "metadata": {
  "kernelspec": {
   "display_name": "Python 3",
   "language": "python",
   "name": "python3"
  },
  "language_info": {
   "codemirror_mode": {
    "name": "ipython",
    "version": 3
   },
   "file_extension": ".py",
   "mimetype": "text/x-python",
   "name": "python",
   "nbconvert_exporter": "python",
   "pygments_lexer": "ipython3",
   "version": "3.7.1"
  }
 },
 "nbformat": 4,
 "nbformat_minor": 2
}
