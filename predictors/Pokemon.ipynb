{
 "cells": [
  {
   "cell_type": "code",
   "execution_count": 1,
   "metadata": {
    "scrolled": true
   },
   "outputs": [],
   "source": [
    "import gc\n",
    "import ast\n",
    "import math\n",
    "import numpy as np\n",
    "import pandas as pd\n",
    "import pandas_profiling as pdp\n",
    "import matplotlib.pyplot as plt\n",
    "from sklearn.feature_extraction import FeatureHasher"
   ]
  },
  {
   "cell_type": "code",
   "execution_count": 94,
   "metadata": {},
   "outputs": [],
   "source": [
    "%matplotlib inline"
   ]
  },
  {
   "cell_type": "code",
   "execution_count": 2,
   "metadata": {},
   "outputs": [],
   "source": [
    "# Set packages options\n",
    "#np.set_printoptions(threshold=np.nan)\n",
    "plt.rcParams[\"figure.figsize\"] = (12, 12)"
   ]
  },
  {
   "cell_type": "code",
   "execution_count": 3,
   "metadata": {},
   "outputs": [],
   "source": [
    "# Constants\n",
    "TypeColorMappings = {\"Water\": \"#6890F0\", \"Fire\": \"#F08030\", \"Grass\": \"#78C850\",\n",
    "                     \"Dark\": \"#705848\", \"Electric\": \"#F8D030\", \"Flying\": \"#A890F0\",\n",
    "                     \"Normal\": \"#A8A878\", \"Fighting\": \"#C03028\", \"Poison\": \"#A040A0\",\n",
    "                     \"Ground\": \"#E0C068\", \"Psychic\": \"#F85888\", \"Rock\": \"#B8A038\", \n",
    "                     \"Ice\": \"#98D8D8\", \"Bug\": \"#A8B820\", \"Dragon\": \"#7038F8\", \n",
    "                     \"Ghost\": \"#705898\", \"Steel\": \"#B8B8D0\", \"Fairy\": \"#EE99AC\"}\n",
    "\n",
    "def getColorList(typeCounts):\n",
    "    assert type(typeCounts) == pd.core.series.Series, \"Argument must be a Series object\"\n",
    "    return [TypeColorMappings[pokemonType] for pokemonType in typeCounts.index]\n",
    "\n",
    "def getDistinctValues(dataFrame, columnName, sep):\n",
    "    result = []\n",
    "    for value in dataFrame[columnName].value_counts().index:\n",
    "        result += value.split(sep)\n",
    "\n",
    "    return set(result)"
   ]
  },
  {
   "cell_type": "code",
   "execution_count": 22,
   "metadata": {
    "scrolled": true
   },
   "outputs": [],
   "source": [
    "# Load the Pokemon data\n",
    "fileName = r'.\\Pokemon_Cleaned.tsv'\n",
    "data = pd.read_csv(fileName, header=0, sep='\\t')\n",
    "\n",
    "# Transform list of abilities and egg groups to \"string\" numeric values\n",
    "eggGroups = getDistinctValues(data, \"EggGroups\", \"---\")\n",
    "abilities = getDistinctValues(data, \"Abilities\", \"---\")\n",
    "\n",
    "eggGroupsMappings = {}\n",
    "for i, eg in enumerate(eggGroups): eggGroupsMappings[eg] = i    \n",
    "    \n",
    "abilitiesMappings = {}\n",
    "for i, abil in enumerate(abilities): abilitiesMappings[abil] = i\n",
    "    \n",
    "for i in range(len(data)):\n",
    "    numberStr = \"\"\n",
    "    values = sorted([abilitiesMappings[abil] for abil in data.loc[i, \"Abilities\"].split(\"---\")])\n",
    "    val = ''.join(map(lambda x: str(x).zfill(3), values))\n",
    "    data.loc[i, \"Abilities\"] = val\n",
    "\n",
    "for i in range(len(data)):\n",
    "    numberStr = \"\"\n",
    "    values = sorted([eggGroupsMappings[eg] for eg in data.loc[i, \"EggGroups\"].split(\"---\")])\n",
    "    val = ''.join(map(lambda x: str(x).zfill(3), values))\n",
    "    data.loc[i, \"EggGroups\"] = val"
   ]
  },
  {
   "cell_type": "code",
   "execution_count": 33,
   "metadata": {},
   "outputs": [],
   "source": [
    "d = pd.Series(abilitiesMappings)"
   ]
  },
  {
   "cell_type": "code",
   "execution_count": 48,
   "metadata": {},
   "outputs": [],
   "source": [
    "reducedData = data.drop([\"Pokedex#\", \"Generation\", \"Name\", \"Category\", \"Height (m)\", \"Weight (kg)\"], axis=1)"
   ]
  },
  {
   "cell_type": "code",
   "execution_count": 88,
   "metadata": {},
   "outputs": [],
   "source": [
    "fh = FeatureHasher(n_features=4, input_type=\"string\")\n",
    "hashedFeature = fh.fit_transform(data[\"Category\"])\n",
    "x = pd.concat([data[[\"Name\", \"Category\"]], pd.DataFrame(hashedFeature.toarray())], axis=1)"
   ]
  },
  {
   "cell_type": "code",
   "execution_count": null,
   "metadata": {
    "scrolled": true
   },
   "outputs": [],
   "source": [
    "# Plot Type 1 and Type 2 occurences to see the distributions\n",
    "typeFig, typeAxes = plt.subplots(nrows=3, ncols=1)\n",
    "typeFig.subplots_adjust(top=1.9)\n",
    "\n",
    "type1Counts = data[\"Type 1\"].value_counts()\n",
    "type2Counts = data[\"Type 2\"].value_counts().drop(\"None\")\n",
    "typesCounts = type1Counts.add(type2Counts, fill_value=0)\n",
    "\n",
    "type1Counts.plot(title=\"Type 1 Occurrences\", kind=\"bar\", ax=typeAxes[0], color=getColorList(type1Counts))\n",
    "type2Counts.plot(title=\"Type 2 Occurrences\", kind=\"bar\", ax=typeAxes[1], color=getColorList(type2Counts))\n",
    "typesCounts.plot(title=\"Type 1 + 2 Occurrences\", kind=\"bar\", ax=typeAxes[2], color=getColorList(typesCounts))"
   ]
  },
  {
   "cell_type": "code",
   "execution_count": null,
   "metadata": {
    "scrolled": true
   },
   "outputs": [],
   "source": [
    "# Plot Group occurences to see the distributions\n",
    "groupFig, groupAxes = plt.subplots(nrows=1, ncols=1)\n",
    "groupCounts = data[\"Group\"].value_counts()\n",
    "groupAxe = groupCounts.plot(title=\"Group\", kind=\"bar\")\n",
    "groupAxe.set(xlabel=\"Group Types\", ylabel=\"Count\")"
   ]
  },
  {
   "cell_type": "code",
   "execution_count": null,
   "metadata": {},
   "outputs": [],
   "source": [
    "# Decision Tree"
   ]
  },
  {
   "cell_type": "code",
   "execution_count": null,
   "metadata": {
    "scrolled": true
   },
   "outputs": [],
   "source": [
    "# Get data profile\n",
    "profile = pdp.ProfileReport(data)\n",
    "profile.to_file(\"Profile.html\")\n",
    "profile = None\n",
    "gc.collect()"
   ]
  }
 ],
 "metadata": {
  "kernelspec": {
   "display_name": "Python 3",
   "language": "python",
   "name": "python3"
  },
  "language_info": {
   "codemirror_mode": {
    "name": "ipython",
    "version": 3
   },
   "file_extension": ".py",
   "mimetype": "text/x-python",
   "name": "python",
   "nbconvert_exporter": "python",
   "pygments_lexer": "ipython3",
   "version": "3.7.1"
  }
 },
 "nbformat": 4,
 "nbformat_minor": 2
}
