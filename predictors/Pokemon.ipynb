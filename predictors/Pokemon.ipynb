{
 "cells": [
  {
   "cell_type": "markdown",
   "metadata": {},
   "source": [
    "# Using Decision Tree & Naive Bayes to classify Legendary Pokemon"
   ]
  },
  {
   "cell_type": "markdown",
   "metadata": {},
   "source": [
    "## Import libraries"
   ]
  },
  {
   "cell_type": "code",
   "execution_count": 126,
   "metadata": {
    "scrolled": true
   },
   "outputs": [],
   "source": [
    "import gc\n",
    "import time\n",
    "import math\n",
    "import numpy as np\n",
    "import pandas as pd\n",
    "import pandas_profiling as pdp\n",
    "import matplotlib.pyplot as plt\n",
    "# from sklearn.feature_extraction import FeatureHasher\n",
    "# from sklearn.preprocessing import StandardScaler\n",
    "# from sklearn.decomposition import PCA\n",
    "from decisionTree import *\n",
    "\n",
    "%matplotlib inline\n",
    "%load_ext autoreload\n",
    "%autoreload 2"
   ]
  },
  {
   "cell_type": "code",
   "execution_count": 2,
   "metadata": {},
   "outputs": [],
   "source": [
    "# Set packages options\n",
    "# np.set_printoptions(threshold=np.nan)\n",
    "pd.set_option(\"display.max_columns\", 600)\n",
    "plt.rcParams[\"figure.figsize\"] = (11, 6)"
   ]
  },
  {
   "cell_type": "markdown",
   "metadata": {},
   "source": [
    "## Define constants and functions"
   ]
  },
  {
   "cell_type": "code",
   "execution_count": 3,
   "metadata": {},
   "outputs": [],
   "source": [
    "# Constants\n",
    "TypeColorMappings = {\"Water\": \"#6890F0\", \"Fire\": \"#F08030\", \"Grass\": \"#78C850\",\n",
    "                     \"Dark\": \"#705848\", \"Electric\": \"#F8D030\", \"Flying\": \"#A890F0\",\n",
    "                     \"Normal\": \"#A8A878\", \"Fighting\": \"#C03028\", \"Poison\": \"#A040A0\",\n",
    "                     \"Ground\": \"#E0C068\", \"Psychic\": \"#F85888\", \"Rock\": \"#B8A038\", \n",
    "                     \"Ice\": \"#98D8D8\", \"Bug\": \"#A8B820\", \"Dragon\": \"#7038F8\", \n",
    "                     \"Ghost\": \"#705898\", \"Steel\": \"#B8B8D0\", \"Fairy\": \"#EE99AC\"}\n",
    "\n",
    "DropColumns = [\"Pokedex#\", \"Name\", \"Type 1\", \"Type 2\", \"Generation\", \"Ability 1\", \"Ability 2\", \"Ability 3\", \n",
    "               \"EggGroup 1\", \"EggGroup 2\", \"Category\", \"Height (m)\", \"Weight (kg)\"]\n",
    "\n",
    "def getColorList(typeCounts):\n",
    "    assert type(typeCounts) == pd.core.series.Series, \"Argument must be a Series object\"\n",
    "    return [TypeColorMappings[pokemonType] for pokemonType in typeCounts.index]\n",
    "\n",
    "def getDistinctValues(dataFrame, columnName, sep):\n",
    "    result = []\n",
    "    for value in dataFrame[columnName].value_counts().index:\n",
    "        result += value.split(sep)\n",
    "    return set(result)"
   ]
  },
  {
   "cell_type": "markdown",
   "metadata": {},
   "source": [
    "## Load the data from file"
   ]
  },
  {
   "cell_type": "code",
   "execution_count": 4,
   "metadata": {
    "scrolled": true
   },
   "outputs": [
    {
     "data": {
      "text/html": [
       "<div>\n",
       "<style scoped>\n",
       "    .dataframe tbody tr th:only-of-type {\n",
       "        vertical-align: middle;\n",
       "    }\n",
       "\n",
       "    .dataframe tbody tr th {\n",
       "        vertical-align: top;\n",
       "    }\n",
       "\n",
       "    .dataframe thead th {\n",
       "        text-align: right;\n",
       "    }\n",
       "</style>\n",
       "<table border=\"1\" class=\"dataframe\">\n",
       "  <thead>\n",
       "    <tr style=\"text-align: right;\">\n",
       "      <th></th>\n",
       "      <th>Generation</th>\n",
       "      <th>Pokedex#</th>\n",
       "      <th>Name</th>\n",
       "      <th>Category</th>\n",
       "      <th>Type 1</th>\n",
       "      <th>Type 2</th>\n",
       "      <th>Ability 1</th>\n",
       "      <th>Ability 2</th>\n",
       "      <th>Ability 3</th>\n",
       "      <th>MaleRatio</th>\n",
       "      <th>FemaleRatio</th>\n",
       "      <th>Height (m)</th>\n",
       "      <th>Weight (kg)</th>\n",
       "      <th>EggGroup 1</th>\n",
       "      <th>EggGroup 2</th>\n",
       "      <th>HP</th>\n",
       "      <th>Attack</th>\n",
       "      <th>Defense</th>\n",
       "      <th>Sp.Attack</th>\n",
       "      <th>Sp.Defense</th>\n",
       "      <th>Speed</th>\n",
       "      <th>Total</th>\n",
       "      <th>Group</th>\n",
       "    </tr>\n",
       "  </thead>\n",
       "  <tbody>\n",
       "    <tr>\n",
       "      <th>0</th>\n",
       "      <td>1.0</td>\n",
       "      <td>1.0</td>\n",
       "      <td>Bulbasaur</td>\n",
       "      <td>Seed Pokemon</td>\n",
       "      <td>Grass</td>\n",
       "      <td>Poison</td>\n",
       "      <td>Chlorophyll</td>\n",
       "      <td>Overgrow</td>\n",
       "      <td>None</td>\n",
       "      <td>87.5</td>\n",
       "      <td>12.5</td>\n",
       "      <td>0.7</td>\n",
       "      <td>6.9</td>\n",
       "      <td>Monster</td>\n",
       "      <td>Grass</td>\n",
       "      <td>45.0</td>\n",
       "      <td>49.0</td>\n",
       "      <td>49.0</td>\n",
       "      <td>65.0</td>\n",
       "      <td>65.0</td>\n",
       "      <td>45.0</td>\n",
       "      <td>318</td>\n",
       "      <td>Ordinary</td>\n",
       "    </tr>\n",
       "    <tr>\n",
       "      <th>1</th>\n",
       "      <td>1.0</td>\n",
       "      <td>2.0</td>\n",
       "      <td>Ivysaur</td>\n",
       "      <td>Seed Pokemon</td>\n",
       "      <td>Grass</td>\n",
       "      <td>Poison</td>\n",
       "      <td>Chlorophyll</td>\n",
       "      <td>Overgrow</td>\n",
       "      <td>None</td>\n",
       "      <td>87.5</td>\n",
       "      <td>12.5</td>\n",
       "      <td>1.0</td>\n",
       "      <td>13.0</td>\n",
       "      <td>Monster</td>\n",
       "      <td>Grass</td>\n",
       "      <td>60.0</td>\n",
       "      <td>62.0</td>\n",
       "      <td>63.0</td>\n",
       "      <td>80.0</td>\n",
       "      <td>80.0</td>\n",
       "      <td>60.0</td>\n",
       "      <td>405</td>\n",
       "      <td>Ordinary</td>\n",
       "    </tr>\n",
       "    <tr>\n",
       "      <th>2</th>\n",
       "      <td>6.0</td>\n",
       "      <td>3.0</td>\n",
       "      <td>Mega Venusaur</td>\n",
       "      <td>Seed Pokemon</td>\n",
       "      <td>Grass</td>\n",
       "      <td>Poison</td>\n",
       "      <td>Thick Fat</td>\n",
       "      <td>None</td>\n",
       "      <td>None</td>\n",
       "      <td>87.5</td>\n",
       "      <td>12.5</td>\n",
       "      <td>2.0</td>\n",
       "      <td>100.0</td>\n",
       "      <td>Monster</td>\n",
       "      <td>Grass</td>\n",
       "      <td>80.0</td>\n",
       "      <td>100.0</td>\n",
       "      <td>123.0</td>\n",
       "      <td>122.0</td>\n",
       "      <td>120.0</td>\n",
       "      <td>80.0</td>\n",
       "      <td>625</td>\n",
       "      <td>Ordinary</td>\n",
       "    </tr>\n",
       "    <tr>\n",
       "      <th>3</th>\n",
       "      <td>1.0</td>\n",
       "      <td>3.0</td>\n",
       "      <td>Venusaur</td>\n",
       "      <td>Seed Pokemon</td>\n",
       "      <td>Grass</td>\n",
       "      <td>Poison</td>\n",
       "      <td>Chlorophyll</td>\n",
       "      <td>Overgrow</td>\n",
       "      <td>None</td>\n",
       "      <td>87.5</td>\n",
       "      <td>12.5</td>\n",
       "      <td>2.0</td>\n",
       "      <td>100.0</td>\n",
       "      <td>Monster</td>\n",
       "      <td>Grass</td>\n",
       "      <td>80.0</td>\n",
       "      <td>82.0</td>\n",
       "      <td>83.0</td>\n",
       "      <td>100.0</td>\n",
       "      <td>100.0</td>\n",
       "      <td>80.0</td>\n",
       "      <td>525</td>\n",
       "      <td>Ordinary</td>\n",
       "    </tr>\n",
       "    <tr>\n",
       "      <th>4</th>\n",
       "      <td>1.0</td>\n",
       "      <td>4.0</td>\n",
       "      <td>Charmander</td>\n",
       "      <td>Lizard Pokemon</td>\n",
       "      <td>Fire</td>\n",
       "      <td>None</td>\n",
       "      <td>Blaze</td>\n",
       "      <td>Solar Power</td>\n",
       "      <td>None</td>\n",
       "      <td>87.5</td>\n",
       "      <td>12.5</td>\n",
       "      <td>0.6</td>\n",
       "      <td>8.5</td>\n",
       "      <td>Monster</td>\n",
       "      <td>Dragon</td>\n",
       "      <td>39.0</td>\n",
       "      <td>52.0</td>\n",
       "      <td>43.0</td>\n",
       "      <td>60.0</td>\n",
       "      <td>50.0</td>\n",
       "      <td>65.0</td>\n",
       "      <td>309</td>\n",
       "      <td>Ordinary</td>\n",
       "    </tr>\n",
       "  </tbody>\n",
       "</table>\n",
       "</div>"
      ],
      "text/plain": [
       "   Generation  Pokedex#           Name        Category Type 1  Type 2  \\\n",
       "0         1.0       1.0      Bulbasaur    Seed Pokemon  Grass  Poison   \n",
       "1         1.0       2.0        Ivysaur    Seed Pokemon  Grass  Poison   \n",
       "2         6.0       3.0  Mega Venusaur    Seed Pokemon  Grass  Poison   \n",
       "3         1.0       3.0       Venusaur    Seed Pokemon  Grass  Poison   \n",
       "4         1.0       4.0     Charmander  Lizard Pokemon   Fire    None   \n",
       "\n",
       "     Ability 1    Ability 2 Ability 3  MaleRatio  FemaleRatio  Height (m)  \\\n",
       "0  Chlorophyll     Overgrow      None       87.5         12.5         0.7   \n",
       "1  Chlorophyll     Overgrow      None       87.5         12.5         1.0   \n",
       "2    Thick Fat         None      None       87.5         12.5         2.0   \n",
       "3  Chlorophyll     Overgrow      None       87.5         12.5         2.0   \n",
       "4        Blaze  Solar Power      None       87.5         12.5         0.6   \n",
       "\n",
       "   Weight (kg) EggGroup 1 EggGroup 2    HP  Attack  Defense  Sp.Attack  \\\n",
       "0          6.9    Monster      Grass  45.0    49.0     49.0       65.0   \n",
       "1         13.0    Monster      Grass  60.0    62.0     63.0       80.0   \n",
       "2        100.0    Monster      Grass  80.0   100.0    123.0      122.0   \n",
       "3        100.0    Monster      Grass  80.0    82.0     83.0      100.0   \n",
       "4          8.5    Monster     Dragon  39.0    52.0     43.0       60.0   \n",
       "\n",
       "   Sp.Defense  Speed  Total     Group  \n",
       "0        65.0   45.0    318  Ordinary  \n",
       "1        80.0   60.0    405  Ordinary  \n",
       "2       120.0   80.0    625  Ordinary  \n",
       "3       100.0   80.0    525  Ordinary  \n",
       "4        50.0   65.0    309  Ordinary  "
      ]
     },
     "execution_count": 4,
     "metadata": {},
     "output_type": "execute_result"
    }
   ],
   "source": [
    "# Load the Pokemon data\n",
    "fileName = r'.\\Pokemon_Cleaned.tsv'\n",
    "columnTypes = {\"Name\": str, \"Category\": str, \"Type 1\": str, \"Type 2\": str, \n",
    "               \"Ability 1\": str, \"Ability 2\": str, \"Ability 3\": str, \"Group\": str}\n",
    "data = pd.read_csv(fileName, header=0, sep='\\t', dtype=columnTypes).fillna(\"None\")\n",
    "data.head()"
   ]
  },
  {
   "cell_type": "markdown",
   "metadata": {},
   "source": [
    "## Plot graphs to visualize and understand the data"
   ]
  },
  {
   "cell_type": "code",
   "execution_count": null,
   "metadata": {},
   "outputs": [],
   "source": [
    "# Plot Group occurences to see the distributions\n",
    "groupFig, groupAxes = plt.subplots(nrows=1, ncols=1)\n",
    "groupCounts = data[\"Group\"].value_counts()\n",
    "groupAxe = groupCounts.plot(title=\"Group\", kind=\"bar\")\n",
    "groupAxe.set(xlabel=\"Group Types\", ylabel=\"Count\")"
   ]
  },
  {
   "cell_type": "code",
   "execution_count": null,
   "metadata": {
    "scrolled": false
   },
   "outputs": [],
   "source": [
    "# Box plot Total & Group\n",
    "data.boxplot(\"Total\", \"Group\")"
   ]
  },
  {
   "cell_type": "markdown",
   "metadata": {},
   "source": [
    "<p> According to the boxplot above, we can see that despite having a small quanity in size, Legendary Pokemon has the highest Total stats compared to the other 2 groups.</p>"
   ]
  },
  {
   "cell_type": "markdown",
   "metadata": {},
   "source": [
    "## PCA"
   ]
  },
  {
   "cell_type": "code",
   "execution_count": null,
   "metadata": {},
   "outputs": [],
   "source": [
    "reducedData = data.drop(DropColumns, axis=1)\n",
    "# dummies = pd.get_dummies(data[[\"Type 1\", \"Type 2\", \"Ability 1\", \"Ability 2\", \"Ability 3\", \"EggGroup 1\", \"EggGroup 2\"]])\n",
    "# dataWithDummies = pd.concat([dummies, reducedData], axis=1, join_axes=[reducedData.index])\n",
    "\n",
    "# x = dataWithDummies.loc[:, dataWithDummies.columns != \"Group\"]\n",
    "# y = dataWithDummies.loc[:, \"Group\"]\n",
    "\n",
    "# Scale the x data\n",
    "#x = StandardScaler().fit_transform(x)"
   ]
  },
  {
   "cell_type": "code",
   "execution_count": null,
   "metadata": {},
   "outputs": [],
   "source": [
    "pca = PCA(0.95)\n",
    "principalComponents = pca.fit_transform(x)\n",
    "width, height = principalComponents.shape\n",
    "principalDf = pd.DataFrame(data=principalComponents, columns=[\"pca %d\" % i for i in range(1, height + 1)])\n",
    "pcaData = pd.concat([principalDf, dataWithDummies[[\"Group\"]]], axis=1)\n",
    "\n",
    "xTrain = pcaData.sample(frac=0.5)"
   ]
  },
  {
   "cell_type": "code",
   "execution_count": null,
   "metadata": {
    "scrolled": true
   },
   "outputs": [],
   "source": [
    "# # Plot Type 1 and Type 2 occurences to see the distributions\n",
    "# typeFig, typeAxes = plt.subplots(nrows=3, ncols=1)\n",
    "# typeFig.subplots_adjust(top=3)\n",
    "\n",
    "# type1Counts = data[\"Type 1\"].value_counts()\n",
    "# type2Counts = data[\"Type 2\"].value_counts().drop(\"None\")\n",
    "# typesCounts = type1Counts.add(type2Counts, fill_value=0)\n",
    "\n",
    "# type1Counts.plot(title=\"Type 1 Occurrences\", kind=\"bar\", ax=typeAxes[0], color=getColorList(type1Counts))\n",
    "# type2Counts.plot(title=\"Type 2 Occurrences\", kind=\"bar\", ax=typeAxes[1], color=getColorList(type2Counts))\n",
    "# typesCounts.plot(title=\"Type 1 + 2 Occurrences\", kind=\"bar\", ax=typeAxes[2], color=getColorList(typesCounts))\n",
    "\n",
    "# fh = FeatureHasher(n_features=2, input_type=\"string\")\n",
    "# hashedFeature1 = fh.fit_transform(data[\"Type 1\"])\n",
    "# hashedFeature2 = fh.fit_transform(data[\"Type 2\"])\n",
    "\n",
    "# x = pd.concat([data[[\"Name\", \"Type 1\", \"Type 2\", \"Category\"]], pd.DataFrame(hashedFeature1.toarray())], axis=1)\n",
    "# x = pd.concat([x, pd.DataFrame(hashedFeature2.toarray())], axis=1)"
   ]
  },
  {
   "cell_type": "markdown",
   "metadata": {},
   "source": [
    "## Decision Tree"
   ]
  },
  {
   "cell_type": "code",
   "execution_count": 129,
   "metadata": {},
   "outputs": [],
   "source": [
    "def elapsedTime(func):\n",
    "    def wrapper(*args, **kwargs):\n",
    "        timeStart = time.time()\n",
    "        result = func(*args, **kwargs)\n",
    "        elapsedTime = time.time() - timeStart\n",
    "        print(\"Elapsed time:\", elapsedTime, \"seconds\")\n",
    "        return result\n",
    "    return wrapper\n",
    "\n",
    "@elapsedTime\n",
    "def splitData(dataFrame, trainingRatio):\n",
    "    ''' '''\n",
    "    trainingSize = math.floor(len(dataFrame) * trainingRatio)\n",
    "    testSize = len(dataFrame) - trainingSize\n",
    "    training = dataFrame.sample(n=trainingSize, replace=False)\n",
    "    test = dataFrame.drop(training.index)\n",
    "    return training, test\n",
    "\n",
    "def computeError(predictions, actuals):\n",
    "    assert len(predictions) == len(actuals), \"Number of predictions and actuals must match\"\n",
    "    assert type(predictions) == type(actuals), \"Type of predictions and actuals must match\"\n",
    "    misClassified = 0\n",
    "    for i in predictions.index:\n",
    "        if (predictions[i] != actuals[i]):\n",
    "            misClassified += 1\n",
    "    return 1 - ((len(actuals) - misClassified) / len(actuals))\n",
    "\n",
    "def buildConfusionMatrix(predictions, actuals, features):\n",
    "    assert len(predictions) == len(actuals), \"Number of predictions and actuals must match\"\n",
    "    assert type(predictions) == type(actuals), \"Type of predictions and actuals must match\"\n",
    "    table = {}\n",
    "    features.sort()\n",
    "    \n",
    "    # Initialize the table with column header and cell values with 0\n",
    "    for feature in features:\n",
    "        table[feature] = [0 for i in range(len(features))]\n",
    "    \n",
    "    matrix = pd.DataFrame(data=table, index=features)\n",
    "    \n",
    "    # Count the misclassifications\n",
    "    for i in predictions.index:\n",
    "        if (predictions[i] == actuals[i]):\n",
    "            matrix.loc[predictions[i], predictions[i]] += 1\n",
    "        else:\n",
    "            matrix.loc[actuals[i], predictions[i]] += 1\n",
    "        \n",
    "    # Rename column names and row indeces for clarity\n",
    "    renamedColumns = {}\n",
    "    renamedRows = {}\n",
    "    for feature in features:\n",
    "        renamedColumns[feature] = \"Predicted \" + feature\n",
    "        renamedRows[feature] = \"Actual \" + feature\n",
    "    matrix.rename(columns=renamedColumns, index=renamedRows, inplace=True)\n",
    "    \n",
    "    # Add Total column and Total index\n",
    "    matrix[\"Total\"] = pd.Series([0 for i in range(len(features))], index=matrix.index)\n",
    "    matrix.loc[\"Total\"] = [0 for i in range(len(matrix.columns))]\n",
    "    \n",
    "    # Sum the Total values\n",
    "    for feature in features:\n",
    "        matrix.loc[\"Total\", \"Predicted \" + feature] = matrix[\"Predicted \" + feature].sum()\n",
    "        \n",
    "    for i in matrix.index:\n",
    "        matrix.loc[i, \"Total\"] = matrix.loc[i].sum()\n",
    "    \n",
    "    return matrix\n",
    "\n",
    "def getPrecisionsAndRecalls(confusionMatrix, features):\n",
    "    features.sort()\n",
    "    precisions = {}\n",
    "    recalls = {}\n",
    "    \n",
    "    for feature in features:\n",
    "        index = \"Actual \" + feature\n",
    "        column = \"Predicted \" + feature\n",
    "        \n",
    "        precision = confusionMatrix.loc[index, column] / confusionMatrix.loc[\"Total\", column]\n",
    "        precisions[feature] = precision\n",
    "        recall = confusionMatrix.loc[index, column] / confusionMatrix.loc[index, \"Total\"]\n",
    "        recalls[feature] = recall\n",
    "        \n",
    "    return precisions, recalls\n",
    "\n",
    "def kFoldSample(k, dataFrame):\n",
    "    subsetSize = int(len(dataFrame) / k)\n",
    "    subsetSizes = (subsetSize, subsetSize + len(dataFrame) % k)    \n",
    "    samples = []\n",
    "\n",
    "    for i in range(k):\n",
    "        randomSample = None\n",
    "        if (i < k - 1):\n",
    "            randomSample = dataFrame.sample(n=subsetSizes[0], replace=False)\n",
    "        else:\n",
    "            randomSample = dataFrame.sample(n=subsetSizes[1], replace=False)\n",
    "        dataFrame = dataFrame.drop(randomSample.index)\n",
    "        samples.append(randomSample)\n",
    "    return samples\n",
    "\n",
    "def kFoldCrossValidation(k, dataFrame, model):\n",
    "    samples = kFoldSample(k, dataFrame)\n",
    "    accuracies = []\n",
    "    \n",
    "    for i in range(len(samples)):\n",
    "        test = samples[i]\n",
    "        training = dataFrame.drop(test.index)\n",
    "        model.train(training)\n",
    "        predictions = model.classify(test)\n",
    "        accuracies.append(1 - computeError(predictions, test[model.targetFeature]))\n",
    "    return accuracies"
   ]
  },
  {
   "cell_type": "markdown",
   "metadata": {},
   "source": [
    "### Confusion Matrix"
   ]
  },
  {
   "cell_type": "code",
   "execution_count": 130,
   "metadata": {
    "scrolled": true
   },
   "outputs": [
    {
     "name": "stdout",
     "output_type": "stream",
     "text": [
      "Elapsed time: 0.0 seconds\n",
      "Wating for threads to complete\n",
      "Best feature: Ability 1 Best gain: 0.18404848484848482\n",
      "Best feature: None Best gain: 0.0\n",
      "Best feature: Defense Best gain: 0.18718655082291435\n",
      "Best feature: None Best gain: 0.0\n",
      "Best feature: FemaleRatio Best gain: 0.23964497041420116\n",
      "Best feature: None Best gain: 0.0\n",
      "Best feature: Generation Best gain: 0.375\n",
      "Best feature: None Best gain: 0.0\n",
      "Best feature: None Best gain: 0.0\n",
      "Best feature: Name Best gain: 0.0036427292825645134\n",
      "Best feature: None Best gain: 0.0\n",
      "Best feature: Name Best gain: 0.0036629043681236815\n",
      "Best feature: None Best gain: 0.0\n",
      "Best feature: Name Best gain: 0.0036832287142059056\n",
      "Best feature: None Best gain: 0.0\n",
      "Best feature: None Best gain: 0.0\n"
     ]
    }
   ],
   "source": [
    "training, test = splitData(data, 0.66)\n",
    "dt = DecisionTree(\"Group\")\n",
    "dt.train(training)\n",
    "# errors = kFoldCrossValidation(10, training, dt)\n",
    "predictions = dt.classify(test)"
   ]
  },
  {
   "cell_type": "code",
   "execution_count": 123,
   "metadata": {},
   "outputs": [
    {
     "data": {
      "text/plain": [
       "[0.016129032258064502,\n",
       " 0.0,\n",
       " 0.016129032258064502,\n",
       " 0.0,\n",
       " 0.0,\n",
       " 0.0,\n",
       " 0.0,\n",
       " 0.0,\n",
       " 0.016129032258064502,\n",
       " 0.0]"
      ]
     },
     "execution_count": 123,
     "metadata": {},
     "output_type": "execute_result"
    }
   ],
   "source": [
    "errors"
   ]
  },
  {
   "cell_type": "code",
   "execution_count": null,
   "metadata": {},
   "outputs": [],
   "source": [
    "matrix = buildConfusionMatrix(predictions, test[\"Group\"], test[\"Group\"].unique())\n",
    "matrix"
   ]
  },
  {
   "cell_type": "code",
   "execution_count": null,
   "metadata": {},
   "outputs": [],
   "source": [
    "getPrecisionsAndRecalls(matrix, test[\"Group\"].unique())"
   ]
  },
  {
   "cell_type": "markdown",
   "metadata": {},
   "source": [
    "### Plot Error Rate"
   ]
  },
  {
   "cell_type": "code",
   "execution_count": null,
   "metadata": {
    "scrolled": true
   },
   "outputs": [],
   "source": [
    "ratios = [0.2, 0.4, 0.6, 0.8]\n",
    "dt = DecisionTree(\"Group\")\n",
    "x = []\n",
    "y = []\n",
    "\n",
    "for ratio in ratios:\n",
    "    print(\"************ Split ratio: \", ratio)\n",
    "    training, test = splitData(data, ratio)\n",
    "    node = dt.train(training)\n",
    "    predictions = dt.classify(test, node)\n",
    "    error = computeError(predictions, test[dt.targetFeature])\n",
    "    \n",
    "    x.append(len(training))\n",
    "    y.append(error)"
   ]
  },
  {
   "cell_type": "code",
   "execution_count": null,
   "metadata": {},
   "outputs": [],
   "source": [
    "plt.plot(x, y, 'bo-', label=\"With categorical and continuous features\")\n",
    "plt.xlabel(\"Trainging Set size\")\n",
    "plt.ylabel(\"Error Rate\")\n",
    "plt.legend(loc=\"best\")"
   ]
  },
  {
   "cell_type": "code",
   "execution_count": null,
   "metadata": {
    "scrolled": true
   },
   "outputs": [],
   "source": [
    "# Get data profile\n",
    "profile = pdp.ProfileReport(dataWithDummies)\n",
    "profile.to_file(\"Profile.html\")\n",
    "profile = None\n",
    "gc.collect()"
   ]
  },
  {
   "cell_type": "code",
   "execution_count": 106,
   "metadata": {},
   "outputs": [],
   "source": [
    "from multiprocessing.pool import ThreadPool\n",
    "import time"
   ]
  },
  {
   "cell_type": "code",
   "execution_count": 114,
   "metadata": {},
   "outputs": [],
   "source": [
    "class Foo:\n",
    "    def foo(self, r):\n",
    "        for i in range(r):\n",
    "            print(\"Thread id:\", threading.current_thread(), i)\n",
    "            time.sleep(1)\n",
    "    \n",
    "    def start(self):\n",
    "\n",
    "        pool = ThreadPool(processes=2)\n",
    "        t1 = pool.apply_async(self.foo, (5,))\n",
    "        t2 = pool.apply_async(self.foo, (8,))\n",
    "\n",
    "        t1.wait()\n",
    "        t2.wait()\n",
    "        print(\"Complete\", t1.get(), t2.get())"
   ]
  },
  {
   "cell_type": "code",
   "execution_count": 116,
   "metadata": {},
   "outputs": [
    {
     "name": "stdout",
     "output_type": "stream",
     "text": [
      "Thread id:Thread id: <DummyProcess(Thread-52, started daemon 7500)> 0 <DummyProcess(Thread-53, started daemon 6920)> 0\n",
      "\n",
      "Thread id: <DummyProcess(Thread-53, started daemon 6920)> 1\n",
      "Thread id: <DummyProcess(Thread-52, started daemon 7500)> 1\n",
      "Thread id: <DummyProcess(Thread-53, started daemon 6920)> 2\n",
      "Thread id: <DummyProcess(Thread-52, started daemon 7500)> 2\n",
      "Thread id: <DummyProcess(Thread-53, started daemon 6920)> 3\n",
      "Thread id: <DummyProcess(Thread-52, started daemon 7500)> 3\n",
      "Thread id: <DummyProcess(Thread-53, started daemon 6920)> 4\n",
      "Thread id: <DummyProcess(Thread-52, started daemon 7500)> 4\n",
      "Thread id: <DummyProcess(Thread-53, started daemon 6920)> 5\n",
      "Thread id: <DummyProcess(Thread-53, started daemon 6920)> 6\n",
      "Thread id: <DummyProcess(Thread-53, started daemon 6920)> 7\n",
      "Complete None None\n"
     ]
    }
   ],
   "source": [
    "foo = Foo()\n",
    "foo.start()"
   ]
  }
 ],
 "metadata": {
  "kernelspec": {
   "display_name": "Python 3",
   "language": "python",
   "name": "python3"
  },
  "language_info": {
   "codemirror_mode": {
    "name": "ipython",
    "version": 3
   },
   "file_extension": ".py",
   "mimetype": "text/x-python",
   "name": "python",
   "nbconvert_exporter": "python",
   "pygments_lexer": "ipython3",
   "version": "3.7.1"
  }
 },
 "nbformat": 4,
 "nbformat_minor": 2
}
